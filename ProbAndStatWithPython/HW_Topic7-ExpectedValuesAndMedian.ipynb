{
 "cells": [
  {
   "cell_type": "markdown",
   "metadata": {},
   "source": [
    "# The median of independent repeated  sampling"
   ]
  },
  {
   "cell_type": "code",
   "execution_count": 1,
   "metadata": {},
   "outputs": [
    {
     "name": "stdout",
     "output_type": "stream",
     "text": [
      "Populating the interactive namespace from numpy and matplotlib\n"
     ]
    }
   ],
   "source": [
    "%pylab inline"
   ]
  },
  {
   "cell_type": "markdown",
   "metadata": {},
   "source": [
    "## The median of a distribution"
   ]
  },
  {
   "cell_type": "markdown",
   "metadata": {},
   "source": [
    "The median of a distribution $P$ is the value $m$ such that if $X\\sim P$, then $P(X\\le m)\\ge\\frac12$ and  $P(X\\ge m)\\ge\\frac12$. If multiple values satisfy this condition, the median is their average.\n",
    "\n",
    "For example, for the biased die with distribution given by\n",
    "<table>\n",
    "<tr><th>x</th><td>1</td><td>2</td><td>3</td><td>4</td><td>5</td><td>6</td></tr>\n",
    "<tr><th>$P_X$(x)</th><td>0.1</td><td>0.2</td><td>0.1</td><td>0.3</td><td>0.1</td><td>0.2</td></tr>\n",
    "</table>\n",
    "Since $P(X\\le 4)=0.7\\ge 0.5$ and $P(X\\ge 4)=0.6\\ge 0.5$, $m=4$.\n",
    "\n",
    "If the distribution was,\n",
    "<table>\n",
    "<tr><th>x</th><td>1</td><td>2</td><td>3</td><td>4</td><td>5</td><td>6</td></tr>\n",
    "<tr><th>$P_X$(x)</th><td>0.1</td><td>0.2</td><td>0.2</td><td>0.2</td><td>0.1</td><td>0.2</td></tr>\n",
    "</table>\n",
    "then both 3 and 4 satisfy the two conditions, and the median is 3.5. \n",
    "\n",
    "While writing the following functions, note that the distribution $P=[x_1,\\ldots x_k]$ represents $P_X(1)=x_1,\\ldots,P_X(k)=x_k$."
   ]
  },
  {
   "cell_type": "markdown",
   "metadata": {},
   "source": [
    "### Exercise 1"
   ]
  },
  {
   "cell_type": "markdown",
   "metadata": {},
   "source": [
    "Write a function <code><font color=\"blue\">median_cal</font>(P)</code> that returns the median given a distribution <code>P</code>.\n",
    "\n",
    "<font color=\"blue\">* **Sample run** *</font>\n",
    "```python\n",
    "print(median_cal([0.1 0.2 0.1 0.3 0.1 0.2]))\n",
    "print(median_cal([0.99 0.01])\n",
    "```\n",
    "<font color=\"magenta\">* **Expected Output** *</font>\n",
    "```python\n",
    "4\n",
    "1\n",
    "```"
   ]
  },
  {
   "cell_type": "code",
   "execution_count": 2,
   "metadata": {},
   "outputs": [],
   "source": [
    "def median_cal(P):\n",
    "    acc0ToVal = 0;\n",
    "    medianValues = []\n",
    "    i = 0;\n",
    "    for val in P:\n",
    "        i = i + 1;\n",
    "        acc0ToVal = acc0ToVal + val;\n",
    "        accValToEnd = 1 + val - acc0ToVal;\n",
    "        if (acc0ToVal >= 0.5 and accValToEnd >= 0.5):\n",
    "            medianValues.append(i);\n",
    "            \n",
    "    return sum(medianValues) / len(medianValues);"
   ]
  },
  {
   "cell_type": "code",
   "execution_count": 3,
   "metadata": {},
   "outputs": [],
   "source": [
    "#Check Function\n",
    "\n",
    "assert median_cal([0.99,0.1])==1\n",
    "assert median_cal([0.1,0.2,0.1,0.3,0.1,0.2])==4\n"
   ]
  },
  {
   "cell_type": "markdown",
   "metadata": {},
   "source": [
    "## Median of a sample "
   ]
  },
  {
   "cell_type": "markdown",
   "metadata": {},
   "source": [
    "If the distribution is given, as above, the median can be determined easily. In this problem we will learn how to approximate the median when the distribution is not given, but we are given samples that it generates. \n",
    "\n",
    "Similar to distributions, we can define the median of a set to be the set element $m'$ such that at least half the elements in the set are $\\le m'$ and at least half the numbers in the collection are $\\ge m'$. If two set elements satisfy this condition, then the median is their average. For example, the median of [3,2,5,5,2,4,1,5,4,4] is $4$ and the median of [2,1,5,3,3,5,4,2,4,5] is $3.5$.\n",
    "\n",
    "To find the median of a $P$ distribution via access only to samples\n",
    "it generates, we obtain $n$ samples from $P$, caluclate their median \n",
    "$M_n$, and then repeat the process many times and determine the average\n",
    "of all the medians. "
   ]
  },
  {
   "cell_type": "markdown",
   "metadata": {},
   "source": [
    "### Exercise 2"
   ]
  },
  {
   "cell_type": "markdown",
   "metadata": {},
   "source": [
    "Write a function <code><font color=\"blue\">sample_median</font>(n,P)</code> that generates <code>n</code> random values using distribution <code>P</code> and returns the median of the collected sample.\n",
    "\n",
    "Hint: Use function <b>random.choice()</b> to sample data from <code>P</code> and <b>median()</b> to find the median of the samples\n",
    "\n",
    "<font color=\"blue\">* **Sample run** *</font>\n",
    "```python\n",
    "print(sample_median(10,[0.1 0.2 0.1 0.3 0.1 0.2])) \n",
    "print(sample_median(10,[0.1 0.2 0.1 0.3 0.1 0.2]))\n",
    "print(sample_median(5,P=[0.3,0.7])\n",
    "print(sample_median(5,P=[0.3,0.7])\n",
    "```\n",
    "<font color=\"magenta\">* **Expected Output** *</font>\n",
    "```python\n",
    "4.5\n",
    "4.0\n",
    "2.0\n",
    "1.0\n",
    "```\n",
    "\n"
   ]
  },
  {
   "cell_type": "code",
   "execution_count": 4,
   "metadata": {},
   "outputs": [],
   "source": [
    "import random\n",
    "\n",
    "def get_accum(P):\n",
    "    accProb = [];\n",
    "    acc = 0;\n",
    "    for prob in P:\n",
    "        acc = acc + prob;\n",
    "        accProb.append(acc);\n",
    "        \n",
    "    # I had to disable this check because there were some invalid distribution\n",
    "    # definitions on the quiz time. This should be enabled for real use.\n",
    "    #if (acc != 1):\n",
    "        #raise ValueError(\"The distribution probability accumulated doesn't sum to 1.\");\n",
    "    \n",
    "    return accProb;\n",
    "\n",
    "def custom_rng(accProb):\n",
    "    randomNum = random.random();\n",
    "    for j in range(len(accProb)):\n",
    "        if(randomNum <= accProb[j]):\n",
    "            return(j + 1);\n",
    "        \n",
    "        \n",
    "def get_custom_sample(n, P):\n",
    "    # Calculating accumulated probability.\n",
    "    accProb = get_accum(P);\n",
    "    \n",
    "    # Creating random sample from given distribution.\n",
    "    sampleSet = [];\n",
    "    for i in range(n):\n",
    "        sampleSet.append(custom_rng(accProb));\n",
    "        \n",
    "    return sampleSet;\n",
    "\n",
    "def sample_median(n,P, debugPrint=False):\n",
    "    distributionSize = len(P);\n",
    "    \n",
    "    sampleSet = get_custom_sample(n, P);\n",
    "    \n",
    "    # Counting the number of each element.\n",
    "    sampleProb = [0] * distributionSize;\n",
    "    for index in sampleSet:\n",
    "        sampleProb[index - 1] = sampleProb[index - 1] + 1;\n",
    "    \n",
    "    # Getting the ratio of each index on the sample as the sample probability.\n",
    "    sampleProb = list(map(lambda x: x / n, sampleProb));\n",
    "    \n",
    "    if (debugPrint):\n",
    "        print(\"Sample set ratio: {0}\".format(sampleProb));  \n",
    "        print(\"Median found: {0}\" .format(median_cal(sampleProb)));\n",
    "    \n",
    "    return median_cal(sampleProb);"
   ]
  },
  {
   "cell_type": "code",
   "execution_count": 5,
   "metadata": {},
   "outputs": [],
   "source": [
    "#Check Function\n",
    "\n",
    "assert abs(sample_median(10,[0.1,0.2,0.3,0.2,0.2])-3)<=1\n",
    "assert abs(sample_median(25,[0.2,0.1,0.2,0.3,0.1,0.1])-3)<=1\n",
    "assert abs(sample_median(10,[0.1, 0.2, 0.1, 0.3, 0.1, 0.2])-4)<=1\n"
   ]
  },
  {
   "cell_type": "code",
   "execution_count": 6,
   "metadata": {},
   "outputs": [
    {
     "name": "stdout",
     "output_type": "stream",
     "text": [
      "Normal n:\n",
      "Sample set ratio: [0.1, 0.2, 0.3, 0.1, 0.3]\n",
      "Median found: 3.0\n",
      "Sample set ratio: [0.2, 0.12, 0.16, 0.36, 0.08, 0.08]\n",
      "Median found: 4.0\n",
      "Sample set ratio: [0.0, 0.3, 0.0, 0.2, 0.1, 0.4]\n",
      "Median found: 4.5\n",
      "\n",
      "n * 100:\n",
      "Sample set ratio: [0.106, 0.206, 0.28, 0.208, 0.2]\n",
      "Median found: 3.0\n",
      "Sample set ratio: [0.2132, 0.0968, 0.2004, 0.2924, 0.0996, 0.0976]\n",
      "Median found: 3.0\n",
      "Sample set ratio: [0.104, 0.204, 0.104, 0.28, 0.099, 0.209]\n",
      "Median found: 4.0\n"
     ]
    }
   ],
   "source": [
    "# Note that with smaller N values we get a low confidence on the sample set.\n",
    "# If we increase N, the sample ratios will become closer with the real distribution.\n",
    "\n",
    "print(\"Normal n:\");\n",
    "assert abs(sample_median(10,[0.1,0.2,0.3,0.2,0.2], True)-3)<=1\n",
    "assert abs(sample_median(25,[0.2,0.1,0.2,0.3,0.1,0.1], True)-3)<=1\n",
    "assert abs(sample_median(10,[0.1, 0.2, 0.1, 0.3, 0.1, 0.2], True)-4)<=1\n",
    "print(\"\");\n",
    "print(\"n * 100:\");\n",
    "assert abs(sample_median(1000,[0.1,0.2,0.3,0.2,0.2], True)-3)<=1\n",
    "assert abs(sample_median(2500,[0.2,0.1,0.2,0.3,0.1,0.1], True)-3)<=1\n",
    "assert abs(sample_median(1000,[0.1, 0.2, 0.1, 0.3, 0.1, 0.2], True)-4)<=1\n"
   ]
  },
  {
   "cell_type": "markdown",
   "metadata": {},
   "source": [
    "### Exercise 3 "
   ]
  },
  {
   "cell_type": "markdown",
   "metadata": {},
   "source": [
    "Write a function <code><font color=\"blue\">expected_cal</font>(P)</code> that finds the expected value of the distribution P."
   ]
  },
  {
   "cell_type": "code",
   "execution_count": 7,
   "metadata": {},
   "outputs": [],
   "source": [
    "def expected_cal(P):\n",
    "    expectedValue = 0;\n",
    "    i = 0;\n",
    "    for prob in P:\n",
    "        i = i + 1;\n",
    "        expectedValue = expectedValue + i * prob;\n",
    "    \n",
    "    return expectedValue;"
   ]
  },
  {
   "cell_type": "code",
   "execution_count": 8,
   "metadata": {},
   "outputs": [],
   "source": [
    "#Check function\n",
    "\n",
    "assert expected_cal([0.25,0.25,0.25,0.25])==2.5\n",
    "assert expected_cal([0.3,0.4,0.3])==2"
   ]
  },
  {
   "cell_type": "markdown",
   "metadata": {},
   "source": [
    "### Exercise 4"
   ]
  },
  {
   "cell_type": "markdown",
   "metadata": {},
   "source": [
    "In this exercise, we explore the relationship between the distribution median $m$, the sample median with $n$ samples, and $E[M_n]$,the expected value of $M_n$. \n",
    "\n",
    "Write a function <code><font color=\"blue\">average_sample_median</font>(n,P)</code>, that return the average $M_n$ of 1000 samples of size <code>n</code> sampled from the distribution <code>P</code>.\n",
    "\n",
    "<font color=\"blue\">* **Sample run** *</font>\n",
    "```python\n",
    "print(average_sample_median(10,[0.2,0.1,0.15,0.15,0.2,0.2])) \n",
    "print(average_sample_median(10,[0.3,0.4,0.3]))\n",
    "print(average_sample_median(10,P=[0.99,0.01])\n",
    "```\n",
    "<font color=\"magenta\">* **Expected Output** *</font>\n",
    "```python\n",
    "3.7855\n",
    "2.004\n",
    "1\n",
    "```"
   ]
  },
  {
   "cell_type": "code",
   "execution_count": 9,
   "metadata": {},
   "outputs": [],
   "source": [
    "def average_sample_median(n,P):\n",
    "    medianAverage = 0;\n",
    "    for i in range(1000):\n",
    "        medianAverage = medianAverage + sample_median(n, P);\n",
    "        \n",
    "    return medianAverage / 1000;"
   ]
  },
  {
   "cell_type": "code",
   "execution_count": 10,
   "metadata": {},
   "outputs": [],
   "source": [
    "#Check function\n",
    "assert((average_sample_median(20,[0.4,0.6])-median_cal([0.4,0.6]))<=1e-3)\n",
    "assert((average_sample_median(200,[0.1,0.2,0.3,0.1,0.1,0.2])-median_cal([0.1,0.2,0.3,0.1,0.1,0.2]))<=1)"
   ]
  },
  {
   "cell_type": "code",
   "execution_count": 11,
   "metadata": {},
   "outputs": [
    {
     "name": "stdout",
     "output_type": "stream",
     "text": [
      "3.764\n",
      "1.984\n",
      "1.0\n"
     ]
    }
   ],
   "source": [
    "print(average_sample_median(10,[0.2,0.1,0.15,0.15,0.2,0.2])); \n",
    "print(average_sample_median(10,[0.3,0.4,0.3]));\n",
    "print(average_sample_median(10,P=[0.99,0.01]));"
   ]
  },
  {
   "cell_type": "markdown",
   "metadata": {},
   "source": [
    "## Quiz answers"
   ]
  },
  {
   "cell_type": "code",
   "execution_count": 12,
   "metadata": {},
   "outputs": [
    {
     "data": {
      "text/plain": [
       "5.0"
      ]
     },
     "execution_count": 12,
     "metadata": {},
     "output_type": "execute_result"
    }
   ],
   "source": [
    "median_cal([0.12,0.04,0.12,0.12,0.2,0.16,0.16,0.08])"
   ]
  },
  {
   "cell_type": "code",
   "execution_count": 13,
   "metadata": {},
   "outputs": [
    {
     "name": "stdout",
     "output_type": "stream",
     "text": [
      "4.0\n",
      "4.5\n",
      "5.0\n"
     ]
    }
   ],
   "source": [
    "print(sample_median(5, [0.12,0.04,0.12,0.12,0.2,0.16,0.16,0.08]))\n",
    "print(sample_median(50, [0.12,0.04,0.12,0.12,0.2,0.16,0.16,0.08]))\n",
    "print(sample_median(500, [0.12,0.04,0.12,0.12,0.2,0.16,0.16,0.08]))"
   ]
  },
  {
   "cell_type": "code",
   "execution_count": 14,
   "metadata": {},
   "outputs": [
    {
     "data": {
      "text/plain": [
       "4.76"
      ]
     },
     "execution_count": 14,
     "metadata": {},
     "output_type": "execute_result"
    }
   ],
   "source": [
    "expected_cal([0.12, 0.04, 0.12, 0.12, 0.2, 0.16, 0.16, 0.08])"
   ]
  },
  {
   "cell_type": "code",
   "execution_count": 15,
   "metadata": {},
   "outputs": [
    {
     "data": {
      "text/plain": [
       "4.9995"
      ]
     },
     "execution_count": 15,
     "metadata": {},
     "output_type": "execute_result"
    }
   ],
   "source": [
    "average_sample_median(100,[0.12, 0.04, 0.12, 0.12, 0.2, 0.16, 0.16, 0.08])"
   ]
  },
  {
   "cell_type": "code",
   "execution_count": 16,
   "metadata": {},
   "outputs": [
    {
     "data": {
      "text/plain": [
       "4.702"
      ]
     },
     "execution_count": 16,
     "metadata": {},
     "output_type": "execute_result"
    }
   ],
   "source": [
    "average_sample_median(1,[0.12, 0.04, 0.12, 0.12, 0.2, 0.16, 0.16, 0.08])"
   ]
  },
  {
   "cell_type": "code",
   "execution_count": null,
   "metadata": {},
   "outputs": [],
   "source": []
  }
 ],
 "metadata": {
  "kernelspec": {
   "display_name": "Python 3",
   "language": "python",
   "name": "python3"
  },
  "language_info": {
   "codemirror_mode": {
    "name": "ipython",
    "version": 3
   },
   "file_extension": ".py",
   "mimetype": "text/x-python",
   "name": "python",
   "nbconvert_exporter": "python",
   "pygments_lexer": "ipython3",
   "version": "3.6.5"
  },
  "toc": {
   "base_numbering": 1,
   "nav_menu": {},
   "number_sections": true,
   "sideBar": true,
   "skip_h1_title": false,
   "title_cell": "Table of Contents",
   "title_sidebar": "Contents",
   "toc_cell": false,
   "toc_position": {},
   "toc_section_display": true,
   "toc_window_display": false
  },
  "varInspector": {
   "cols": {
    "lenName": 16,
    "lenType": 16,
    "lenVar": 40
   },
   "kernels_config": {
    "python": {
     "delete_cmd_postfix": "",
     "delete_cmd_prefix": "del ",
     "library": "var_list.py",
     "varRefreshCmd": "print(var_dic_list())"
    },
    "r": {
     "delete_cmd_postfix": ") ",
     "delete_cmd_prefix": "rm(",
     "library": "var_list.r",
     "varRefreshCmd": "cat(var_dic_list()) "
    }
   },
   "types_to_exclude": [
    "module",
    "function",
    "builtin_function_or_method",
    "instance",
    "_Feature"
   ],
   "window_display": false
  }
 },
 "nbformat": 4,
 "nbformat_minor": 2
}
