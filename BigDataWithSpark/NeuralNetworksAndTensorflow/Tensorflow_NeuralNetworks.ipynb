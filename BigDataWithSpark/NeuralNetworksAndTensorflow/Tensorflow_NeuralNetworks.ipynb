{
 "cells": [
  {
   "cell_type": "markdown",
   "metadata": {
    "nbgrader": {
     "grade": false,
     "grade_id": "cell-158395db1eb13989",
     "locked": true,
     "schema_version": 1,
     "solution": false
    }
   },
   "source": [
    " **<font size=5>Programming Assignment 8: Neural Networks with Tensorflow</font>**"
   ]
  },
  {
   "cell_type": "markdown",
   "metadata": {
    "nbgrader": {
     "grade": false,
     "grade_id": "cell-c303936544fce875",
     "locked": true,
     "schema_version": 1,
     "solution": false
    }
   },
   "source": [
    "## Problem Statement\n",
    "\n",
    "In this programming assignment, you will write Tensorflow code to distinguish between a signal process which produces Higgs bosons and a background process which does not. We model this problem as a binary classification problem. \n",
    "\n",
    "Note: This assignment is not designed to make you a professional Tensorflow programmer, but rather to introduce you to, and make you practice, the basic constructs and functionalities of Tensorflow. "
   ]
  },
  {
   "cell_type": "markdown",
   "metadata": {
    "nbgrader": {
     "grade": false,
     "grade_id": "cell-9cedd227ae71fb17",
     "locked": true,
     "schema_version": 1,
     "solution": false
    }
   },
   "source": [
    "### CPU vs GPU\n",
    "\n",
    "You may want to read [this article](https://www.analyticsvidhya.com/blog/2017/05/gpus-necessary-for-deep-learning/) to know more about the CPU vs GPU discussion. This is totally optional, still highly recommended for those who are interested. \n",
    "\n",
    "You do not need to write any \"GPU specific\" code. Tensorflow automatically recognizes the underlying hardware, and optimizes your code to run accordingly.\n",
    "\n",
    "The most common bottleneck to training faster with a GPU is usually the speed at which data is fed to the GPU for processing. So the input data pipeline is an important construct when writing efficient, scalable code to train Neural networks using Tensorflow."
   ]
  },
  {
   "cell_type": "markdown",
   "metadata": {
    "nbgrader": {
     "grade": false,
     "grade_id": "cell-f87b642b5252980b",
     "locked": true,
     "schema_version": 1,
     "solution": false
    }
   },
   "source": [
    "### Dataset\n",
    "\n",
    "For this assignment, we will use sampled data from a well known dataset: [Higgs Dataset](https://archive.ics.uci.edu/ml/datasets/HIGGS). \n",
    "\n",
    "Some information regarding the data and the problem: \n",
    "\n",
    "This is a classification problem to distinguish between a signal process which produces Higgs bosons and a background process which does not. The data has been produced using Monte Carlo simulations. The first 21 features (columns 2-22) are kinematic properties measured by the particle detectors in the accelerator. The last seven features are functions of the first 21 features; these are high-level features derived by physicists to help discriminate between the two classes."
   ]
  },
  {
   "cell_type": "markdown",
   "metadata": {
    "nbgrader": {
     "grade": false,
     "grade_id": "cell-0f1b9f41248e8378",
     "locked": true,
     "schema_version": 1,
     "solution": false
    }
   },
   "source": [
    "The train and test files have the following characteristics:\n",
    "\n",
    "- The first row is a header that contains a comma-separated list of the names of the label and attributes\n",
    "- Each successive row represents a single example\n",
    "- The first column of each example is the label to be learned, and all other columns are attribute values.\n",
    "- All attributes are numerical i.e. real numbers."
   ]
  },
  {
   "cell_type": "markdown",
   "metadata": {
    "nbgrader": {
     "grade": false,
     "grade_id": "cell-fc620c75541dd80e",
     "locked": true,
     "schema_version": 1,
     "solution": false
    }
   },
   "source": [
    "### Testing and Evaluation\n",
    "\n",
    "\n",
    "For local testing and for two of the three submissions, you will use the small training and test datasets that have been provided along with this notebook. \n",
    "\n",
    "When submitting on EdX, your code will be trained and evaluated on a much larger sample of the full dataset. \n",
    "\n",
    "Some suggestions you should keep in mind while implementing the functions:\n",
    "\n",
    "- Avoid doing repeated work i.e. anything that could be done outside the loop, should be outside.\n",
    "- Read the markdown of this notebook carefully."
   ]
  },
  {
   "cell_type": "markdown",
   "metadata": {
    "nbgrader": {
     "grade": false,
     "grade_id": "cell-6995099148a8d8ee",
     "locked": true,
     "schema_version": 1,
     "solution": false
    }
   },
   "source": [
    "### Configuration File\n",
    "\n",
    "To make your code more robust, and to aid the process of grading your work, most of the required parameters for the network training and testing will come from a [YAML](http://yaml.org/) config file named \"nn_config.yaml\". \n",
    "\n",
    "This file is present in the same directory as the notebook. We have added default values to parameters, but you may modify them for debugging purposes. \n",
    "\n",
    "Information regarding what these variables mean, and how you should use them is present as comments in the yaml file. Information regarding how to read variables from the YAML config file is mentioned later in this notebook.\n",
    "\n",
    "However, remember that for grading your work we will use our own config files. So your code should always refer to variable values from the config file."
   ]
  },
  {
   "cell_type": "code",
   "execution_count": 1,
   "metadata": {
    "ExecuteTime": {
     "end_time": "2018-08-10T02:25:48.899006Z",
     "start_time": "2018-08-10T02:25:47.410094Z"
    },
    "nbgrader": {
     "grade": false,
     "grade_id": "cell-0e011b46c2ce211f",
     "locked": true,
     "schema_version": 1,
     "solution": false
    }
   },
   "outputs": [
    {
     "name": "stdout",
     "output_type": "stream",
     "text": [
      "## Training data file path\r\n",
      "training_data_path: /home/ubuntu/HW8/Data/higgs_train_large.csv\r\n",
      "\r\n",
      "## Testing data file path\r\n",
      "test_data_path: /home/ubuntu/HW8/Data/higgs_test_large.csv \r\n",
      "\r\n",
      "## Location in which you will save the pickle file containing predictions on test data\r\n",
      "output_predictions_pickle_path: ./test_predictions.pkl\r\n",
      "\r\n",
      "## How to split the input training data into train and validation sets. Value of 0.8 means that if there were initially 100 training examples in the input data, you should split them such that the first 80 are used as training examples and last 20 should be used for validation.\r\n",
      "training_to_validation_ratio: 0.8\r\n",
      "\r\n",
      "## the learning rate you should use for your optimizer \r\n",
      "learning_rate: 0.05\r\n",
      "\r\n",
      "## the total number of epochs or iterations to run over the (80) training examples\r\n",
      "epochs: 500\r\n",
      "\r\n",
      "## the number of mini batches in which you should split your training examples. Continuing with our example, if this value is 10, then each mini batch will have 8 training examples.\r\n",
      "num_mini_batches: 5\r\n",
      "\r\n",
      "## this variable is for your own use to modify when you would like to print any debug statements inside your training loop. For example, a value of 5 may suggest that you should print the training loss, validation loss, training accuracy and validation accuracy every 5 epochs.\r\n",
      "display_step: 20\r\n",
      "\r\n",
      "## the size of the network. If first_layer: 20 and second_layer: 8 then you should set the number of hidden units in first hidden layer and second layer to be 20 and 8 respectively.\r\n",
      "hidden_layer_sizes: \r\n",
      "    first_layer: 20\r\n",
      "    second_layer: 8\r\n",
      "\r\n",
      "## for grading purposes, you may ignore\r\n",
      "dataset_size: large\r\n",
      "grading_script_path: /home/ubuntu/HW8/grade_test_submission.py"
     ]
    }
   ],
   "source": [
    "# Let's look at the contents of the YAML config file\n",
    "!cat nn_config.yaml "
   ]
  },
  {
   "cell_type": "markdown",
   "metadata": {
    "nbgrader": {
     "grade": false,
     "grade_id": "cell-4a4e23526701b920",
     "locked": true,
     "schema_version": 1,
     "solution": false
    }
   },
   "source": [
    "## Gameplan\n",
    "\n",
    "You will write robust code that builds a feedforward neural network, and trains it according to the given set of parameters.\n",
    "\n",
    "1. We will first load the training and test data using the parameters from the config file.\n",
    "2. We will then split the training data into training and validation sets using the value of \"training_to_validation_ratio\" parameter in the config. \n",
    "    For example, if the param is 0.8, it means that the initial 80% of the data should be kept for training, while the rest 20% should be used for validation.\n",
    "3. We will use Cross Entropy Loss as our cost functions and minimize it using AdamOptimizer as our optimizer.\n",
    "4. We will train our model in batches inside our main training loop. You will divide the training data into `num_batches` number of mini batches and for each epoch you will iterate and train over those many number of batches.\n",
    "5. You can use \"display_step\" param to control the frequency of print statements.\n",
    "6. You will maintain a list of training accuracies and losses (one value for each epoch).\n",
    "7. You will maintain a list of validation accuracy and loss (one value for each epoch)."
   ]
  },
  {
   "cell_type": "markdown",
   "metadata": {
    "nbgrader": {
     "grade": false,
     "grade_id": "cell-c5dc5f0d1795d09a",
     "locked": true,
     "schema_version": 1,
     "solution": false
    }
   },
   "source": [
    "\n",
    "    The function tf.reduce_sum will allow you to sum across all instances.\n",
    "    "
   ]
  },
  {
   "cell_type": "markdown",
   "metadata": {
    "nbgrader": {
     "grade": false,
     "grade_id": "cell-2952f5d422d0d1e7",
     "locked": true,
     "schema_version": 1,
     "solution": false
    }
   },
   "source": [
    "5) You should train your network using your inputted learning rate and for the inputted number of iterations. The iterations are simply a loop that calls Backpropagation a fixed number of times."
   ]
  },
  {
   "cell_type": "markdown",
   "metadata": {},
   "source": [
    "## Initialization "
   ]
  },
  {
   "cell_type": "code",
   "execution_count": 2,
   "metadata": {
    "ExecuteTime": {
     "end_time": "2018-08-10T02:25:48.915658Z",
     "start_time": "2018-08-10T02:25:48.902115Z"
    },
    "nbgrader": {
     "grade": false,
     "grade_id": "cell-9c01b1c216ee0572",
     "locked": true,
     "schema_version": 1,
     "solution": false
    }
   },
   "outputs": [],
   "source": [
    "## Tensorflow produces a lot of warnings. We generally want to suppress them. The below code does exactly that. \n",
    "import warnings\n",
    "warnings.filterwarnings('ignore')"
   ]
  },
  {
   "cell_type": "code",
   "execution_count": 3,
   "metadata": {
    "ExecuteTime": {
     "end_time": "2018-08-10T02:25:57.523466Z",
     "start_time": "2018-08-10T02:25:48.926552Z"
    },
    "nbgrader": {
     "grade": false,
     "grade_id": "cell-a554a48f73f64b13",
     "locked": true,
     "schema_version": 1,
     "solution": false
    }
   },
   "outputs": [],
   "source": [
    "import tensorflow as tf\n",
    "import numpy as np\n",
    "from matplotlib import pyplot as plt\n",
    "\n",
    "## Pretty Print\n",
    "import pprint as pp"
   ]
  },
  {
   "cell_type": "code",
   "execution_count": 4,
   "metadata": {
    "ExecuteTime": {
     "end_time": "2018-08-10T02:25:57.552782Z",
     "start_time": "2018-08-10T02:25:57.535631Z"
    },
    "nbgrader": {
     "grade": false,
     "grade_id": "cell-d1e7a22edc0fe397",
     "locked": true,
     "schema_version": 1,
     "solution": false
    }
   },
   "outputs": [],
   "source": [
    "import yaml\n",
    "def import_config():\n",
    "    with open(\"nn_config.yaml\", 'r') as ymlfile:\n",
    "        try:\n",
    "            cfg = yaml.load(ymlfile)\n",
    "        except yaml.YAMLError as err:\n",
    "            print(err)\n",
    "    return cfg"
   ]
  },
  {
   "cell_type": "code",
   "execution_count": 5,
   "metadata": {
    "ExecuteTime": {
     "end_time": "2018-08-10T02:25:57.622662Z",
     "start_time": "2018-08-10T02:25:57.571006Z"
    },
    "nbgrader": {
     "grade": false,
     "grade_id": "cell-fbb7c3cab0be00a7",
     "locked": true,
     "schema_version": 1,
     "solution": false
    }
   },
   "outputs": [
    {
     "name": "stdout",
     "output_type": "stream",
     "text": [
      "Your hardware either does not have a GPU or is not configured to use the GPU version of TF.\n",
      "        However, you do not need a GPU for this assignment as you will be completing this assigment on a\n",
      "        CPU enviroment, but evaluating it on a GPU enviroment.\n"
     ]
    }
   ],
   "source": [
    "if 'session' in locals() and session is not None:\n",
    "    print('Close interactive session')\n",
    "    session.close()\n",
    "\n",
    "## The below function tests if Tensorflow has access to GPU or not.\n",
    "def test_cpu_gpu():\n",
    "    if tf.test.gpu_device_name():\n",
    "        print('Default GPU Device: {}'.format(tf.test.gpu_device_name()))\n",
    "    else:\n",
    "        print('''Your hardware either does not have a GPU or is not configured to use the GPU version of TF.\n",
    "        However, you do not need a GPU for this assignment as you will be completing this assigment on a\n",
    "        CPU enviroment, but evaluating it on a GPU enviroment.''')\n",
    "        \n",
    "test_cpu_gpu()"
   ]
  },
  {
   "cell_type": "code",
   "execution_count": 6,
   "metadata": {
    "ExecuteTime": {
     "end_time": "2018-08-10T02:25:57.691987Z",
     "start_time": "2018-08-10T02:25:57.624807Z"
    },
    "nbgrader": {
     "grade": false,
     "grade_id": "cell-4a59bb5add2fa75d",
     "locked": true,
     "schema_version": 1,
     "solution": false
    }
   },
   "outputs": [
    {
     "name": "stdout",
     "output_type": "stream",
     "text": [
      "{'dataset_size': 'large',\n",
      " 'display_step': 20,\n",
      " 'epochs': 500,\n",
      " 'grading_script_path': '/home/ubuntu/HW8/grade_test_submission.py',\n",
      " 'hidden_layer_sizes': {'first_layer': 20, 'second_layer': 8},\n",
      " 'learning_rate': 0.05,\n",
      " 'num_mini_batches': 5,\n",
      " 'output_predictions_pickle_path': './test_predictions.pkl',\n",
      " 'test_data_path': '/home/ubuntu/HW8/Data/higgs_test_large.csv',\n",
      " 'training_data_path': '/home/ubuntu/HW8/Data/higgs_train_large.csv',\n",
      " 'training_to_validation_ratio': 0.8}\n"
     ]
    }
   ],
   "source": [
    "cfg = import_config()\n",
    "\n",
    "## Is it loaded correctly?\n",
    "pp.pprint(cfg)"
   ]
  },
  {
   "cell_type": "markdown",
   "metadata": {},
   "source": [
    "## Reading in Data "
   ]
  },
  {
   "cell_type": "code",
   "execution_count": 7,
   "metadata": {
    "ExecuteTime": {
     "end_time": "2018-08-10T02:25:57.721386Z",
     "start_time": "2018-08-10T02:25:57.703724Z"
    },
    "nbgrader": {
     "grade": false,
     "grade_id": "cell-855db077a3fa0f0b",
     "locked": true,
     "schema_version": 1,
     "solution": false
    }
   },
   "outputs": [],
   "source": [
    "train_file_name = cfg['training_data_path']\n",
    "test_file_name = cfg['test_data_path']"
   ]
  },
  {
   "cell_type": "code",
   "execution_count": 8,
   "metadata": {
    "ExecuteTime": {
     "end_time": "2018-08-10T02:25:57.748942Z",
     "start_time": "2018-08-10T02:25:57.736023Z"
    }
   },
   "outputs": [],
   "source": [
    "# =========================================================================================== #\n",
    "# Uncomment this to test on smaller dataset. This is faster and can be used to debug quickly. #\n",
    "# PLEASE COMMENT THIS BEFORE SUBMITTING. YOUR NOTEBOOK IS EVALUATED ON LARGE DATASET.         #\n",
    "# =========================================================================================== #\n",
    "\n",
    "train_file_name = './Data/higgs_train_small.csv'\n",
    "test_file_name = './Data/higgs_test_small.csv'"
   ]
  },
  {
   "cell_type": "code",
   "execution_count": 9,
   "metadata": {
    "ExecuteTime": {
     "end_time": "2018-08-10T02:25:59.270036Z",
     "start_time": "2018-08-10T02:25:57.764624Z"
    },
    "nbgrader": {
     "grade": false,
     "grade_id": "cell-a6fc5a4686fa8347",
     "locked": true,
     "schema_version": 1,
     "solution": false
    }
   },
   "outputs": [],
   "source": [
    "## Loading the Data\n",
    "training_data = np.loadtxt(train_file_name, delimiter = ',')\n",
    "test_data = np.loadtxt(test_file_name, delimiter = ',')\n"
   ]
  },
  {
   "cell_type": "code",
   "execution_count": 10,
   "metadata": {
    "ExecuteTime": {
     "end_time": "2018-08-10T02:25:59.315126Z",
     "start_time": "2018-08-10T02:25:59.287333Z"
    }
   },
   "outputs": [
    {
     "name": "stdout",
     "output_type": "stream",
     "text": [
      "(10000, 29)\n",
      "First 4 elements from a row [ 1.          0.86929321 -0.63508183  0.22569026]\n"
     ]
    }
   ],
   "source": [
    "print(training_data.shape)\n",
    "print(\"First 4 elements from a row {0}\".format(training_data[0][0:4]))"
   ]
  },
  {
   "cell_type": "code",
   "execution_count": 11,
   "metadata": {
    "ExecuteTime": {
     "end_time": "2018-08-10T02:25:59.412271Z",
     "start_time": "2018-08-10T02:25:59.343409Z"
    }
   },
   "outputs": [
    {
     "name": "stdout",
     "output_type": "stream",
     "text": [
      "(2000, 28)\n",
      "First 4 elements from a row [ 0.89820868 -0.63995165  0.07365827  1.185642  ]\n"
     ]
    }
   ],
   "source": [
    "print(test_data.shape)\n",
    "print(\"First 4 elements from a row {0}\".format(test_data[0][0:4]))"
   ]
  },
  {
   "cell_type": "markdown",
   "metadata": {
    "nbgrader": {
     "grade": false,
     "grade_id": "cell-f6ae15f9a3523674",
     "locked": true,
     "schema_version": 1,
     "solution": false
    }
   },
   "source": [
    "Now we have loaded the training and test data. However, we cannot use it directly. We first need to standardize it."
   ]
  },
  {
   "cell_type": "markdown",
   "metadata": {
    "nbgrader": {
     "grade": false,
     "grade_id": "cell-bb592faa9bc02c71",
     "locked": true,
     "schema_version": 1,
     "solution": false
    }
   },
   "source": [
    "### Exercise: Implement the Standardize Function \n",
    "\n",
    "Neural networks work best when all features roughly are on the same scale and are centered around the mean.\n",
    "\n",
    "This is done by standardizing the feature vectors. Feature standardization makes the values of each feature in the data have zero-mean (when subtracting the mean in the numerator) and unit-variance.\n",
    "\n",
    "The function <font color=\"blue\">standardize</font> takes the input data and determines the distribution mean and standard deviation for each feature. Next the mean is subtracted from each feature. Then the mean-subtracted values of each feature are divided by its standard deviation.\n",
    "\n",
    "**<font color=\"magenta\" size=2>Example Input</font>**\n",
    "There are 3 training examples with 4 features each \n",
    "``` python\n",
    "np.array([[-0.22 -0.19 -0.17 -0.13][-0.1 -0.05 0.02 0.10][0.03 0.11 0.12 0.15]])\n",
    "```\n",
    "\n",
    "**<font color=\"blue\" size=2>Example Output</font>**\n",
    "There are 3 training examples (which have been standardized) along each of the 4 features\n",
    "``` python\n",
    "array([[-1.20809282, -1.19664225, -1.33025759, -1.39425471],\n",
    "       [-0.03265116, -0.05439283,  0.2494233 ,  0.4920899 ],\n",
    "       [ 1.24074398,  1.25103507,  1.08083429,  0.90216481]])\n",
    "```\n",
    "\n",
    "Refer the \"Standardization\" section of this [Wikipedia Feature Scaling Article](https://en.wikipedia.org/wiki/Feature_scaling)."
   ]
  },
  {
   "cell_type": "code",
   "execution_count": 12,
   "metadata": {
    "ExecuteTime": {
     "end_time": "2018-08-10T02:25:59.448971Z",
     "start_time": "2018-08-10T02:25:59.423232Z"
    },
    "nbgrader": {
     "grade": false,
     "grade_id": "cell-305b411920b596a3",
     "locked": false,
     "schema_version": 1,
     "solution": true
    }
   },
   "outputs": [],
   "source": [
    "def standardize(data):\n",
    "    return (data - np.mean(data, axis=0)) / np.std(data, axis=0)\n"
   ]
  },
  {
   "cell_type": "code",
   "execution_count": 13,
   "metadata": {
    "ExecuteTime": {
     "end_time": "2018-08-10T02:25:59.498510Z",
     "start_time": "2018-08-10T02:25:59.453197Z"
    }
   },
   "outputs": [
    {
     "name": "stdout",
     "output_type": "stream",
     "text": [
      "1+2+3=6, 6/3 = 2\n"
     ]
    },
    {
     "data": {
      "text/plain": [
       "array([2., 2., 2., 2.])"
      ]
     },
     "execution_count": 13,
     "metadata": {},
     "output_type": "execute_result"
    }
   ],
   "source": [
    "# \"Axis 0\" defines to get the column mean.\n",
    "# Sum all values and divide by the number of elements.\n",
    "print(\"1+2+3=6, 6/3 = 2\")\n",
    "dummy = np.array([[1,1,1,1], [2,2,2,2], [3,3,3,3]])\n",
    "np.mean(dummy, axis=0)"
   ]
  },
  {
   "cell_type": "code",
   "execution_count": 14,
   "metadata": {
    "ExecuteTime": {
     "end_time": "2018-08-10T02:25:59.557758Z",
     "start_time": "2018-08-10T02:25:59.502733Z"
    },
    "nbgrader": {
     "grade": true,
     "grade_id": "standardize_vt",
     "locked": true,
     "points": "5",
     "schema_version": 1,
     "solution": false
    },
    "scrolled": true
   },
   "outputs": [],
   "source": [
    "dummy = np.array([[-0.22, -0.19, -0.17, -0.13],[-0.1, -0.05, 0.02, 0.10],[0.03, 0.11, 0.12, 0.15]])\n",
    "assert standardize(dummy).__class__ == np.ndarray, \"should return numpy array\"\n",
    "assert standardize(dummy).shape == dummy.shape, \"should have the same shape as the input array\"\n",
    "\n",
    "dummy_ans = np.round(np.array([[-1.20809282, -1.19664225, -1.33025759, -1.39425471],\n",
    "       [-0.03265116, -0.05439283,  0.2494233 ,  0.4920899 ],\n",
    "       [ 1.24074398,  1.25103507,  1.08083429,  0.90216481]]),3)\n",
    "assert (np.round(standardize(dummy)[0],3)==dummy_ans[0]).all(), \"check for correct return value failed\"\n",
    "assert (np.round(standardize(dummy)[2],3)==dummy_ans[2]).all(), \"check for correct return value failed\"\n",
    "del dummy, dummy_ans"
   ]
  },
  {
   "cell_type": "code",
   "execution_count": 15,
   "metadata": {
    "ExecuteTime": {
     "end_time": "2018-08-10T02:25:59.603761Z",
     "start_time": "2018-08-10T02:25:59.585340Z"
    },
    "nbgrader": {
     "grade": true,
     "grade_id": "standardize_ht",
     "locked": true,
     "points": "10",
     "schema_version": 1,
     "solution": false
    },
    "scrolled": true
   },
   "outputs": [],
   "source": [
    "# Hidden Tests Here\n",
    "\n",
    "#\n",
    "# AUTOGRADER TEST - DO NOT REMOVE\n",
    "#\n"
   ]
  },
  {
   "cell_type": "markdown",
   "metadata": {
    "nbgrader": {
     "grade": false,
     "grade_id": "cell-6d1d2ce4cf36f9c1",
     "locked": true,
     "schema_version": 1,
     "solution": false
    }
   },
   "source": [
    "### Exercise: Implement the parse_training_data function\n",
    "\n",
    "The function <font color=\"blue\">parse_training_data</font> takes the input data and returns labels and features. \n",
    "\n",
    "Remember that the first column of the training data is the labels, and the remaining columns are the features\n",
    "\n",
    "The labels should be reshaped to a 2-D numpy matrix of shape (dataset_size, 1)\n",
    "The features should be standardized and have be a 2-D numpy matrix of shape (dataset_size, 28)\n",
    "\n",
    "**<font color=\"magenta\" size=2>Example Input</font>**\n",
    "There are 3 training examples with the label and 3 features each \n",
    "``` python\n",
    "np.array([[1 -0.19 -0.17 -0.13][0 -0.05 0.02 0.10][0 0.11 0.12 0.15]])\n",
    "```\n",
    "\n",
    "**<font color=\"blue\" size=2>Example Output</font>**\n",
    "Returns a tuple:\n",
    "    1st element is the labels\n",
    "    2nd element is the standardized features\n",
    "``` python\n",
    "(array([[1.],\n",
    "        [0.],\n",
    "        [1.]]), array([[-1.4688735 , -1.3105518 , -0.99390842],\n",
    "        [-0.36062164,  0.19350429,  0.82679107],\n",
    "        [ 0.90595192,  0.98511277,  1.22259531]]))\n",
    "```\n",
    "\n",
    "\n",
    "Remember to use the standardize function appropriately inside this function and use the visible assert statements to finetune the shape of your returned data."
   ]
  },
  {
   "cell_type": "code",
   "execution_count": 16,
   "metadata": {
    "ExecuteTime": {
     "end_time": "2018-08-10T02:25:59.635233Z",
     "start_time": "2018-08-10T02:25:59.607361Z"
    },
    "nbgrader": {
     "grade": false,
     "grade_id": "cell-b74473c65b9d3782",
     "locked": false,
     "schema_version": 1,
     "solution": true
    }
   },
   "outputs": [],
   "source": [
    "def parse_training_data(numpy_matrix):    \n",
    "    # Get the first column with labels and reshape to a matrix,\n",
    "    # with the same number of rows of the input.\n",
    "    labels = numpy_matrix[:, 0].reshape(numpy_matrix.shape[0], 1)\n",
    "    \n",
    "    # Getting all rows and ignoring the first column\n",
    "    # to get all features.\n",
    "    features = standardize(numpy_matrix[:, 1:])\n",
    "    \n",
    "    return labels, features"
   ]
  },
  {
   "cell_type": "code",
   "execution_count": 17,
   "metadata": {
    "ExecuteTime": {
     "end_time": "2018-08-10T02:25:59.733350Z",
     "start_time": "2018-08-10T02:25:59.650116Z"
    }
   },
   "outputs": [
    {
     "name": "stdout",
     "output_type": "stream",
     "text": [
      "[[ 1.   -0.22 -0.19 -0.17 -0.13]\n",
      " [ 0.   -0.1  -0.05  0.02  0.1 ]\n",
      " [ 1.    0.03  0.11  0.12  0.15]]\n"
     ]
    }
   ],
   "source": [
    "labels = np.array([[1],[0],[1]])\n",
    "dummy = np.array([[-0.22, -0.19, -0.17, -0.13],[-0.1, -0.05, 0.02, 0.10],[0.03, 0.11, 0.12, 0.15]])\n",
    "dummyInput = np.hstack((labels, dummy))\n",
    "print(dummyInput)\n",
    "\n",
    "labels, dummy = parse_training_data(dummyInput)\n",
    "assert standardize(dummy).__class__ == np.ndarray, \"should return numpy array\"\n",
    "assert standardize(dummy).shape == dummy.shape, \"should have the same shape as the input array\"\n",
    "\n",
    "dummy_ans = np.round(np.array([[-1.20809282, -1.19664225, -1.33025759, -1.39425471],\n",
    "       [-0.03265116, -0.05439283,  0.2494233 ,  0.4920899 ],\n",
    "       [ 1.24074398,  1.25103507,  1.08083429,  0.90216481]]),3)\n",
    "assert (np.round(standardize(dummy)[0],3)==dummy_ans[0]).all(), \"check for correct return value failed\"\n",
    "assert (np.round(standardize(dummy)[2],3)==dummy_ans[2]).all(), \"check for correct return value failed\"\n",
    "del dummy, dummy_ans"
   ]
  },
  {
   "cell_type": "code",
   "execution_count": 18,
   "metadata": {
    "ExecuteTime": {
     "end_time": "2018-08-10T02:25:59.806745Z",
     "start_time": "2018-08-10T02:25:59.744504Z"
    },
    "nbgrader": {
     "grade": false,
     "grade_id": "cell-f0e069072154f863",
     "locked": true,
     "schema_version": 1,
     "solution": false
    }
   },
   "outputs": [],
   "source": [
    "# Parse Training Data. You will later split the `labels` and `features` into training and validation sets.\n",
    "labels, features = parse_training_data(training_data)"
   ]
  },
  {
   "cell_type": "code",
   "execution_count": 19,
   "metadata": {
    "ExecuteTime": {
     "end_time": "2018-08-10T02:25:59.868748Z",
     "start_time": "2018-08-10T02:25:59.829536Z"
    },
    "nbgrader": {
     "grade": true,
     "grade_id": "shape_v",
     "locked": true,
     "points": "5",
     "schema_version": 1,
     "solution": false
    }
   },
   "outputs": [],
   "source": [
    "assert labels.shape[1] == 1\n",
    "assert features.shape[1] == 28"
   ]
  },
  {
   "cell_type": "code",
   "execution_count": 20,
   "metadata": {
    "ExecuteTime": {
     "end_time": "2018-08-10T02:25:59.915965Z",
     "start_time": "2018-08-10T02:25:59.889963Z"
    },
    "nbgrader": {
     "grade": true,
     "grade_id": "values_h",
     "locked": true,
     "points": "10",
     "schema_version": 1,
     "solution": false
    }
   },
   "outputs": [],
   "source": [
    "#\n",
    "# AUTOGRADER TEST - DO NOT REMOVE\n",
    "#\n"
   ]
  },
  {
   "cell_type": "markdown",
   "metadata": {
    "nbgrader": {
     "grade": false,
     "grade_id": "cell-714a63065a14a65f",
     "locked": true,
     "schema_version": 1,
     "solution": false
    }
   },
   "source": [
    "### Exercise: Implement the parse_test_data function\n",
    "\n",
    "The function <font color=\"blue\">parse_test_data</font> takes the input data and returns labels and features. \n",
    "\n",
    "We do not have access to labels while predicting the classes that our test examples belong to. The input data files for the test data would not have the labels column. \n",
    "\n",
    "So we need a different function to parse the test data. This should only return standardized features.\n",
    "\n",
    "The features should be standardized and have be a 2-D numpy matrix of shape (dataset_size, 28)\n",
    "\n",
    "**<font color=\"magenta\" size=2>Example Input</font>**\n",
    "There are 3 training examples with the label and 3 features each \n",
    "``` python\n",
    "np.array([[-0.19 -0.17 -0.13][-0.05 0.02 0.10][0.11 0.12 0.15]])\n",
    "```\n",
    "\n",
    "**<font color=\"blue\" size=2>Example Output</font>**\n",
    "Returns a tuple:\n",
    "    1st element is the labels\n",
    "    2nd element is the standardized features\n",
    "``` python\n",
    "array([[-1.4688735 , -1.3105518 , -0.99390842],\n",
    "        [-0.36062164,  0.19350429,  0.82679107],\n",
    "        [ 0.90595192,  0.98511277,  1.22259531]])\n",
    "```\n",
    "\n",
    "\n",
    "Remember to use the standardize function appropriately inside this function."
   ]
  },
  {
   "cell_type": "code",
   "execution_count": 21,
   "metadata": {
    "ExecuteTime": {
     "end_time": "2018-08-10T02:25:59.967793Z",
     "start_time": "2018-08-10T02:25:59.922880Z"
    },
    "nbgrader": {
     "grade": false,
     "grade_id": "cell-cd58458c52559f0a",
     "locked": false,
     "schema_version": 1,
     "solution": true
    }
   },
   "outputs": [],
   "source": [
    "# The question output definition is wrong, since we only \n",
    "# have the features without the labels,\n",
    "# we can just use the standardize method.\n",
    "def parse_test_data(numpy_matrix):\n",
    "    return standardize(numpy_matrix)"
   ]
  },
  {
   "cell_type": "code",
   "execution_count": 22,
   "metadata": {
    "ExecuteTime": {
     "end_time": "2018-08-10T02:26:00.017968Z",
     "start_time": "2018-08-10T02:25:59.975975Z"
    },
    "nbgrader": {
     "grade": false,
     "grade_id": "cell-febfb665f2f27e1e",
     "locked": true,
     "schema_version": 1,
     "solution": false
    }
   },
   "outputs": [],
   "source": [
    "test_features = parse_test_data(test_data)"
   ]
  },
  {
   "cell_type": "markdown",
   "metadata": {
    "nbgrader": {
     "grade": false,
     "grade_id": "cell-0de20ca899b3afe6",
     "locked": true,
     "schema_version": 1,
     "solution": false
    }
   },
   "source": [
    "## Building the Neural Network "
   ]
  },
  {
   "cell_type": "markdown",
   "metadata": {
    "nbgrader": {
     "grade": false,
     "grade_id": "cell-6b3f768be0607ffd",
     "locked": true,
     "schema_version": 1,
     "solution": false
    }
   },
   "source": [
    "### Initializing important parameters\n",
    "Use the below params appropriately inside the train_nn() function. We have initialized these variables in order to assist you in your implementation."
   ]
  },
  {
   "cell_type": "code",
   "execution_count": 23,
   "metadata": {
    "ExecuteTime": {
     "end_time": "2018-08-10T02:26:00.182560Z",
     "start_time": "2018-08-10T02:26:00.047283Z"
    },
    "nbgrader": {
     "grade": false,
     "grade_id": "cell-9496cea12852d1fa",
     "locked": true,
     "schema_version": 1,
     "solution": false
    }
   },
   "outputs": [
    {
     "name": "stdout",
     "output_type": "stream",
     "text": [
      "Total Training examples: 8000, Number of Batches: 5, Batch Size: 1600\n"
     ]
    }
   ],
   "source": [
    "learning_rate = cfg['learning_rate']\n",
    "training_epochs = cfg['epochs']\n",
    "train_valid_split = cfg['training_to_validation_ratio']\n",
    "num_batches = cfg['num_mini_batches']\n",
    "display_step = cfg['display_step']\n",
    "\n",
    "num_examples= training_data.shape[0]\n",
    "\n",
    "# The first `num_train_examples` should be used for training, the rest for validation.\n",
    "num_train_examples = int(num_examples * train_valid_split)\n",
    "\n",
    "batch_size = num_train_examples/num_batches\n",
    "\n",
    "\n",
    "# Network Parameters\n",
    "n_hidden_1 = cfg['hidden_layer_sizes']['first_layer'] # 1st layer number of features\n",
    "n_hidden_2 = cfg['hidden_layer_sizes']['second_layer'] # 2nd layer number of features\n",
    "n_input = 28 \n",
    "n_classes = 1 \n",
    "\n",
    "\n",
    "print(\"Total Training examples: %d, Number of Batches: %d, Batch Size: %d\" %(num_train_examples,num_batches,batch_size))"
   ]
  },
  {
   "cell_type": "markdown",
   "metadata": {
    "nbgrader": {
     "grade": false,
     "grade_id": "cell-dc994f1830e0a244",
     "locked": true,
     "schema_version": 1,
     "solution": false
    }
   },
   "source": [
    "### Initializing placeholders for feeding into the TF graph\n",
    "\n",
    "Define the TF placeholders which will receive data for each mini batch. Similarly define weights and biases as TF variables "
   ]
  },
  {
   "cell_type": "code",
   "execution_count": 24,
   "metadata": {
    "ExecuteTime": {
     "end_time": "2018-08-10T02:26:00.342474Z",
     "start_time": "2018-08-10T02:26:00.186650Z"
    },
    "nbgrader": {
     "grade": false,
     "grade_id": "cell-47aa2936b36e30b8",
     "locked": true,
     "schema_version": 1,
     "solution": false
    }
   },
   "outputs": [],
   "source": [
    "# TF Graph input\n",
    "## Use the below placeholders appropriately inside the train_nn() function\n",
    "\n",
    "X = tf.placeholder(\"float\", [None, n_input])\n",
    "Y = tf.placeholder(\"float\", [None, 1])\n",
    "\n",
    "\n",
    "# Store layers weight & bias\n",
    "weights = {\n",
    "    'h1': tf.Variable(tf.random_normal([n_input, n_hidden_1])),\n",
    "    'h2': tf.Variable(tf.random_normal([n_hidden_1, n_hidden_2])),\n",
    "    'out': tf.Variable(tf.random_normal([n_hidden_2, n_classes]))\n",
    "}\n",
    "\n",
    "biases = {\n",
    "    'b1': tf.Variable(tf.random_normal([n_hidden_1])),\n",
    "    'b2': tf.Variable(tf.random_normal([n_hidden_2])),\n",
    "    'out': tf.Variable(tf.random_normal([n_classes]))\n",
    "}"
   ]
  },
  {
   "cell_type": "markdown",
   "metadata": {
    "nbgrader": {
     "grade": false,
     "grade_id": "cell-714a63065a14a6sd5f",
     "locked": true,
     "schema_version": 1,
     "solution": false
    }
   },
   "source": [
    "### Exercise: Implement the `calc_num_total_learnable_params` function.\n",
    "\n",
    "This function  calculates the number of learnable parameters of the network model. This number directly relates to the complexity of your model, as well as the training time. \n",
    "\n",
    "The function <font color=\"blue\">calc_num_total_learnable_params</font> takes the weights dictionary and bias dictionary and returns an integer which is equal to the number of total parameters in the network. \n",
    "\n",
    "You can make use of the `get_dims_as_tuple` as a helper function to access the shape of the weight and bias matrices easily."
   ]
  },
  {
   "cell_type": "code",
   "execution_count": 25,
   "metadata": {
    "ExecuteTime": {
     "end_time": "2018-08-10T02:26:00.396314Z",
     "start_time": "2018-08-10T02:26:00.355390Z"
    },
    "nbgrader": {
     "grade": false,
     "grade_id": "cell-bb3e6250332e0033",
     "locked": true,
     "schema_version": 1,
     "solution": false
    }
   },
   "outputs": [
    {
     "data": {
      "text/plain": [
       "(28, 20)"
      ]
     },
     "execution_count": 25,
     "metadata": {},
     "output_type": "execute_result"
    }
   ],
   "source": [
    "# Helper function which you may use in implementing `calc_num_total_learnable_params(weights,biases)` function below.\n",
    "def get_dims_as_tuple(x):\n",
    "    shape = x.get_shape()\n",
    "    dims = []\n",
    "    for dim in shape:\n",
    "        dims.append(dim.value)\n",
    "    return tuple(dims)\n",
    "\n",
    "# example usage:\n",
    "get_dims_as_tuple(weights['h1'])"
   ]
  },
  {
   "cell_type": "code",
   "execution_count": 26,
   "metadata": {
    "ExecuteTime": {
     "end_time": "2018-08-10T02:26:00.455803Z",
     "start_time": "2018-08-10T02:26:00.405126Z"
    },
    "nbgrader": {
     "grade": false,
     "grade_id": "cell-94e7366afdd6358a",
     "locked": false,
     "schema_version": 1,
     "solution": true
    }
   },
   "outputs": [],
   "source": [
    "def calc_num_params(dic):\n",
    "    ret = 0\n",
    "    for key, value in dic.items():\n",
    "        acc = 1\n",
    "        dims = get_dims_as_tuple(value)\n",
    "        for dim in dims:\n",
    "            acc *= dim\n",
    "            \n",
    "        ret += acc\n",
    "    return ret\n",
    "            \n",
    "def calc_num_total_learnable_params(weights, biases):\n",
    "    return calc_num_params(weights) + calc_num_params(biases)   "
   ]
  },
  {
   "cell_type": "code",
   "execution_count": 27,
   "metadata": {
    "ExecuteTime": {
     "end_time": "2018-08-10T02:26:00.514727Z",
     "start_time": "2018-08-10T02:26:00.476131Z"
    }
   },
   "outputs": [
    {
     "data": {
      "text/plain": [
       "757"
      ]
     },
     "execution_count": 27,
     "metadata": {},
     "output_type": "execute_result"
    }
   ],
   "source": [
    "calc_num_total_learnable_params(weights, biases)"
   ]
  },
  {
   "cell_type": "code",
   "execution_count": 28,
   "metadata": {
    "ExecuteTime": {
     "end_time": "2018-08-10T02:26:00.541486Z",
     "start_time": "2018-08-10T02:26:00.519982Z"
    },
    "nbgrader": {
     "grade": true,
     "grade_id": "learnable_ht",
     "locked": true,
     "points": "10",
     "schema_version": 1,
     "solution": false
    }
   },
   "outputs": [],
   "source": [
    "## Hidden Tests Here\n",
    "#\n",
    "# AUTOGRADER TEST - DO NOT REMOVE\n",
    "#\n"
   ]
  },
  {
   "cell_type": "markdown",
   "metadata": {
    "nbgrader": {
     "grade": false,
     "grade_id": "cell-40285d4b5a7d0481",
     "locked": true,
     "schema_version": 1,
     "solution": false
    }
   },
   "source": [
    "### Exercise: Create FeedForward Network Model\n",
    "\n",
    "This function needs to be filled up with code to construct the remaining two layers of the neural network. You have to add one more hidden layers and also the output layer.\n",
    "\n",
    "You should use the sigmoid activation function. Tensorflow's `tf.nn.sigmoid()` function should be helpful. \n",
    "\n",
    "We have partially implemented this function. Complete the rest of it. Remember to not apply the sigmoid activation at the last layer as we will be using `tf.nn.sigmoid_cross_entropy_with_logits()` later which does that.\n"
   ]
  },
  {
   "cell_type": "code",
   "execution_count": 29,
   "metadata": {
    "ExecuteTime": {
     "end_time": "2018-08-10T02:26:00.625686Z",
     "start_time": "2018-08-10T02:26:00.556302Z"
    },
    "nbgrader": {
     "grade": false,
     "grade_id": "cell-0fd6390a18e16110",
     "locked": false,
     "schema_version": 1,
     "solution": true
    }
   },
   "outputs": [],
   "source": [
    "def create_feedforward_nn_model(x, weights, biases):\n",
    "    # Hidden layer with SIGMOID activation\n",
    "    layer_1 = tf.add(tf.matmul(x, weights['h1']), biases['b1'])\n",
    "    layer_1 = tf.nn.sigmoid(layer_1)\n",
    "    \n",
    "    # If it was a network with 2 inputs and 2 neurons we\n",
    "    # would have something like this:\n",
    "    # layer1 = |w0,0 w0,1| * |a0| + |b0|\n",
    "    #          |w1,0 w1,1|   |a1|   |b1|\n",
    "    # layer1 = |(w0,0 * a0) + (w0,1 * a1) + b0|\n",
    "    #          |(w1,0 * a0) + (w1,1 * a1) + b1|\n",
    "    # The matrix of weights shows the weight of each input activation\n",
    "    # to each neuron plus a bias for each neuron. \n",
    "    # In the end we use a sigmoid function\n",
    "    # convert each value to a number between Zero and One.\n",
    "    \n",
    "    # Second  layer\n",
    "    layer_2 = tf.add(tf.matmul(layer_1, weights['h2']), biases['b2'])\n",
    "    layer_2 = tf.nn.sigmoid(layer_2)\n",
    "    \n",
    "    # Output layer, remember to not apply the sigmoid activation at\n",
    "    # the last layer as we will be using \n",
    "    # tf.nn.sigmoid_cross_entropy_with_logits() later which does that.\n",
    "    out_layer = tf.matmul(layer_2, weights['out']) + biases['out']    \n",
    "    return out_layer"
   ]
  },
  {
   "cell_type": "markdown",
   "metadata": {
    "nbgrader": {
     "grade": false,
     "grade_id": "cell-6fcb5f53e1dbbae9",
     "locked": true,
     "schema_version": 1,
     "solution": false
    }
   },
   "source": [
    "### Exercise: Stitch the Neural Network Model\n",
    "\n",
    "Using the appropriate Tensorflow libraries, implement each of the following operations:\n",
    "- loss as the CrossEntropyLoss\n",
    "- train_op as the AdamOptimizer that minimizes the loss\n",
    "\n",
    "As inputs to these operators, you can use:\n",
    "- `pred_raw` which is the output of your neural network's last layer\n",
    "- `pred` is the predicted label, which is the output of rounding `pred_raw`. \n",
    "\n",
    "You might want to look at the Tensorflow Section notebooks as well as the TensorFlow API.\n",
    "\n",
    "Two of the returned values have been implemented as a hint for you.\n",
    "\n",
    "Functions that could be useful here: \n",
    "\n",
    "```python\n",
    "tf.nn.sigmoid_cross_entropy_with_logits()\n",
    "tf.reduce_mean()\n",
    "tf.round()\n",
    "tf.sigmoid()\n",
    "tf.train.AdamOptimizer().minimize()\n",
    "```"
   ]
  },
  {
   "cell_type": "code",
   "execution_count": 30,
   "metadata": {
    "ExecuteTime": {
     "end_time": "2018-08-10T02:26:00.690328Z",
     "start_time": "2018-08-10T02:26:00.636258Z"
    },
    "nbgrader": {
     "grade": false,
     "grade_id": "cell-2a697316f54fa391",
     "locked": false,
     "schema_version": 1,
     "solution": true
    }
   },
   "outputs": [],
   "source": [
    "# Construct model\n",
    "# The first four arguments are tensor definitions,\n",
    "# the last one is a scalar number.\n",
    "def stitch_network(x, y, weights, biases, learning_rate):\n",
    "    # Process inputs on the neural network.\n",
    "    pred_raw = create_feedforward_nn_model(x, weights, biases)\n",
    "    \n",
    "    # Round the output activations to get the predictions.\n",
    "    pred = tf.round(tf.nn.sigmoid(pred_raw))\n",
    "    \n",
    "    # 'Sigmoid cross entropy' measures the probability error in\n",
    "    # discrete classification tasks in which each class is \n",
    "    # independent and not mutually exclusive.\n",
    "    # For instance, one could perform multilabel classification where a picture can\n",
    "    # contain both an elephant and a dog at the same time.\n",
    "    # There are other methods when we are not in a binary classification like\n",
    "    # in this notebook. Take a look at 'Softmax cross entropy' for that case.\n",
    "    loss_op = tf.reduce_mean(\n",
    "        tf.nn.sigmoid_cross_entropy_with_logits(\n",
    "            logits=pred_raw, labels=y))\n",
    "    \n",
    "    # Adaptive Moment Estimation (Adam) keeps separate learning\n",
    "    # rates for each weight as well as an exponentially decaying \n",
    "    # average of previous gradients. \n",
    "    # It is reputed to work well for both sparse matrices and noisy data.\n",
    "    optimizer = tf.train.AdamOptimizer(learning_rate = learning_rate)\n",
    "    train_op = optimizer.minimize(loss_op)\n",
    "    \n",
    "    # Note that all returns here are network actions definitions.\n",
    "    # They won't become numbers until we feed them with the activation\n",
    "    # inside of a Tensorflow session.\n",
    "    return pred_raw, pred, loss_op, train_op"
   ]
  },
  {
   "cell_type": "code",
   "execution_count": 31,
   "metadata": {
    "ExecuteTime": {
     "end_time": "2018-08-10T02:26:01.089578Z",
     "start_time": "2018-08-10T02:26:00.710592Z"
    }
   },
   "outputs": [],
   "source": [
    "# Letting tensorflow methods ready to use according to our\n",
    "# network definition created previously.\n",
    "pred_raw_op, pred_op, loss_op, train_op = stitch_network(X, Y, weights, biases, learning_rate)"
   ]
  },
  {
   "cell_type": "code",
   "execution_count": 32,
   "metadata": {
    "ExecuteTime": {
     "end_time": "2018-08-10T02:26:01.120266Z",
     "start_time": "2018-08-10T02:26:01.101990Z"
    },
    "nbgrader": {
     "grade": true,
     "grade_id": "shape2_v",
     "locked": true,
     "points": "5",
     "schema_version": 1,
     "solution": false
    }
   },
   "outputs": [],
   "source": [
    "assert loss_op.__class__ == tf.Tensor\n",
    "assert loss_op.get_shape() == (), \"Make sure you have used reduce_mean\""
   ]
  },
  {
   "cell_type": "code",
   "execution_count": 33,
   "metadata": {
    "ExecuteTime": {
     "end_time": "2018-08-10T02:26:01.156989Z",
     "start_time": "2018-08-10T02:26:01.136039Z"
    },
    "nbgrader": {
     "grade": false,
     "grade_id": "cell-e9b4c53caccf6e1d",
     "locked": true,
     "schema_version": 1,
     "solution": false
    }
   },
   "outputs": [],
   "source": [
    "# Initializing the variables - IMPORTANT\n",
    "init = tf.global_variables_initializer()"
   ]
  },
  {
   "cell_type": "markdown",
   "metadata": {
    "nbgrader": {
     "grade": false,
     "grade_id": "cell-b683e70b1b3eafa0",
     "locked": true,
     "schema_version": 1,
     "solution": false
    }
   },
   "source": [
    "## Training and Testing the Neural Network"
   ]
  },
  {
   "cell_type": "markdown",
   "metadata": {
    "nbgrader": {
     "grade": false,
     "grade_id": "cell-b683e70b1b3asdaeafa0",
     "locked": true,
     "schema_version": 1,
     "solution": false
    }
   },
   "source": [
    "### Exercise: Writing the Train function\n",
    "\n",
    "This is where you will train your network.\n",
    "\n",
    "Your goal is to complete the following function named `train_nn()`. \n",
    "\n",
    "To help you structure your implementation, we have provided some starter code. \n",
    "\n",
    "We have also detailed each of the steps you need to pay attention to inside the main training loop.\n",
    "\n",
    "Remember you have access to all the parameters we initialized early on in the notebook, as well as to the parameters defined in the config file. \n",
    "\n",
    "`train_nn()` should return 5 python lists\n",
    "1. training_costs\n",
    "2. validation_costs\n",
    "3. training_accs\n",
    "4. validation_accs\n",
    "5. test_predictions "
   ]
  },
  {
   "cell_type": "code",
   "execution_count": 34,
   "metadata": {
    "ExecuteTime": {
     "end_time": "2018-08-10T02:26:01.213456Z",
     "start_time": "2018-08-10T02:26:01.166087Z"
    }
   },
   "outputs": [],
   "source": [
    "# Auxiliar iterator for next cell\n",
    "class batch_split:\n",
    "    def __init__(self, array, num_batches):\n",
    "        self.array = array\n",
    "        self.num_batches = num_batches\n",
    "        self.batch_size = int(len(array) / num_batches)\n",
    "        self.totalElems = 0\n",
    "    \n",
    "    def __iter__(self):\n",
    "        return self\n",
    "    \n",
    "    def __next__(self):\n",
    "        if (self.totalElems == len(self.array)):\n",
    "            raise StopIteration()\n",
    "            \n",
    "        if (self.num_batches == 1):\n",
    "            # Getting all remaining elements to handle fractions when\n",
    "            # len(array) % num_batches != 0 on the last batch.\n",
    "            size = len(self.array) - self.totalElems\n",
    "        else:\n",
    "            size = min(self.batch_size, len(self.array) - self.totalElems)\n",
    "            \n",
    "        oldTotalElems = self.totalElems\n",
    "        self.totalElems += size # Updating before returning array\n",
    "        self.num_batches = self.num_batches - 1\n",
    "        return self.array[oldTotalElems : oldTotalElems + size]"
   ]
  },
  {
   "cell_type": "code",
   "execution_count": 35,
   "metadata": {
    "ExecuteTime": {
     "end_time": "2018-08-10T02:26:01.297384Z",
     "start_time": "2018-08-10T02:26:01.236219Z"
    }
   },
   "outputs": [
    {
     "data": {
      "text/plain": [
       "2"
      ]
     },
     "execution_count": 35,
     "metadata": {},
     "output_type": "execute_result"
    }
   ],
   "source": [
    "# Auxiliar method to count number of correct predictions.\n",
    "def countCorrectPredictions(predictions, y):\n",
    "    count = 0\n",
    "    n = predictions.shape[0]\n",
    "    assert n == y.shape[0] and y.shape[1] == 1 and predictions.shape[1] == 1, \"Wrong prediction or label format.\"\n",
    "    \n",
    "    # Converting matrix to array format.\n",
    "    preds = predictions.reshape(n)\n",
    "    labels = y.reshape(n)\n",
    "       \n",
    "    # Counting correct predictions.\n",
    "    for pred, label in zip(preds, labels):\n",
    "        if (pred == label):\n",
    "            count = count + 1\n",
    "    \n",
    "    return count\n",
    "\n",
    "ps = np.array([[1],[0],[1]])\n",
    "ls = np.array([[0],[0],[1]])\n",
    "countCorrectPredictions(ps, ls)"
   ]
  },
  {
   "cell_type": "code",
   "execution_count": 36,
   "metadata": {
    "ExecuteTime": {
     "end_time": "2018-08-10T02:26:01.659147Z",
     "start_time": "2018-08-10T02:26:01.305117Z"
    },
    "nbgrader": {
     "grade": false,
     "grade_id": "cell-cd22bec67d6afd31",
     "locked": false,
     "schema_version": 1,
     "solution": true
    }
   },
   "outputs": [],
   "source": [
    "def train_nn():\n",
    "    with tf.Session() as sess:\n",
    "        # Running the method \"init\" defined in the beginning of this notebook\n",
    "        # to initialize all network variables.\n",
    "        sess.run(init)\n",
    "        \n",
    "        ## this is needed to print debug statements during training.\n",
    "        coord = tf.train.Coordinator()\n",
    "        threads = tf.train.start_queue_runners(coord=coord)\n",
    "\n",
    "        x_train, x_valid = features[:num_train_examples], features[num_train_examples:]\n",
    "        y_train, y_valid = labels[:num_train_examples], labels[num_train_examples:]\n",
    "\n",
    "        training_costs = []\n",
    "        training_accs = []\n",
    "\n",
    "        validation_costs = []\n",
    "        validation_accs = []\n",
    "\n",
    "        epochCounter = 0\n",
    "        for epoch in range(training_epochs):\n",
    "            epochCounter = epochCounter + 1        \n",
    "            \n",
    "            # Going through batches.\n",
    "            epochAcc = 0\n",
    "            epochCost = 0\n",
    "            for x_trainBatch, y_trainBatch in zip(\n",
    "                batch_split(x_train, num_batches), batch_split(y_train, num_batches)):\n",
    "                \n",
    "                x_trainBatch = np.array(x_trainBatch)\n",
    "                y_trainBatch = np.array(y_trainBatch)\n",
    "                assert x_trainBatch.shape[1] == 28, \"Invalid train feature dimension found.\"\n",
    "                assert y_trainBatch.shape[1] == 1, \"Invalid train label dimension found.\"\n",
    "                               \n",
    "                # Executing training operation with batch activation.\n",
    "                sess.run(train_op, feed_dict={X: x_trainBatch, Y: y_trainBatch})\n",
    "                \n",
    "                # Getting loss value and predicted labels.\n",
    "                loss, predictions = sess.run(\n",
    "                    [loss_op, pred_op],\n",
    "                    feed_dict={X: x_trainBatch, Y: y_trainBatch})\n",
    "                               \n",
    "                # Saving batch loss to calculate epoch mean loss\n",
    "                epochCost = epochCost + loss\n",
    "                \n",
    "                # Saving batch accuracy to calculate epoch mean accuracy\n",
    "                epochAcc = epochAcc + (countCorrectPredictions(predictions, y_trainBatch) / len(predictions))\n",
    "                    \n",
    "            # After executing all batches from an epoch, calculating its\n",
    "            # mean accuracy and loss.\n",
    "            epochAcc = epochAcc / num_batches\n",
    "            training_accs.append(epochAcc)\n",
    "            epochCost = epochCost / num_batches\n",
    "            training_costs.append(epochCost)\n",
    "                  \n",
    "            # Validating model accuracy after epoch execution.\n",
    "            lossValid, predsValid = sess.run(\n",
    "                    [loss_op, pred_op],\n",
    "                    feed_dict={X: x_valid, Y: y_valid})            \n",
    "            validation_costs.append(lossValid)\n",
    "            \n",
    "            epochValidAcc = countCorrectPredictions(predsValid, y_valid) / len(predsValid)\n",
    "            validation_accs.append(epochValidAcc)\n",
    "            \n",
    "            # Debug printing:\n",
    "            if (epoch % display_step == 0):\n",
    "                print(\"Epoch {0} | Tr cost: {1} | Tr accuracy {2} | Va cost: {3} | Va accuracy: {4}\".\\\n",
    "                      format(epoch + 1, epochCost, epochAcc, lossValid, epochValidAcc))\n",
    "            \n",
    "        print(\"Optimization Finished!\")\n",
    "\n",
    "        ## Creating final test set as an array after training network.\n",
    "        test_predictions = sess.run(pred_op, feed_dict={X: test_features}) \n",
    "        test_predictions = test_predictions.reshape(test_predictions.shape[0])\n",
    "        \n",
    "        # Typecasting all arrays to ensure consistency.\n",
    "        validation_costs = np.array(validation_costs).astype(np.float64).tolist()\n",
    "        validation_accs = np.array(validation_accs).astype(np.float64).tolist()\n",
    "        training_costs = np.array(training_costs).astype(np.float64).tolist()\n",
    "        training_accs = np.array(training_accs).astype(np.float64).tolist()\n",
    "        test_predictions = np.array(test_predictions).astype(np.float64).tolist()\n",
    "        \n",
    "        ## this is needed to print debug statements during training.\n",
    "        coord.request_stop()\n",
    "        coord.join(threads)        \n",
    "    \n",
    "    ## close TF session if open\n",
    "    if 'session' in locals() and sess is not None:\n",
    "        print('Close interactive session')\n",
    "        sess.close()\n",
    "        \n",
    "    return training_costs, validation_costs, training_accs, validation_accs, test_predictions"
   ]
  },
  {
   "cell_type": "code",
   "execution_count": 37,
   "metadata": {
    "ExecuteTime": {
     "end_time": "2018-08-10T02:26:27.965238Z",
     "start_time": "2018-08-10T02:26:01.668513Z"
    },
    "nbgrader": {
     "grade": false,
     "grade_id": "cell-099ff13f7570ad44",
     "locked": true,
     "schema_version": 1,
     "solution": false
    }
   },
   "outputs": [
    {
     "name": "stdout",
     "output_type": "stream",
     "text": [
      "Epoch 1 | Tr cost: 0.7320272088050842 | Tr accuracy 0.517125 | Va cost: 0.7481654286384583 | Va accuracy: 0.5255\n",
      "Epoch 21 | Tr cost: 0.5812718868255615 | Tr accuracy 0.6904999999999999 | Va cost: 0.6290450692176819 | Va accuracy: 0.64\n",
      "Epoch 41 | Tr cost: 0.5300363302230835 | Tr accuracy 0.7308749999999999 | Va cost: 0.6344948410987854 | Va accuracy: 0.649\n",
      "Epoch 61 | Tr cost: 0.5013072490692139 | Tr accuracy 0.751625 | Va cost: 0.6575467586517334 | Va accuracy: 0.645\n",
      "Epoch 81 | Tr cost: 0.48441449999809266 | Tr accuracy 0.763375 | Va cost: 0.6848642826080322 | Va accuracy: 0.646\n",
      "Epoch 101 | Tr cost: 0.47236159443855286 | Tr accuracy 0.77125 | Va cost: 0.7101027965545654 | Va accuracy: 0.64\n",
      "Epoch 121 | Tr cost: 0.4632065832614899 | Tr accuracy 0.7765 | Va cost: 0.7261860370635986 | Va accuracy: 0.6275\n",
      "Epoch 141 | Tr cost: 0.45631046295166017 | Tr accuracy 0.7806249999999999 | Va cost: 0.7413087487220764 | Va accuracy: 0.6305\n",
      "Epoch 161 | Tr cost: 0.4510874629020691 | Tr accuracy 0.7835 | Va cost: 0.7514821887016296 | Va accuracy: 0.629\n",
      "Epoch 181 | Tr cost: 0.4461283326148987 | Tr accuracy 0.786 | Va cost: 0.7617058157920837 | Va accuracy: 0.6215\n",
      "Epoch 201 | Tr cost: 0.4420339822769165 | Tr accuracy 0.7921249999999999 | Va cost: 0.7713345885276794 | Va accuracy: 0.629\n",
      "Epoch 221 | Tr cost: 0.43882877230644224 | Tr accuracy 0.7925 | Va cost: 0.7794556617736816 | Va accuracy: 0.6255\n",
      "Epoch 241 | Tr cost: 0.4361155092716217 | Tr accuracy 0.793625 | Va cost: 0.7858660221099854 | Va accuracy: 0.622\n",
      "Epoch 261 | Tr cost: 0.43375815749168395 | Tr accuracy 0.796 | Va cost: 0.7914759516716003 | Va accuracy: 0.624\n",
      "Epoch 281 | Tr cost: 0.43166765570640564 | Tr accuracy 0.79525 | Va cost: 0.796390175819397 | Va accuracy: 0.6235\n",
      "Epoch 301 | Tr cost: 0.4296377658843994 | Tr accuracy 0.7958750000000001 | Va cost: 0.8012050986289978 | Va accuracy: 0.6255\n",
      "Epoch 321 | Tr cost: 0.4274033486843109 | Tr accuracy 0.798875 | Va cost: 0.8076227903366089 | Va accuracy: 0.627\n",
      "Epoch 341 | Tr cost: 0.4252028286457062 | Tr accuracy 0.8008749999999999 | Va cost: 0.8179172873497009 | Va accuracy: 0.627\n",
      "Epoch 361 | Tr cost: 0.423319411277771 | Tr accuracy 0.8011250000000001 | Va cost: 0.8263809680938721 | Va accuracy: 0.6245\n",
      "Epoch 381 | Tr cost: 0.4214955985546112 | Tr accuracy 0.80425 | Va cost: 0.8319791555404663 | Va accuracy: 0.625\n",
      "Epoch 401 | Tr cost: 0.41958964467048643 | Tr accuracy 0.805125 | Va cost: 0.838299572467804 | Va accuracy: 0.622\n",
      "Epoch 421 | Tr cost: 0.4178453803062439 | Tr accuracy 0.8075000000000001 | Va cost: 0.8417049646377563 | Va accuracy: 0.626\n",
      "Epoch 441 | Tr cost: 0.4162480354309082 | Tr accuracy 0.8085000000000001 | Va cost: 0.8453159332275391 | Va accuracy: 0.6265\n",
      "Epoch 461 | Tr cost: 0.4146008431911469 | Tr accuracy 0.8103750000000002 | Va cost: 0.8473883271217346 | Va accuracy: 0.6275\n",
      "Epoch 481 | Tr cost: 0.41304240822792054 | Tr accuracy 0.810375 | Va cost: 0.8501259088516235 | Va accuracy: 0.627\n",
      "Optimization Finished!\n"
     ]
    }
   ],
   "source": [
    "training_costs, validation_costs, training_accs, validation_accs, test_predictions = train_nn()"
   ]
  },
  {
   "cell_type": "code",
   "execution_count": 38,
   "metadata": {
    "ExecuteTime": {
     "end_time": "2018-08-10T02:26:28.005379Z",
     "start_time": "2018-08-10T02:26:27.977185Z"
    },
    "nbgrader": {
     "grade": true,
     "grade_id": "typechecks_v",
     "locked": true,
     "points": "5",
     "schema_version": 1,
     "solution": false
    }
   },
   "outputs": [],
   "source": [
    "## making sure your train_nn() function returns variables as expected\n",
    "assert type(training_accs)==list,\"incorrect return type\"\n",
    "assert type(validation_accs)==list, \"incorrect return type\"\n",
    "assert type(training_costs)==list, \"incorrect return type\"\n",
    "assert type(validation_costs)==list,\"incorrect return type\"\n",
    "assert type(test_predictions[0])==type(training_accs[0])==type(validation_accs[0])==type(training_costs[0])==type(validation_costs[0])==float, \"incorrect return type\"\n",
    "assert len(training_accs)==len(validation_accs)==len(training_costs)==len(validation_costs)==training_epochs,\"incorrect returned lengths\"\n",
    "assert len(test_predictions)==len(test_features),\"incorrect returned lengths\""
   ]
  },
  {
   "cell_type": "markdown",
   "metadata": {
    "nbgrader": {
     "grade": false,
     "grade_id": "cell-4ed33d0856316a08",
     "locked": true,
     "schema_version": 1,
     "solution": false
    }
   },
   "source": [
    "### Analyzing cost and accuracy trends vs number of epochs"
   ]
  },
  {
   "cell_type": "code",
   "execution_count": 39,
   "metadata": {
    "ExecuteTime": {
     "end_time": "2018-08-10T02:26:28.064558Z",
     "start_time": "2018-08-10T02:26:28.021629Z"
    },
    "nbgrader": {
     "grade": false,
     "grade_id": "cell-450747d7f0431e00",
     "locked": true,
     "schema_version": 1,
     "solution": false
    },
    "scrolled": false
   },
   "outputs": [],
   "source": [
    "def plot_cost_vs_epochs(training_costs, validation_costs):\n",
    "    plt.title(\"cost vs epochs\")\n",
    "    plt.plot(training_costs)\n",
    "    plt.plot(validation_costs)\n",
    "    plt.legend([\"training\",\"validation\"])"
   ]
  },
  {
   "cell_type": "code",
   "execution_count": 40,
   "metadata": {
    "ExecuteTime": {
     "end_time": "2018-08-10T02:26:28.101460Z",
     "start_time": "2018-08-10T02:26:28.081263Z"
    },
    "nbgrader": {
     "grade": false,
     "grade_id": "cell-78d0e31f3ed4005e",
     "locked": true,
     "schema_version": 1,
     "solution": false
    },
    "scrolled": true
   },
   "outputs": [],
   "source": [
    "def plot_acc_vs_epochs(training_acc, validation_acc):\n",
    "    plt.title(\"accuracy vs epochs\")\n",
    "    plt.plot(training_acc)\n",
    "    plt.plot(validation_acc)\n",
    "    plt.legend([\"training\",\"validation\"])"
   ]
  },
  {
   "cell_type": "code",
   "execution_count": 41,
   "metadata": {
    "ExecuteTime": {
     "end_time": "2018-08-10T02:26:28.148173Z",
     "start_time": "2018-08-10T02:26:28.118174Z"
    },
    "nbgrader": {
     "grade": false,
     "grade_id": "cell-5f2c5d57928f7a69",
     "locked": true,
     "schema_version": 1,
     "solution": false
    }
   },
   "outputs": [],
   "source": [
    "\n",
    "def plots(training_costs, validation_costs, training_accs, validation_accs):\n",
    "    \n",
    "    fig = plt.figure(figsize=(20,10))\n",
    "    \n",
    "    plt.subplot(1,2,1)\n",
    "    plot_cost_vs_epochs(training_costs, validation_costs)\n",
    "    plt.subplot(1,2,2)\n",
    "    plot_acc_vs_epochs(training_accs, validation_accs)"
   ]
  },
  {
   "cell_type": "markdown",
   "metadata": {},
   "source": [
    "According to the course forum, this result is expecxted because the local test set is pretty small. Maybe adding dropout feature to the network would also reduce the overfitting issues.\n",
    "\n",
    "The network execution goes well until the 50th epoch, when the validation loss starts to increase and its accuracy becomes stale at 62% while the training values keep becoming better and better."
   ]
  },
  {
   "cell_type": "code",
   "execution_count": 42,
   "metadata": {
    "ExecuteTime": {
     "end_time": "2018-08-10T02:26:29.131440Z",
     "start_time": "2018-08-10T02:26:28.164041Z"
    }
   },
   "outputs": [
    {
     "data": {
      "image/png": "[encoded data removed]",
      "text/plain": [
       "<Figure size 1440x720 with 2 Axes>"
      ]
     },
     "metadata": {},
     "output_type": "display_data"
    }
   ],
   "source": [
    "plots(training_costs, validation_costs, training_accs, validation_accs)"
   ]
  },
  {
   "cell_type": "markdown",
   "metadata": {
    "nbgrader": {
     "grade": false,
     "grade_id": "cell-7e48102290dfc483",
     "locked": true,
     "schema_version": 1,
     "solution": false
    }
   },
   "source": [
    "### Scoring Your Test Predictions\n",
    "\n",
    "The following code saves your test predictions locally in the same directory.\n",
    "\n",
    "It is required in order to give you a grade based on your network's performance."
   ]
  },
  {
   "cell_type": "code",
   "execution_count": 43,
   "metadata": {
    "ExecuteTime": {
     "end_time": "2018-08-10T02:26:29.179770Z",
     "start_time": "2018-08-10T02:26:29.133344Z"
    },
    "nbgrader": {
     "grade": false,
     "grade_id": "cell-9130fc95b3adda93",
     "locked": true,
     "schema_version": 1,
     "solution": false
    }
   },
   "outputs": [],
   "source": [
    "import pickle\n",
    "def save_test_predictions(test_predictions):\n",
    "     with open(cfg['output_predictions_pickle_path'], 'wb') as f:\n",
    "        pickle.dump(test_predictions, f)\n",
    "save_test_predictions(test_predictions)"
   ]
  },
  {
   "cell_type": "code",
   "execution_count": 44,
   "metadata": {
    "ExecuteTime": {
     "end_time": "2018-08-10T02:26:29.215529Z",
     "start_time": "2018-08-10T02:26:29.196992Z"
    },
    "nbgrader": {
     "grade": true,
     "grade_id": "threshold1_h",
     "locked": true,
     "points": "5",
     "schema_version": 1,
     "solution": false
    },
    "scrolled": true
   },
   "outputs": [],
   "source": [
    "#Hidden tests here\n",
    "#\n",
    "# AUTOGRADER TEST - DO NOT REMOVE\n",
    "#\n"
   ]
  },
  {
   "cell_type": "code",
   "execution_count": 45,
   "metadata": {
    "ExecuteTime": {
     "end_time": "2018-08-10T02:26:29.242099Z",
     "start_time": "2018-08-10T02:26:29.219741Z"
    },
    "nbgrader": {
     "grade": true,
     "grade_id": "threshold2_h",
     "locked": true,
     "points": "10",
     "schema_version": 1,
     "solution": false
    }
   },
   "outputs": [],
   "source": [
    "#Hidden tests here\n",
    "#\n",
    "# AUTOGRADER TEST - DO NOT REMOVE\n",
    "#\n"
   ]
  },
  {
   "cell_type": "code",
   "execution_count": 46,
   "metadata": {
    "ExecuteTime": {
     "end_time": "2018-08-10T02:26:29.271225Z",
     "start_time": "2018-08-10T02:26:29.244194Z"
    },
    "nbgrader": {
     "grade": true,
     "grade_id": "threshold3_h",
     "locked": true,
     "points": "15",
     "schema_version": 1,
     "solution": false
    }
   },
   "outputs": [],
   "source": [
    "#Hidden tests here\n",
    "#\n",
    "# AUTOGRADER TEST - DO NOT REMOVE\n",
    "#\n"
   ]
  },
  {
   "cell_type": "code",
   "execution_count": 47,
   "metadata": {
    "ExecuteTime": {
     "end_time": "2018-08-10T02:26:29.293987Z",
     "start_time": "2018-08-10T02:26:29.285626Z"
    },
    "nbgrader": {
     "grade": true,
     "grade_id": "threshold4_h",
     "locked": true,
     "points": "20",
     "schema_version": 1,
     "solution": false
    },
    "scrolled": true
   },
   "outputs": [],
   "source": [
    "#Hidden tests here\n",
    "#\n",
    "# AUTOGRADER TEST - DO NOT REMOVE\n",
    "#\n"
   ]
  }
 ],
 "metadata": {
  "celltoolbar": "Edit Metadata",
  "kernelspec": {
   "display_name": "Python 3",
   "language": "python",
   "name": "python3"
  },
  "language_info": {
   "codemirror_mode": {
    "name": "ipython",
    "version": 3
   },
   "file_extension": ".py",
   "mimetype": "text/x-python",
   "name": "python",
   "nbconvert_exporter": "python",
   "pygments_lexer": "ipython3",
   "version": "3.6.5"
  },
  "toc": {
   "base_numbering": 1,
   "nav_menu": [],
   "number_sections": true,
   "sideBar": true,
   "skip_h1_title": false,
   "title_cell": "Table of Contents",
   "title_sidebar": "Contents",
   "toc_cell": false,
   "toc_position": {
    "height": "calc(100% - 180px)",
    "left": "10px",
    "top": "150px",
    "width": "165px"
   },
   "toc_section_display": true,
   "toc_window_display": true
  },
  "varInspector": {
   "cols": {
    "lenName": 16,
    "lenType": 16,
    "lenVar": 40
   },
   "kernels_config": {
    "python": {
     "delete_cmd_postfix": "",
     "delete_cmd_prefix": "del ",
     "library": "var_list.py",
     "varRefreshCmd": "print(var_dic_list())"
    },
    "r": {
     "delete_cmd_postfix": ") ",
     "delete_cmd_prefix": "rm(",
     "library": "var_list.r",
     "varRefreshCmd": "cat(var_dic_list()) "
    }
   },
   "types_to_exclude": [
    "module",
    "function",
    "builtin_function_or_method",
    "instance",
    "_Feature"
   ],
   "window_display": false
  }
 },
 "nbformat": 4,
 "nbformat_minor": 2
}
