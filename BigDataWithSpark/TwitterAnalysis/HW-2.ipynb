{
 "cells": [
  {
   "cell_type": "markdown",
   "metadata": {},
   "source": [
    "# Homework 2\n",
    "\n",
    "In this homework, we are going to play with Twitter data.\n",
    "\n",
    "The data is represented as rows of of [JSON](https://en.wikipedia.org/wiki/JSON#Example) strings.\n",
    "It consists of [tweets](https://dev.twitter.com/overview/api/tweets), [messages](https://dev.twitter.com/streaming/overview/messages-types), and a small amount of broken data (cannot be parsed as JSON).\n",
    "\n",
    "For this homework, we will only focus on tweets and ignore all other messages.\n",
    "\n",
    "\n",
    "## Tweets\n",
    "\n",
    "A tweet consists of many data fields. [Here is an example](https://gist.github.com/arapat/03d02c9b327e6ff3f6c3c5c602eeaf8b). You can learn all about them in the Twitter API doc. We are going to briefly introduce only the data fields that will be used in this homework.\n",
    "\n",
    "* `created_at`: Posted time of this tweet (time zone is included)\n",
    "* `id_str`: Tweet ID - we recommend using `id_str` over using `id` as Tweet IDs, becauase `id` is an integer and may bring some overflow problems.\n",
    "* `text`: Tweet content\n",
    "* `user`: A JSON object for information about the author of the tweet\n",
    "    * `id_str`: User ID\n",
    "    * `name`: User name (may contain spaces)\n",
    "    * `screen_name`: User screen name (no spaces)\n",
    "* `retweeted_status`: A JSON object for information about the retweeted tweet (i.e. this tweet is not original but retweeteed some other tweet)\n",
    "    * All data fields of a tweet except `retweeted_status`\n",
    "* `entities`: A JSON object for all entities in this tweet\n",
    "    * `hashtags`: An array for all the hashtags that are mentioned in this tweet\n",
    "    * `urls`: An array for all the URLs that are mentioned in this tweet\n",
    "\n",
    "\n",
    "## Data source\n",
    "\n",
    "All tweets are collected using the [Twitter Streaming API](https://dev.twitter.com/streaming/overview).\n",
    "\n",
    "\n",
    "## Users partition\n",
    "\n",
    "Besides the original tweets, we will provide you with a Pickle file, which contains a partition over 452,743 Twitter users. It contains a Python dictionary `{user_id: partition_id}`. The users are partitioned into 7 groups."
   ]
  },
  {
   "cell_type": "code",
   "execution_count": 1,
   "metadata": {
    "ExecuteTime": {
     "end_time": "2018-07-12T12:46:20.065683Z",
     "start_time": "2018-07-12T12:46:20.046563Z"
    }
   },
   "outputs": [],
   "source": [
    "# You can load pickle_content from a file on the local file system\n",
    "# while testing on your laptop\n",
    "# To test on your laptop, set `ON_EMR=False`\n",
    "# To test on AWS for final submission, set `ON_EMR=True`\n",
    "\n",
    "ON_EMR = False"
   ]
  },
  {
   "cell_type": "markdown",
   "metadata": {},
   "source": [
    "## Grading\n",
    "\n",
    "We ask you use the `OutputLogger` object `my_output` to store the\n",
    "results of your program.\n",
    "We have provided function calls to `my_output.append()` method for\n",
    "storing the results in all necessary places.\n",
    "Please make sure NOT to remove these lines\n",
    "\n",
    "In the last cell of this file, we write the content of `my_output`\n",
    "to a pickle file which the grader will read in and use for grading."
   ]
  },
  {
   "cell_type": "code",
   "execution_count": 2,
   "metadata": {
    "ExecuteTime": {
     "end_time": "2018-07-12T12:46:22.867326Z",
     "start_time": "2018-07-12T12:46:22.775412Z"
    }
   },
   "outputs": [],
   "source": [
    "import os\n",
    "import pickle\n",
    "\n",
    "\n",
    "class OutputLogger:\n",
    "    def __init__(self):\n",
    "        self.ans = {}\n",
    "\n",
    "    def append(self, key, value):\n",
    "        self.ans[key] = value\n",
    "\n",
    "    def write_to_disk(self):\n",
    "        if ON_EMR:\n",
    "            filepath = os.path.expanduser(\"answer.pickle\")\n",
    "            print(\"FilePath = {}\".format(filepath))\n",
    "            with open(filepath, 'wb') as f:\n",
    "                pickle.dump(self.ans, f)\n",
    "            proc = subprocess.Popen([\"/usr/local/hadoop/hadoop-2.7.4/bin/hadoop\", \"fs\", \"-copyFromLocal\", filepath, \"/user/spark/answer.pickle\"])\n",
    "            proc.wait()\n",
    "            os.remove(filepath)\n",
    "        else:\n",
    "            filepath = os.path.expanduser(\"~/answer.pickle\")\n",
    "            with open(filepath, 'wb') as f:\n",
    "                pickle.dump(self.ans, f)\n",
    "\n",
    "\n",
    "my_output = OutputLogger()"
   ]
  },
  {
   "cell_type": "markdown",
   "metadata": {},
   "source": [
    "# Part 0: Load data to a RDD"
   ]
  },
  {
   "cell_type": "markdown",
   "metadata": {},
   "source": [
    "The tweets data is stored on AWS S3. We have in total a little over 1 TB of tweets. We provide 10 MB of tweets for your local development. For the testing and grading on the homework server, we will use different data.\n",
    "\n",
    "## Testing on the homework server\n",
    "On EdX, we provide three different input sizes to test your program: 10 MB, 1 GB, and 10 GB. For any run, we will only be using one of these four datasets.\n",
    "\n",
    "For submission and for local testing, make sure to read the path of the file you want to operate with from `./hw2-files.txt`. Otherwise your program will receive no points.\n",
    "\n",
    "## Local test\n",
    "\n",
    "For local testing, please create your own `hw2-files.txt` file, which contains a single file path on the local disk, e.g.\n",
    "`file://<absolute_path_to_current_directory>/hw2-files-10mb.txt`. For final submission, we will create this file on our server for testing with the appropriate file path. If your implementation is correct, you should not worry about which file system (i.e. local file system or HDFS) Spark will read data from.\n",
    "\n",
    "Now let's see how many lines there are in the input files.\n",
    "\n",
    "1. Make RDD from the data in the file given by the file path present in `hw2-files.txt`.\n",
    "2. Mark the RDD to be cached (so in next operation data will be loaded in memory) \n",
    "3. call the `count` method to print number of lines in all these files\n",
    "\n",
    "<b>It should print<b>\n",
    "```\n",
    "Number of elements: 2150\n",
    "```"
   ]
  },
  {
   "cell_type": "code",
   "execution_count": 3,
   "metadata": {
    "ExecuteTime": {
     "end_time": "2018-07-12T12:46:28.514121Z",
     "start_time": "2018-07-12T12:46:28.487750Z"
    }
   },
   "outputs": [],
   "source": [
    "\"\"\"\n",
    "This is a useful cell for debugging.\n",
    "Use timer_start() and timer_stop() at different parts of your code\n",
    "for checking the amount of time a segment takes.\n",
    "\"\"\"\n",
    "from time import time\n",
    "\n",
    "\n",
    "timer = []\n",
    "prev_ts = None\n",
    "\n",
    "\n",
    "def timer_start():\n",
    "    global prev_ts\n",
    "    prev_ts = time()\n",
    "\n",
    "\n",
    "def timer_stop(title):\n",
    "    timer.append((title, time() - prev_ts))"
   ]
  },
  {
   "cell_type": "code",
   "execution_count": 4,
   "metadata": {
    "ExecuteTime": {
     "end_time": "2018-07-12T12:46:52.421764Z",
     "start_time": "2018-07-12T12:46:30.341405Z"
    }
   },
   "outputs": [],
   "source": [
    "timer_start()\n",
    "\n",
    "from pyspark import SparkContext\n",
    "\n",
    "sc = SparkContext()\n",
    "\n",
    "timer_stop(\"set up sc\")"
   ]
  },
  {
   "cell_type": "code",
   "execution_count": 6,
   "metadata": {
    "ExecuteTime": {
     "end_time": "2018-07-12T12:47:39.328857Z",
     "start_time": "2018-07-12T12:47:33.790182Z"
    }
   },
   "outputs": [
    {
     "name": "stdout",
     "output_type": "stream",
     "text": [
      "Reading file: ./hw2-files-10mb.txt\n",
      "['{\"created_at\":\"Tue Feb 23 17:42:31 +0000 2016\",\"id\":702186789189132288,\"id_str\":\"702186789189132288\",\"text\":\"I\\'m voting 4 #BernieSanders bc he doesn\\'t ride a CAPITALIST PIG adorned w\\\\/ #GoldmanSachs $. SYSTEM RIGGED CLASS WAR https:\\\\/\\\\/t.co\\\\/P7pFm2MT9e\",\"source\":\"\\\\u003ca href=\\\\\"http:\\\\/\\\\/twitter.com\\\\\" rel=\\\\\"nofollow\\\\\"\\\\u003eTwitter Web Client\\\\u003c\\\\/a\\\\u003e\",\"truncated\":false,\"in_reply_to_status_id\":null,\"in_reply_to_status_id_str\":null,\"in_reply_to_user_id\":null,\"in_reply_to_user_id_str\":null,\"in_reply_to_screen_name\":null,\"user\":{\"id\":470520068,\"id_str\":\"470520068\",\"name\":\"Marni Halasa\",\"screen_name\":\"MarniHalasa1\",\"location\":\"NYC\",\"url\":\"http:\\\\/\\\\/www.revolutionissexy.com\",\"description\":\"Performance Artist\\\\/Activist: unofficial OWS Freedom Fairy, Prof Figure Skater, Parade Personality, Media Liaison, Journalist, Lawyer. I protest w\\\\/skates & wings\",\"protected\":false,\"verified\":false,\"followers_count\":1156,\"friends_count\":1484,\"listed_count\":102,\"favourites_count\":4109,\"statuses_count\":10443,\"created_at\":\"Sat Jan 21 21:15:53 +0000 2012\",\"utc_offset\":null,\"time_zone\":null,\"geo_enabled\":true,\"lang\":\"en\",\"contributors_enabled\":false,\"is_translator\":false,\"profile_background_color\":\"000000\",\"profile_background_image_url\":\"http:\\\\/\\\\/abs.twimg.com\\\\/images\\\\/themes\\\\/theme1\\\\/bg.png\",\"profile_background_image_url_https\":\"https:\\\\/\\\\/abs.twimg.com\\\\/images\\\\/themes\\\\/theme1\\\\/bg.png\",\"profile_background_tile\":false,\"profile_link_color\":\"3B94D9\",\"profile_sidebar_border_color\":\"000000\",\"profile_sidebar_fill_color\":\"000000\",\"profile_text_color\":\"000000\",\"profile_use_background_image\":false,\"profile_image_url\":\"http:\\\\/\\\\/pbs.twimg.com\\\\/profile_images\\\\/461558466218184704\\\\/Al04oPWW_normal.jpeg\",\"profile_image_url_https\":\"https:\\\\/\\\\/pbs.twimg.com\\\\/profile_images\\\\/461558466218184704\\\\/Al04oPWW_normal.jpeg\",\"profile_banner_url\":\"https:\\\\/\\\\/pbs.twimg.com\\\\/profile_banners\\\\/470520068\\\\/1416425356\",\"default_profile\":false,\"default_profile_image\":false,\"following\":null,\"follow_request_sent\":null,\"notifications\":null},\"geo\":null,\"coordinates\":null,\"place\":{\"id\":\"01a9a39529b27f36\",\"url\":\"https:\\\\/\\\\/api.twitter.com\\\\/1.1\\\\/geo\\\\/id\\\\/01a9a39529b27f36.json\",\"place_type\":\"city\",\"name\":\"Manhattan\",\"full_name\":\"Manhattan, NY\",\"country_code\":\"US\",\"country\":\"United States\",\"bounding_box\":{\"type\":\"Polygon\",\"coordinates\":[[[-74.026675,40.683935],[-74.026675,40.877483],[-73.910408,40.877483],[-73.910408,40.683935]]]},\"attributes\":{}},\"contributors\":null,\"is_quote_status\":false,\"retweet_count\":0,\"favorite_count\":0,\"entities\":{\"hashtags\":[{\"text\":\"BernieSanders\",\"indices\":[13,27]},{\"text\":\"GoldmanSachs\",\"indices\":[75,88]}],\"urls\":[],\"user_mentions\":[],\"symbols\":[],\"media\":[{\"id\":702186787679002624,\"id_str\":\"702186787679002624\",\"indices\":[116,139],\"media_url\":\"http:\\\\/\\\\/pbs.twimg.com\\\\/media\\\\/Cb6rKb2UYAAR1Kc.jpg\",\"media_url_https\":\"https:\\\\/\\\\/pbs.twimg.com\\\\/media\\\\/Cb6rKb2UYAAR1Kc.jpg\",\"url\":\"https:\\\\/\\\\/t.co\\\\/P7pFm2MT9e\",\"display_url\":\"pic.twitter.com\\\\/P7pFm2MT9e\",\"expanded_url\":\"http:\\\\/\\\\/twitter.com\\\\/MarniHalasa1\\\\/status\\\\/702186789189132288\\\\/photo\\\\/1\",\"type\":\"photo\",\"sizes\":{\"thumb\":{\"w\":150,\"h\":150,\"resize\":\"crop\"},\"large\":{\"w\":2048,\"h\":1536,\"resize\":\"fit\"},\"medium\":{\"w\":1200,\"h\":900,\"resize\":\"fit\"},\"small\":{\"w\":680,\"h\":510,\"resize\":\"fit\"}}}]},\"extended_entities\":{\"media\":[{\"id\":702186787679002624,\"id_str\":\"702186787679002624\",\"indices\":[116,139],\"media_url\":\"http:\\\\/\\\\/pbs.twimg.com\\\\/media\\\\/Cb6rKb2UYAAR1Kc.jpg\",\"media_url_https\":\"https:\\\\/\\\\/pbs.twimg.com\\\\/media\\\\/Cb6rKb2UYAAR1Kc.jpg\",\"url\":\"https:\\\\/\\\\/t.co\\\\/P7pFm2MT9e\",\"display_url\":\"pic.twitter.com\\\\/P7pFm2MT9e\",\"expanded_url\":\"http:\\\\/\\\\/twitter.com\\\\/MarniHalasa1\\\\/status\\\\/702186789189132288\\\\/photo\\\\/1\",\"type\":\"photo\",\"sizes\":{\"thumb\":{\"w\":150,\"h\":150,\"resize\":\"crop\"},\"large\":{\"w\":2048,\"h\":1536,\"resize\":\"fit\"},\"medium\":{\"w\":1200,\"h\":900,\"resize\":\"fit\"},\"small\":{\"w\":680,\"h\":510,\"resize\":\"fit\"}}}]},\"favorited\":false,\"retweeted\":false,\"possibly_sensitive\":false,\"filter_level\":\"low\",\"lang\":\"en\",\"timestamp_ms\":\"1456249351199\"}']\n",
      "Number of elements: 2150\n"
     ]
    }
   ],
   "source": [
    "timer_start()\n",
    "\n",
    "\n",
    "with open('./hw2-files.txt') as f:\n",
    "    file_path = [w.strip() for w in f.readlines() if w.strip()]\n",
    "\n",
    "count = 0\n",
    "for path in file_path:\n",
    "    print(\"Reading file: \" + path)\n",
    "    baseRdd = sc.textFile(path).cache()\n",
    "    count = count + baseRdd.count()\n",
    "\n",
    "my_output.append(\"num-tweets\", count)\n",
    "print(baseRdd.take(1))\n",
    "print('Number of elements:', count)\n",
    "timer_stop(\"read data\")"
   ]
  },
  {
   "cell_type": "markdown",
   "metadata": {},
   "source": [
    "# Part 1: Parse JSON strings to JSON objects"
   ]
  },
  {
   "cell_type": "markdown",
   "metadata": {},
   "source": [
    "Python has built-in support for JSON."
   ]
  },
  {
   "cell_type": "code",
   "execution_count": 7,
   "metadata": {
    "ExecuteTime": {
     "end_time": "2018-07-12T12:47:51.344222Z",
     "start_time": "2018-07-12T12:47:51.282767Z"
    }
   },
   "outputs": [
    {
     "data": {
      "text/plain": [
       "{'id': 1, 'name': 'A green door', 'price': 12.5, 'tags': ['home', 'green']}"
      ]
     },
     "execution_count": 7,
     "metadata": {},
     "output_type": "execute_result"
    }
   ],
   "source": [
    "import json\n",
    "\n",
    "json_example = '''\n",
    "{\n",
    "    \"id\": 1,\n",
    "    \"name\": \"A green door\",\n",
    "    \"price\": 12.50,\n",
    "    \"tags\": [\"home\", \"green\"]\n",
    "}\n",
    "'''\n",
    "\n",
    "json_obj = json.loads(json_example)\n",
    "json_obj"
   ]
  },
  {
   "cell_type": "markdown",
   "metadata": {},
   "source": [
    "## Broken tweets and irrelevant messages\n",
    "\n",
    "The data of this assignment may contain broken tweets (invalid JSON strings). So make sure that your code is robust for such cases.\n",
    "\n",
    "You can filter out such broken tweet by checking if:\n",
    "* the line is not in json format\n",
    "\n",
    "In addition, some lines in the input file might not be tweets, but messages that the Twitter server sent to the developer (such as [limit notices](https://dev.twitter.com/streaming/overview/messages-types#limit_notices)). Your program should also ignore these messages.\n",
    "\n",
    "These messages would not contain the `created_at` field and can be filtered out accordingly.\n",
    "* Check if json object of the broken tweet has a `created_at` field\n",
    "\n",
    "*Hint:* [Catch the ValueError](http://stackoverflow.com/questions/11294535/verify-if-a-string-is-json-in-python)\n",
    "\n",
    "**********************************************************************************\n",
    "\n",
    "**Tasks**\n",
    "\n",
    "(1) Parse raw JSON tweets to obtain valid JSON objects. \n",
    "\n",
    "(2) From all valid tweets, construct a pair RDD of `(user_id, text)`, where `user_id` is the `id_str` data field of the `user` dictionary (read [Tweets](#Tweets) section above), `text` is the `text` data field."
   ]
  },
  {
   "cell_type": "code",
   "execution_count": 8,
   "metadata": {
    "ExecuteTime": {
     "end_time": "2018-07-12T12:47:57.191959Z",
     "start_time": "2018-07-12T12:47:57.170874Z"
    }
   },
   "outputs": [],
   "source": [
    "import json\n",
    "\n",
    "def safe_parse(raw_json):\n",
    "    try:\n",
    "        json_object = json.loads(raw_json)\n",
    "    except ValueError as e:\n",
    "        return None\n",
    "    return json_object\n",
    "    \n"
   ]
  },
  {
   "cell_type": "code",
   "execution_count": 10,
   "metadata": {
    "ExecuteTime": {
     "end_time": "2018-07-12T12:48:26.842535Z",
     "start_time": "2018-07-12T12:48:26.560217Z"
    }
   },
   "outputs": [
    {
     "name": "stdout",
     "output_type": "stream",
     "text": [
      "[('470520068', \"I'm voting 4 #BernieSanders bc he doesn't ride a CAPITALIST PIG adorned w/ #GoldmanSachs $. SYSTEM RIGGED CLASS WAR https://t.co/P7pFm2MT9e\"), ('2176120173', \"RT @TrumpNewMedia: .@realDonaldTrump #America get out &amp; #VoteTrump if you don't #VoteTrump NOTHING will change it's that simple!\\n#Trump htt…\"), ('145087572', 'RT @Libertea2012: RT TODAY: #Colorado’s leading progressive voices to endorse @BernieSanders! #Denver 11AM - 1PM in MST CO State Capitol…'), ('23047147', '[VID] Liberal Tears Pour After Bernie Supporter Had To Deal With Trump Fans https://t.co/GFio6jeCBy via @MadWorldNews'), ('526506000', 'RT @justinamash: .@tedcruz is the only remaining candidate I trust to take on what he correctly calls the Washington Cartel. https://t.co/N…')]\n"
     ]
    }
   ],
   "source": [
    "\"\"\"\n",
    "# Remember to construct an RDD of (user_id, text) here.\n",
    "\"\"\"\n",
    "\n",
    "def createTweetEntry(s):\n",
    "    json = safe_parse(s)\n",
    "    if (json is None or not \"user\" in json or not \"id_str\" in json[\"user\"] or not \"text\" in json):\n",
    "        return None\n",
    "    else:\n",
    "        return (json[\"user\"][\"id_str\"], json[\"text\"])\n",
    "\n",
    "tweetRdd = baseRdd.map(createTweetEntry).filter(lambda x: x is not None)\n",
    "\n",
    "print(tweetRdd.take(5))\n",
    "\n"
   ]
  },
  {
   "cell_type": "markdown",
   "metadata": {},
   "source": [
    "## Number of unique users\n",
    "\n",
    "Count the number of different users in all valid tweets\n",
    "\n",
    "(hint: [the `distinct()` method](https://spark.apache.org/docs/latest/programming-guide.html#transformations) is an easy way to do this, but try to see if there is a faster way to do this).\n",
    "\n",
    "*******************************************************************************\n",
    "\n",
    "**It should print**\n",
    "```\n",
    "The number of unique users is: 1748\n",
    "```"
   ]
  },
  {
   "cell_type": "code",
   "execution_count": 11,
   "metadata": {
    "ExecuteTime": {
     "end_time": "2018-07-12T12:48:34.786854Z",
     "start_time": "2018-07-12T12:48:33.508195Z"
    }
   },
   "outputs": [
    {
     "name": "stdout",
     "output_type": "stream",
     "text": [
      "The number of unique users is: 1748\n"
     ]
    }
   ],
   "source": [
    "timer_start()\n",
    "\n",
    "users_count = tweetRdd.map(lambda x: (x[0], 1)).\\\n",
    "                reduceByKey(lambda x,y: x*y).\\\n",
    "                map(lambda x: x[1]).\\\n",
    "                reduce(lambda x,y: x+y)\n",
    "\n",
    "my_output.append(\"num-unique-users\", users_count)\n",
    "print('The number of unique users is:', users_count)\n",
    "timer_stop(\"Count unique users\")"
   ]
  },
  {
   "cell_type": "markdown",
   "metadata": {},
   "source": [
    "# Part 2: Number of posts from each user partition"
   ]
  },
  {
   "cell_type": "markdown",
   "metadata": {},
   "source": [
    "Load the Pickle file `/twitter/users-partition.pickle`, you will get a dictionary which represents a partition over 452,743 Twitter users, `{user_id: partition_id}`. The users are partitioned into 7 groups. For example, if the dictionary is loaded into a variable named `partition`, the partition ID of the user `59458445` is `partition[\"59458445\"]`. These users are partitioned into 7 groups. The partition ID is an integer between 0-6.\n",
    "\n",
    "Note that the user partition we provide doesn't cover all users appear in the input data."
   ]
  },
  {
   "cell_type": "markdown",
   "metadata": {},
   "source": [
    "## Load the pickle file\n",
    "\n",
    "For local testing, you can load the pickle file from the local file system, namely\n",
    "\n",
    "```\n",
    "proc = subprocess.Popen([\"cat\", \"./users-partition.pickle\"],\n",
    "                        stdout=subprocess.PIPE)\n",
    "pickle_content = proc.communicate()[0]\n",
    "```\n",
    "However, for submission, please keep following code block unchanged, since on the server the pickle file is located on the HDFS."
   ]
  },
  {
   "cell_type": "code",
   "execution_count": 12,
   "metadata": {
    "ExecuteTime": {
     "end_time": "2018-07-12T12:48:53.155161Z",
     "start_time": "2018-07-12T12:48:52.201446Z"
    }
   },
   "outputs": [
    {
     "data": {
      "text/plain": [
       "452743"
      ]
     },
     "execution_count": 12,
     "metadata": {},
     "output_type": "execute_result"
    }
   ],
   "source": [
    "import subprocess\n",
    "import pickle\n",
    "\n",
    "if ON_EMR:\n",
    "    proc = subprocess.Popen([\"/usr/local/hadoop/hadoop-2.7.4/bin/hadoop\", \"fs\", \"-cat\", \"/user/spark/twitter/users-partition.pickle\"],\n",
    "                            stdout=subprocess.PIPE)\n",
    "    pickle_content = proc.communicate()[0]\n",
    "    \n",
    "else:\n",
    "    #!wget 'http://mas-dse-open.s3.amazonaws.com/Twitter/users-partition.pickle' -O './users-partition.pickle'\n",
    "    proc = subprocess.Popen([\"cat\", \"./users-partition.pickle\"],\n",
    "                        stdout=subprocess.PIPE)\n",
    "    pickle_content = proc.communicate()[0]\n",
    "\n",
    "partition = pickle.loads(pickle_content)\n",
    "len(partition)"
   ]
  },
  {
   "cell_type": "markdown",
   "metadata": {},
   "source": [
    "## Tweets per user partition\n",
    "\n",
    "1. Count the number of posts from each user partition\n",
    "\n",
    "2. Count the number of posts from group 0, 1, ..., 6, plus the number of posts from users who are not in any partition. Assign users who are not in any partition to the group 7.\n",
    "\n",
    "3. Put the results of this step into a pair RDD `(group_id, count)` that is sorted by key.\n",
    "\n",
    "\n",
    "\n",
    "Print the post count using the `print_post_count` function we provided.\n",
    "\n",
    "**It should print**\n",
    "\n",
    "```\n",
    "Group 0 posted 87 tweets\n",
    "Group 1 posted 242 tweets\n",
    "Group 2 posted 41 tweets\n",
    "Group 3 posted 349 tweets\n",
    "Group 4 posted 101 tweets\n",
    "Group 5 posted 358 tweets\n",
    "Group 6 posted 434 tweets\n",
    "Group 7 posted 521 tweets\n",
    "```"
   ]
  },
  {
   "cell_type": "code",
   "execution_count": 13,
   "metadata": {
    "ExecuteTime": {
     "end_time": "2018-07-12T12:50:04.373329Z",
     "start_time": "2018-07-12T12:50:04.345855Z"
    }
   },
   "outputs": [],
   "source": [
    "def print_post_count(counts):\n",
    "    for group_id, count in counts:\n",
    "        print('Group %d posted %d tweets' % (group_id, count))"
   ]
  },
  {
   "cell_type": "code",
   "execution_count": 14,
   "metadata": {
    "ExecuteTime": {
     "end_time": "2018-07-12T12:50:11.253609Z",
     "start_time": "2018-07-12T12:50:05.428527Z"
    }
   },
   "outputs": [
    {
     "name": "stdout",
     "output_type": "stream",
     "text": [
      "Group 0 posted 87 tweets\n",
      "Group 1 posted 242 tweets\n",
      "Group 2 posted 41 tweets\n",
      "Group 3 posted 349 tweets\n",
      "Group 4 posted 101 tweets\n",
      "Group 5 posted 358 tweets\n",
      "Group 6 posted 434 tweets\n",
      "Group 7 posted 521 tweets\n"
     ]
    }
   ],
   "source": [
    "timer_start()\n",
    "\n",
    "def getTweetUserPartition(tweetId):\n",
    "    if (tweetId in partition):\n",
    "        return partition[tweetId]\n",
    "    return 7\n",
    "\n",
    "counts_per_partition = tweetRdd.\\\n",
    "        map(lambda x: (getTweetUserPartition(x[0]), 1)).\\\n",
    "        reduceByKey(lambda x,y: x+y).sortByKey().collect()\n",
    "        \n",
    "# Following code adds your solution to `my_output`\n",
    "assert(type(counts_per_partition) is list and\n",
    "       len(counts_per_partition) == 8 and\n",
    "       len(counts_per_partition[0]) == 2)\n",
    "my_output.append(\"counts_per_part\", counts_per_partition)\n",
    "print_post_count(counts_per_partition)\n",
    "timer_stop(\"Count tweets per user partition\")"
   ]
  },
  {
   "cell_type": "markdown",
   "metadata": {
    "collapsed": true
   },
   "source": [
    "# Part 3:  Tokens that are relatively popular in each user partition"
   ]
  },
  {
   "cell_type": "markdown",
   "metadata": {
    "collapsed": true
   },
   "source": [
    "In this step, we are going to find tokens that are relatively popular in each user partition.\n",
    "\n",
    "We define the number of mentions of a token $t$ in a specific user partition $k$ as the number of users from the user partition $k$ that ever mentioned the token $t$ in their tweets. Note that even if some users might mention a token $t$ multiple times or in multiple tweets, a user will contribute at most 1 to the counter of the token $t$.\n",
    "\n",
    "Please make sure that the number of mentions of a token is equal to the number of users who mentioned this token but NOT the number of tweets that mentioned this token.\n",
    "\n",
    "Let $N_t^k$ be the number of mentions of the token $t$ in the user partition $k$. Let $N_t^{all} = \\sum_{i=0}^7 N_t^{i}$ be the number of total mentions of the token $t$.\n",
    "\n",
    "We define the relative popularity of a token $t$ in a user partition $k$ as the log ratio between $N_t^k$ and $N_t^{all}$, i.e. \n",
    "\n",
    "\\begin{equation}\n",
    "p_t^k = \\log \\frac{N_t^k}{N_t^{all}}.\n",
    "\\end{equation}\n",
    "\n",
    "\n",
    "You can compute the relative popularity by calling the function `get_rel_popularity`."
   ]
  },
  {
   "cell_type": "markdown",
   "metadata": {},
   "source": [
    "We load a tweet tokenizer for you in the following cells. This Tokenizer object is called `tok`. Don't forget to execute the two cells below.\n",
    "\n",
    "You can expand the following cell if needed to see the minutae of the Tokenizer."
   ]
  },
  {
   "cell_type": "code",
   "execution_count": 15,
   "metadata": {
    "ExecuteTime": {
     "end_time": "2018-07-12T12:53:29.961540Z",
     "start_time": "2018-07-12T12:53:29.465712Z"
    }
   },
   "outputs": [],
   "source": [
    "#!/usr/bin/env python\n",
    "\n",
    "\"\"\"\n",
    "This code implements a basic, Twitter-aware tokenizer.\n",
    "\n",
    "A tokenizer is a function that splits a string of text into words. In\n",
    "Python terms, we map string and unicode objects into lists of unicode\n",
    "objects.\n",
    "\n",
    "There is not a single right way to do tokenizing. The best method\n",
    "depends on the application.  This tokenizer is designed to be flexible\n",
    "and this easy to adapt to new domains and tasks.  The basic logic is\n",
    "this:\n",
    "\n",
    "1. The tuple regex_strings defines a list of regular expression\n",
    "   strings.\n",
    "\n",
    "2. The regex_strings strings are put, in order, into a compiled\n",
    "   regular expression object called word_re.\n",
    "\n",
    "3. The tokenization is done by word_re.findall(s), where s is the\n",
    "   user-supplied string, inside the tokenize() method of the class\n",
    "   Tokenizer.\n",
    "\n",
    "4. When instantiating Tokenizer objects, there is a single option:\n",
    "   preserve_case.  By default, it is set to True. If it is set to\n",
    "   False, then the tokenizer will downcase everything except for\n",
    "   emoticons.\n",
    "\n",
    "The __main__ method illustrates by tokenizing a few examples.\n",
    "\n",
    "I've also included a Tokenizer method tokenize_random_tweet(). If the\n",
    "twitter library is installed (http://code.google.com/p/python-twitter/)\n",
    "and Twitter is cooperating, then it should tokenize a random\n",
    "English-language tweet.\n",
    "\n",
    "\n",
    "Julaiti Alafate:\n",
    "  I modified the regex strings to extract URLs in tweets.\n",
    "\"\"\"\n",
    "\n",
    "__author__ = \"Christopher Potts\"\n",
    "__copyright__ = \"Copyright 2011, Christopher Potts\"\n",
    "__credits__ = []\n",
    "__license__ = \"Creative Commons Attribution-NonCommercial-ShareAlike 3.0 Unported License: http://creativecommons.org/licenses/by-nc-sa/3.0/\"\n",
    "__version__ = \"1.0\"\n",
    "__maintainer__ = \"Christopher Potts\"\n",
    "__email__ = \"See the author's website\"\n",
    "\n",
    "######################################################################\n",
    "\n",
    "import re\n",
    "from html import entities \n",
    "\n",
    "######################################################################\n",
    "# The following strings are components in the regular expression\n",
    "# that is used for tokenizing. It's important that phone_number\n",
    "# appears first in the final regex (since it can contain whitespace).\n",
    "# It also could matter that tags comes after emoticons, due to the\n",
    "# possibility of having text like\n",
    "#\n",
    "#     <:| and some text >:)\n",
    "#\n",
    "# Most imporatantly, the final element should always be last, since it\n",
    "# does a last ditch whitespace-based tokenization of whatever is left.\n",
    "\n",
    "# This particular element is used in a couple ways, so we define it\n",
    "# with a name:\n",
    "emoticon_string = r\"\"\"\n",
    "    (?:\n",
    "      [<>]?\n",
    "      [:;=8]                     # eyes\n",
    "      [\\-o\\*\\']?                 # optional nose\n",
    "      [\\)\\]\\(\\[dDpP/\\:\\}\\{@\\|\\\\] # mouth      \n",
    "      |\n",
    "      [\\)\\]\\(\\[dDpP/\\:\\}\\{@\\|\\\\] # mouth\n",
    "      [\\-o\\*\\']?                 # optional nose\n",
    "      [:;=8]                     # eyes\n",
    "      [<>]?\n",
    "    )\"\"\"\n",
    "\n",
    "# The components of the tokenizer:\n",
    "regex_strings = (\n",
    "    # Phone numbers:\n",
    "    r\"\"\"\n",
    "    (?:\n",
    "      (?:            # (international)\n",
    "        \\+?[01]\n",
    "        [\\-\\s.]*\n",
    "      )?            \n",
    "      (?:            # (area code)\n",
    "        [\\(]?\n",
    "        \\d{3}\n",
    "        [\\-\\s.\\)]*\n",
    "      )?    \n",
    "      \\d{3}          # exchange\n",
    "      [\\-\\s.]*   \n",
    "      \\d{4}          # base\n",
    "    )\"\"\"\n",
    "    ,\n",
    "    # URLs:\n",
    "    r\"\"\"http[s]?://(?:[a-zA-Z]|[0-9]|[$-_@.&+]|[!*\\(\\),]|(?:%[0-9a-fA-F][0-9a-fA-F]))+\"\"\"\n",
    "    ,\n",
    "    # Emoticons:\n",
    "    emoticon_string\n",
    "    ,    \n",
    "    # HTML tags:\n",
    "     r\"\"\"<[^>]+>\"\"\"\n",
    "    ,\n",
    "    # Twitter username:\n",
    "    r\"\"\"(?:@[\\w_]+)\"\"\"\n",
    "    ,\n",
    "    # Twitter hashtags:\n",
    "    r\"\"\"(?:\\#+[\\w_]+[\\w\\'_\\-]*[\\w_]+)\"\"\"\n",
    "    ,\n",
    "    # Remaining word types:\n",
    "    r\"\"\"\n",
    "    (?:[a-z][a-z'\\-_]+[a-z])       # Words with apostrophes or dashes.\n",
    "    |\n",
    "    (?:[+\\-]?\\d+[,/.:-]\\d+[+\\-]?)  # Numbers, including fractions, decimals.\n",
    "    |\n",
    "    (?:[\\w_]+)                     # Words without apostrophes or dashes.\n",
    "    |\n",
    "    (?:\\.(?:\\s*\\.){1,})            # Ellipsis dots. \n",
    "    |\n",
    "    (?:\\S)                         # Everything else that isn't whitespace.\n",
    "    \"\"\"\n",
    "    )\n",
    "\n",
    "######################################################################\n",
    "# This is the core tokenizing regex:\n",
    "    \n",
    "word_re = re.compile(r\"\"\"(%s)\"\"\" % \"|\".join(regex_strings), re.VERBOSE | re.I | re.UNICODE)\n",
    "\n",
    "# The emoticon string gets its own regex so that we can preserve case for them as needed:\n",
    "emoticon_re = re.compile(regex_strings[1], re.VERBOSE | re.I | re.UNICODE)\n",
    "\n",
    "# These are for regularizing HTML entities to Unicode:\n",
    "html_entity_digit_re = re.compile(r\"&#\\d+;\")\n",
    "html_entity_alpha_re = re.compile(r\"&\\w+;\")\n",
    "amp = \"&amp;\"\n",
    "\n",
    "######################################################################\n",
    "\n",
    "class Tokenizer:\n",
    "    def __init__(self, preserve_case=False):\n",
    "        self.preserve_case = preserve_case\n",
    "\n",
    "    def tokenize(self, s):\n",
    "        \"\"\"\n",
    "        Argument: s -- any string or unicode object\n",
    "        Value: a tokenize list of strings; conatenating this list returns the original string if preserve_case=False\n",
    "        \"\"\"        \n",
    "        # Try to ensure unicode:\n",
    "        try:\n",
    "            s = str(s)\n",
    "        except UnicodeDecodeError:\n",
    "            s = s.encode('string_escape')\n",
    "            s = str(s)\n",
    "        # Fix HTML character entitites:\n",
    "        s = self.__html2unicode(s)\n",
    "        # Tokenize:\n",
    "        words = word_re.findall(s)\n",
    "        # Possible alter the case, but avoid changing emoticons like :D into :d:\n",
    "        if not self.preserve_case:            \n",
    "            words = map((lambda x : x if emoticon_re.search(x) else x.lower()), words)\n",
    "        return words\n",
    "\n",
    "    def tokenize_random_tweet(self):\n",
    "        \"\"\"\n",
    "        If the twitter library is installed and a twitter connection\n",
    "        can be established, then tokenize a random tweet.\n",
    "        \"\"\"\n",
    "        try:\n",
    "            import twitter\n",
    "        except ImportError:\n",
    "            print(\"Apologies. The random tweet functionality requires the Python twitter library: http://code.google.com/p/python-twitter/\")\n",
    "        from random import shuffle\n",
    "        api = twitter.Api()\n",
    "        tweets = api.GetPublicTimeline()\n",
    "        if tweets:\n",
    "            for tweet in tweets:\n",
    "                if tweet.user.lang == 'en':            \n",
    "                    return self.tokenize(tweet.text)\n",
    "        else:\n",
    "            raise Exception(\"Apologies. I couldn't get Twitter to give me a public English-language tweet. Perhaps try again\")\n",
    "\n",
    "    def __html2unicode(self, s):\n",
    "        \"\"\"\n",
    "        Internal metod that seeks to replace all the HTML entities in\n",
    "        s with their corresponding unicode characters.\n",
    "        \"\"\"\n",
    "        # First the digits:\n",
    "        ents = set(html_entity_digit_re.findall(s))\n",
    "        if len(ents) > 0:\n",
    "            for ent in ents:\n",
    "                entnum = ent[2:-1]\n",
    "                try:\n",
    "                    entnum = int(entnum)\n",
    "                    s = s.replace(ent, unichr(entnum))\t\n",
    "                except:\n",
    "                    pass\n",
    "        # Now the alpha versions:\n",
    "        ents = set(html_entity_alpha_re.findall(s))\n",
    "        ents = filter((lambda x : x != amp), ents)\n",
    "        for ent in ents:\n",
    "            entname = ent[1:-1]\n",
    "            try:            \n",
    "                s = s.replace(ent, unichr(entities.name2codepoint[entname]))\n",
    "            except:\n",
    "                pass                    \n",
    "            s = s.replace(amp, \" and \")\n",
    "        return s\n"
   ]
  },
  {
   "cell_type": "code",
   "execution_count": 16,
   "metadata": {
    "ExecuteTime": {
     "end_time": "2018-07-12T12:53:40.279530Z",
     "start_time": "2018-07-12T12:53:40.234088Z"
    }
   },
   "outputs": [],
   "source": [
    "from math import log\n",
    "\n",
    "tok = Tokenizer(preserve_case=False)\n",
    "\n",
    "def get_rel_popularity(c_k, c_all):\n",
    "    return log(1.0 * c_k / c_all) / log(2)\n",
    "\n",
    "\n",
    "def print_tokens(tokens, gid = None):\n",
    "    group_name = \"overall\"\n",
    "    if gid is not None:\n",
    "        group_name = \"group %d\" % gid\n",
    "    print('=' * 5 + ' ' + group_name + ' ' + '=' * 5)\n",
    "    for t, n in tokens:\n",
    "        print(\"%s\\t%.4f\" % (t, n))\n",
    "    print"
   ]
  },
  {
   "cell_type": "markdown",
   "metadata": {},
   "source": [
    "## Tokenize tweets\n",
    "\n",
    "1. Tokenize the tweets using the `tokenize` function that is a method of the `Tokenizer` class that we have instantiated as `tok`. \n",
    "\n",
    "1. Count the number of mentions for each tokens regardless of specific user group.\n",
    "\n",
    "1. Call `print_count` function to show how many different tokens we have.\n",
    "\n",
    "**It should print**\n",
    "```\n",
    "Number of tokens: 7677\n",
    "```"
   ]
  },
  {
   "cell_type": "code",
   "execution_count": 39,
   "metadata": {
    "ExecuteTime": {
     "end_time": "2018-07-12T14:32:11.250463Z",
     "start_time": "2018-07-12T14:32:10.014128Z"
    }
   },
   "outputs": [
    {
     "name": "stdout",
     "output_type": "stream",
     "text": [
      "Number of tokens: 7677\n"
     ]
    }
   ],
   "source": [
    "# YOUR CODE HERE\n",
    "#for x in tok.tokenize(\"x[1] Hello world\"):\n",
    "#    print(x)\n",
    "\n",
    "# Create list of tokens per user.\n",
    "tokenizedRdd = tweetRdd.map(lambda x: (x[0], list(tok.tokenize(x[1])))).cache()\n",
    "\n",
    "# Use flatMap to get the list returned by each lambda function applied to a value and merge them at the end.\n",
    "# Then we removed duplicated elements.\n",
    "num_of_tokens = tokenizedRdd.flatMap(lambda x: (x[1])).distinct().count()\n",
    "\n",
    "my_output.append(\"num-tokens\", num_of_tokens)\n",
    "print(\"Number of tokens:\", num_of_tokens)"
   ]
  },
  {
   "cell_type": "markdown",
   "metadata": {},
   "source": [
    "## Token popularity\n",
    "\n",
    "Tokens that are mentioned by too few users are usually not very interesting. So we want to only keep tokens that are mentioned by at least 100 users. Filter out tokens that don't meet this requirement.\n",
    "\n",
    "Call `print_count` function to show how many different tokens we have after the filtering.\n",
    "\n",
    "Call `print_tokens` function to show top 20 most frequent tokens.\n",
    "\n",
    "**It should print**\n",
    "```\n",
    "Number of tokens: 46\n",
    "===== overall =====\n",
    ":\t1046.0000\n",
    "rt\t920.0000\n",
    ".\t767.0000\n",
    "the\t587.0000\n",
    "trump\t560.0000\n",
    "…\t520.0000\n",
    "to\t501.0000\n",
    ",\t497.0000\n",
    "in\t385.0000\n",
    "a\t383.0000\n",
    "is\t382.0000\n",
    "of\t300.0000\n",
    "!\t285.0000\n",
    "for\t275.0000\n",
    "and\t263.0000\n",
    "on\t218.0000\n",
    "i\t216.0000\n",
    "he\t191.0000\n",
    "that\t190.0000\n",
    "\"\t181.0000\n",
    "```"
   ]
  },
  {
   "cell_type": "code",
   "execution_count": 75,
   "metadata": {
    "ExecuteTime": {
     "end_time": "2018-07-12T15:35:14.634568Z",
     "start_time": "2018-07-12T15:35:13.853661Z"
    }
   },
   "outputs": [
    {
     "name": "stdout",
     "output_type": "stream",
     "text": [
      "Number of tokens: 46\n",
      "===== overall =====\n",
      ":\t1046.0000\n",
      "rt\t920.0000\n",
      ".\t767.0000\n",
      "the\t587.0000\n",
      "trump\t560.0000\n",
      "…\t520.0000\n",
      "to\t501.0000\n",
      ",\t497.0000\n",
      "in\t385.0000\n",
      "a\t383.0000\n",
      "is\t382.0000\n",
      "of\t300.0000\n",
      "!\t285.0000\n",
      "for\t275.0000\n",
      "and\t263.0000\n",
      "on\t218.0000\n",
      "i\t216.0000\n",
      "he\t191.0000\n",
      "that\t190.0000\n",
      "\"\t181.0000\n"
     ]
    }
   ],
   "source": [
    "timer_start()\n",
    "\n",
    "def tokenListExplode(l):\n",
    "    ret = []\n",
    "    for token in l:\n",
    "        ret.append((token, 1))\n",
    "    return ret\n",
    "\n",
    "freqTokenThreshold = 100\n",
    "\n",
    "# YOUR CODE HERE\n",
    "# Create list of unique tokens per user.\n",
    "# We use the set data structure to remove duplicates and convert back to list at the end.\n",
    "# Then we merge all tweets by the same user and remove duplicates again.\n",
    "uniqueTokenizedRdd = tokenizedRdd.map(lambda x: (x[0], list(set(x[1])))).\\\n",
    "    reduceByKey(lambda x,y: x + y).map(lambda x: (x[0], list(set(x[1]))))\n",
    "    \n",
    "# Sum all token count, filter only tokens that appeared more than a threshold and\n",
    "# reverse pairs to sort by count amount.\n",
    "# Note that we only reverse the pair order to sort by count value and then reverse back.\n",
    "freqTokens = uniqueTokenizedRdd.flatMap(lambda x: tokenListExplode(x[1])).\\\n",
    "    reduceByKey(lambda x,y: x + y).\\\n",
    "    filter(lambda x: x[1] >= freqTokenThreshold).\\\n",
    "    map(lambda x: (x[1], x[0])).sortByKey(ascending = False).map(lambda x: (x[1], x[0])).cache()\n",
    "\n",
    "top20 = freqTokens.take(20)\n",
    "num_freq_tokens = freqTokens.count()\n",
    "\n",
    "my_output.append(\"num-freq-tokens\", num_freq_tokens)\n",
    "my_output.append(\"top-20-tokens\", top20)\n",
    "print(\"Number of tokens:\", num_freq_tokens)\n",
    "print_tokens(top20)\n",
    "timer_stop(\"Count overall most popular tokens\")"
   ]
  },
  {
   "cell_type": "markdown",
   "metadata": {},
   "source": [
    "## Relative Popularity\n",
    "\n",
    "For all tokens that are mentioned by at least 100 users, compute their relative popularity in each user group. Then print the top 10 tokens with highest relative popularity in each user group. In case two tokens have same relative popularity, break the tie by printing the alphabetically smaller one.\n",
    "\n",
    "**Hint:** Let the relative popularity of a token $t$ be $p$. The order of the items will be satisfied by sorting them using (-p, t) as the key.\n",
    "\n",
    "**It should print**\n",
    "```\n",
    "===== group 0 =====\n",
    "with\t-3.6088\n",
    "cruz\t-3.6554\n",
    "his\t-3.6582\n",
    "amp\t-3.8651\n",
    "on\t-3.9608\n",
    "to\t-4.0145\n",
    "&\t-4.0875\n",
    "https\t-4.1699\n",
    "i\t-4.1699\n",
    "what\t-4.1699\n",
    "===== group 1 =====\n",
    "sanders\t-2.2854\n",
    "gop\t-2.4060\n",
    "hillary\t-2.4330\n",
    "’\t-2.4463\n",
    "bernie\t-2.4835\n",
    "\"\t-2.6925\n",
    "are\t-2.7249\n",
    "this\t-2.7633\n",
    "for\t-2.8179\n",
    "about\t-2.8346\n",
    "===== group 2 =====\n",
    "with\t-4.3458\n",
    "donald\t-4.5146\n",
    "...\t-4.7004\n",
    "gop\t-4.7279\n",
    "i\t-4.9475\n",
    "on\t-4.9608\n",
    "he\t-4.9925\n",
    "…\t-5.1155\n",
    "https\t-5.1699\n",
    "what\t-5.1699\n",
    "===== group 3 =====\n",
    "bernie\t-1.5945\n",
    "sanders\t-1.6609\n",
    "hillary\t-2.2188\n",
    "and\t-2.5154\n",
    "\"\t-2.5930\n",
    "in\t-2.6114\n",
    "will\t-2.6160\n",
    "https\t-2.6674\n",
    "...\t-2.7004\n",
    "you\t-2.7004\n",
    "===== group 4 =====\n",
    "what\t-3.4330\n",
    "have\t-3.4725\n",
    "bernie\t-3.5380\n",
    "this\t-3.5518\n",
    "it\t-3.6881\n",
    "?\t-3.6912\n",
    "for\t-3.7110\n",
    "about\t-3.7415\n",
    "hillary\t-3.7549\n",
    "that\t-3.7625\n",
    "===== group 5 =====\n",
    "what\t-1.8007\n",
    "not\t-1.8745\n",
    "https\t-2.0000\n",
    "his\t-2.0144\n",
    "cruz\t-2.0704\n",
    "it\t-2.1031\n",
    "on\t-2.1243\n",
    "&\t-2.1399\n",
    "amp\t-2.1489\n",
    ";\t-2.1592\n",
    "===== group 6 =====\n",
    "will\t-1.3847\n",
    "have\t-1.4725\n",
    "!\t-1.5850\n",
    "cruz\t-1.6919\n",
    "trump\t-1.7199\n",
    "https\t-1.7549\n",
    "-\t-1.7673\n",
    ";\t-1.7807\n",
    "be\t-1.7952\n",
    "amp\t-1.8144\n",
    "===== group 7 =====\n",
    "donald\t-1.0740\n",
    "trump\t-1.6535\n",
    "bernie\t-1.7790\n",
    "sanders\t-1.7829\n",
    "’\t-1.8613\n",
    "of\t-1.9069\n",
    "?\t-1.9186\n",
    "with\t-1.9307\n",
    "the\t-1.9588\n",
    "be\t-1.9758\n",
    "```"
   ]
  },
  {
   "cell_type": "code",
   "execution_count": 144,
   "metadata": {
    "ExecuteTime": {
     "end_time": "2018-07-12T22:25:36.725070Z",
     "start_time": "2018-07-12T22:25:36.664234Z"
    }
   },
   "outputs": [
    {
     "name": "stdout",
     "output_type": "stream",
     "text": [
      "-0.030000000000000027\n",
      "[('aaa', -0.314), ('aaa', -0.414), ('aaa', -0.444)]\n"
     ]
    }
   ],
   "source": [
    "# Auxiliar method for the next section.\n",
    "def getTokenKey(pair):\n",
    "    return (-1 * pair[1], pair[0])\n",
    "\n",
    "def mergeGroupTokens(tokens1, tokens2):\n",
    "    maxLen = 10\n",
    "    mergedTokens = tokens1 + tokens2\n",
    "    mergedTokens = sorted(mergedTokens, key = getTokenKey)\n",
    "    if len(mergedTokens) <= maxLen:\n",
    "        return mergedTokens\n",
    "    \n",
    "    delta = maxLen - len(mergedTokens)\n",
    "    return mergedTokens[:maxLen]\n",
    "\n",
    "pair1 = (\"aaa\", -0.444)\n",
    "pair2 = (\"aaa\", -0.414)\n",
    "pair3 = (\"aaa\", -0.314)\n",
    "print(compTokens(pair1, pair2))\n",
    "\n",
    "print(mergeGroupTokens([pair1, pair2], [pair3]))"
   ]
  },
  {
   "cell_type": "code",
   "execution_count": 149,
   "metadata": {
    "ExecuteTime": {
     "end_time": "2018-07-12T22:28:35.105787Z",
     "start_time": "2018-07-12T22:28:29.322826Z"
    }
   },
   "outputs": [
    {
     "name": "stdout",
     "output_type": "stream",
     "text": [
      "===== group 0 =====\n",
      "with\t-3.6088\n",
      "cruz\t-3.6554\n",
      "his\t-3.6582\n",
      "amp\t-3.8651\n",
      "on\t-3.9608\n",
      "to\t-4.0145\n",
      "&\t-4.0875\n",
      "https\t-4.1699\n",
      "i\t-4.1699\n",
      "what\t-4.1699\n",
      "===== group 1 =====\n",
      "sanders\t-2.2854\n",
      "gop\t-2.4060\n",
      "hillary\t-2.4330\n",
      "’\t-2.4463\n",
      "bernie\t-2.4835\n",
      "\"\t-2.6925\n",
      "are\t-2.7249\n",
      "this\t-2.7633\n",
      "for\t-2.8179\n",
      "about\t-2.8346\n",
      "===== group 2 =====\n",
      "with\t-4.3458\n",
      "donald\t-4.5146\n",
      "...\t-4.7004\n",
      "gop\t-4.7279\n",
      "i\t-4.9475\n",
      "on\t-4.9608\n",
      "he\t-4.9925\n",
      "…\t-5.1155\n",
      "https\t-5.1699\n",
      "what\t-5.1699\n",
      "===== group 3 =====\n",
      "bernie\t-1.5945\n",
      "sanders\t-1.6609\n",
      "hillary\t-2.2188\n",
      "and\t-2.5154\n",
      "\"\t-2.5930\n",
      "in\t-2.6114\n",
      "will\t-2.6160\n",
      "https\t-2.6674\n",
      "...\t-2.7004\n",
      "you\t-2.7004\n",
      "===== group 4 =====\n",
      "what\t-3.4330\n",
      "have\t-3.4725\n",
      "bernie\t-3.5380\n",
      "this\t-3.5518\n",
      "it\t-3.6881\n",
      "?\t-3.6912\n",
      "for\t-3.7110\n",
      "about\t-3.7415\n",
      "hillary\t-3.7549\n",
      "that\t-3.7625\n",
      "===== group 5 =====\n",
      "what\t-1.8007\n",
      "not\t-1.8745\n",
      "https\t-2.0000\n",
      "his\t-2.0144\n",
      "cruz\t-2.0704\n",
      "it\t-2.1031\n",
      "on\t-2.1243\n",
      "&\t-2.1399\n",
      "amp\t-2.1489\n",
      ";\t-2.1592\n",
      "===== group 6 =====\n",
      "will\t-1.3847\n",
      "have\t-1.4725\n",
      "!\t-1.5850\n",
      "cruz\t-1.6919\n",
      "trump\t-1.7199\n",
      "https\t-1.7549\n",
      "-\t-1.7673\n",
      ";\t-1.7807\n",
      "be\t-1.7952\n",
      "amp\t-1.8144\n",
      "===== group 7 =====\n",
      "donald\t-1.0740\n",
      "trump\t-1.6535\n",
      "bernie\t-1.7790\n",
      "sanders\t-1.7829\n",
      "’\t-1.8613\n",
      "of\t-1.9069\n",
      "?\t-1.9186\n",
      "with\t-1.9307\n",
      "the\t-1.9588\n",
      "be\t-1.9758\n"
     ]
    }
   ],
   "source": [
    "timer_start()\n",
    "\n",
    "def removeUnfreqTokens(l, freqTokens):\n",
    "    ret = []\n",
    "    for x in l:\n",
    "        if x in freqTokens:\n",
    "            ret.append(x)\n",
    "    return ret    \n",
    "\n",
    "def separateByTokenAndGroup(pair):\n",
    "    groupId = pair[0]\n",
    "    tokens = pair[1]\n",
    "    ret = []\n",
    "    for t in tokens:\n",
    "        ret.append(((groupId, t), 1))\n",
    "    return ret    \n",
    "\n",
    "# YOUR CODE HERE\n",
    "freqTokensList = freqTokens.map(lambda x: x[0]).collect()\n",
    "\n",
    "# We start creating a RDD of Tweet user group x List of Unique tokens.\n",
    "uniqueFreqTokenByGroupRdd = uniqueTokenizedRdd.map(lambda x: (getTweetUserPartition(x[0]), x[1]))\n",
    "                                                \n",
    "# Then we filter to only display the most frequent tokens for each entry.\n",
    "uniqueFreqTokenByGroupRdd = uniqueFreqTokenizedRdd.map(lambda x: (x[0], removeUnfreqTokens(x[1], freqTokensList)))\n",
    "\n",
    "# Preparing tokens to be counted per group, using each entry as ((group, token), 1).\n",
    "# We use flat map to transform a group list entry into multiple entries indexed by group and token.\n",
    "# Each value shouldn't become a long list since we didn't reduced all tweets yet.\n",
    "tokenCountByGroup = uniqueFreqTokenByGroupRdd.flatMap(separateByTokenAndGroup)\n",
    "\n",
    "# Reducing all by key to count the number of times which each token appear.\n",
    "tokenCountByGroup = tokenCountByGroup.reduceByKey(lambda x, y: x + y)\n",
    "                                              \n",
    "# Now we need to transform the count value into the popularity value.\n",
    "freqTokensMap = freqTokens.collectAsMap()\n",
    "tokenFreqByGroup = tokenCountByGroup.map(lambda x: (x[0], get_rel_popularity(x[1], freqTokensMap[x[0][1]])))\n",
    "\n",
    "# Sorting by popularity decreasing order since it is based on log(x), x < 1.\n",
    "# We sort by group and untie by popularity and Lexicographical order.\n",
    "# Note that we reverse popularity just to be able to untie by lexicographical order here.\n",
    "tokenFreqByGroup = tokenFreqByGroup.sortBy(lambda x: (x[0][0], -1 * x[1], x[0][1]), ascending = True)\n",
    "\n",
    "# To filter only N biggest elements per group, we convert each value to a list and merge the lists\n",
    "# with a special function\n",
    "tokenFreqByGroup = tokenFreqByGroup.map(lambda x: (x[0][0], [(x[0][1], x[1])])).\\\n",
    "                    reduceByKey(mergeGroupTokens)\n",
    "\n",
    "popular_10_in_each_group = tokenFreqByGroup.collectAsMap()\n",
    "\n",
    "# Following code add your solution to `my_output`\n",
    "my_output.append(\"popular_10_in_each_group\", popular_10_in_each_group)\n",
    "for k in range(8):\n",
    "    print_tokens(popular_10_in_each_group[k], k)\n",
    "timer_stop(\"Print popular tokens in each group\")"
   ]
  },
  {
   "cell_type": "markdown",
   "metadata": {},
   "source": [
    "## Important: Write your solutions to disk\n",
    "\n",
    "Following cell write your solutions to disk which would be read in by the grader for grading."
   ]
  },
  {
   "cell_type": "code",
   "execution_count": null,
   "metadata": {
    "collapsed": true
   },
   "outputs": [],
   "source": [
    "my_output.write_to_disk()"
   ]
  },
  {
   "cell_type": "markdown",
   "metadata": {
    "collapsed": true
   },
   "source": [
    "## Optional Ungraded Exercise\n",
    "The users partition is generated by a machine learning algorithm that tries to group the users by their political preferences. Three of the user groups are showing supports to Bernie Sanders, Ted Cruz, and Donald Trump. \n",
    "\n",
    "If your program looks okay on the local test data, you can try it on the larger input by submitting your program to the homework server. Observe the output of your program to larger input files, can you guess the partition IDs of the three groups mentioned above based on your output?"
   ]
  },
  {
   "cell_type": "code",
   "execution_count": null,
   "metadata": {
    "collapsed": true
   },
   "outputs": [],
   "source": [
    "# Change the values of the following three items to your guesses\n",
    "users_support = [\n",
    "    (-1, \"Bernie Sanders\"),\n",
    "    (-1, \"Ted Cruz\"),\n",
    "    (-1, \"Donald Trump\")\n",
    "]\n",
    "\n",
    "for gid, candidate in users_support:\n",
    "    print(\"Users from group %d are most likely to support %s.\" % (gid, candidate))"
   ]
  },
  {
   "cell_type": "markdown",
   "metadata": {
    "collapsed": true
   },
   "source": [
    "Uncomment the lines in the cell below to print out the time taken between `time_start()` and `time_end()` at various stages of your pipeline. "
   ]
  },
  {
   "cell_type": "code",
   "execution_count": null,
   "metadata": {
    "collapsed": true
   },
   "outputs": [],
   "source": [
    "# total_time = 0.0\n",
    "# for item in timer:\n",
    "#     print(\"{}\\t{}\".format(item[0], item[1]))\n",
    "#     total_time += item[1]\n",
    "# print(\"Total time: {}\".format(total_time))"
   ]
  },
  {
   "cell_type": "code",
   "execution_count": null,
   "metadata": {
    "collapsed": true
   },
   "outputs": [],
   "source": []
  }
 ],
 "metadata": {
  "kernelspec": {
   "display_name": "Python 3",
   "language": "python",
   "name": "python3"
  },
  "language_info": {
   "codemirror_mode": {
    "name": "ipython",
    "version": 3
   },
   "file_extension": ".py",
   "mimetype": "text/x-python",
   "name": "python",
   "nbconvert_exporter": "python",
   "pygments_lexer": "ipython3",
   "version": "3.6.5"
  },
  "toc": {
   "base_numbering": 1,
   "nav_menu": {},
   "number_sections": true,
   "sideBar": true,
   "skip_h1_title": false,
   "title_cell": "Table of Contents",
   "title_sidebar": "Contents",
   "toc_cell": false,
   "toc_position": {},
   "toc_section_display": true,
   "toc_window_display": false
  },
  "varInspector": {
   "cols": {
    "lenName": 16,
    "lenType": 16,
    "lenVar": 40
   },
   "kernels_config": {
    "python": {
     "delete_cmd_postfix": "",
     "delete_cmd_prefix": "del ",
     "library": "var_list.py",
     "varRefreshCmd": "print(var_dic_list())"
    },
    "r": {
     "delete_cmd_postfix": ") ",
     "delete_cmd_prefix": "rm(",
     "library": "var_list.r",
     "varRefreshCmd": "cat(var_dic_list()) "
    }
   },
   "types_to_exclude": [
    "module",
    "function",
    "builtin_function_or_method",
    "instance",
    "_Feature"
   ],
   "window_display": false
  }
 },
 "nbformat": 4,
 "nbformat_minor": 1
}
