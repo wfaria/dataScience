{
 "cells": [
  {
   "cell_type": "markdown",
   "metadata": {
    "nbgrader": {
     "grade": false,
     "grade_id": "cell-aa1806c15bc34f91",
     "locked": true,
     "schema_version": 1,
     "solution": false
    },
    "slideshow": {
     "slide_type": "slide"
    }
   },
   "source": [
    "##  Problem Statement\n",
    "\n",
    "In this programming assignment, your task is to classify geographical locations according to their predicted tree cover using Gradient Boosting and Random Forest classifiers. You are expected to fill in functions that would complete this task. All of the necessary helper code is included in this notebook. However, we advise you to go over the slides, lecture material, the EdX videos and the corresponding notebooks before you attempt this Programming Assignment. You can find information about the dataset to be used in the following links:\n",
    "\n",
    "* **Dataset:** http://archive.ics.uci.edu/ml/datasets/Covertype \n",
    "\n",
    "* **Dataset description:** http://archive.ics.uci.edu/ml/machine-learning-databases/covtype/covtype.info"
   ]
  },
  {
   "cell_type": "markdown",
   "metadata": {
    "nbgrader": {
     "grade": false,
     "grade_id": "cell-aa1806c15c34f91",
     "locked": true,
     "schema_version": 1,
     "solution": false
    },
    "slideshow": {
     "slide_type": "slide"
    }
   },
   "source": [
    "##  Notebook Setup"
   ]
  },
  {
   "cell_type": "code",
   "execution_count": 1,
   "metadata": {
    "ExecuteTime": {
     "end_time": "2018-08-02T14:41:02.155740Z",
     "start_time": "2018-08-02T14:41:02.140660Z"
    }
   },
   "outputs": [],
   "source": [
    "# To time the entire solution\n",
    "import time\n",
    "start_nb = time.time()"
   ]
  },
  {
   "cell_type": "code",
   "execution_count": 2,
   "metadata": {
    "ExecuteTime": {
     "end_time": "2018-08-02T14:41:20.104235Z",
     "start_time": "2018-08-02T14:41:02.161044Z"
    },
    "nbgrader": {
     "grade": false,
     "grade_id": "cell-a77b283c3c040501",
     "locked": true,
     "schema_version": 1,
     "solution": false
    }
   },
   "outputs": [],
   "source": [
    "from pyspark import SparkContext\n",
    "sc=SparkContext()"
   ]
  },
  {
   "cell_type": "code",
   "execution_count": 3,
   "metadata": {
    "ExecuteTime": {
     "end_time": "2018-08-02T14:41:20.386253Z",
     "start_time": "2018-08-02T14:41:20.116516Z"
    },
    "nbgrader": {
     "grade": false,
     "grade_id": "cell-3dc492f41da1397e",
     "locked": true,
     "schema_version": 1,
     "solution": false
    },
    "slideshow": {
     "slide_type": "slide"
    }
   },
   "outputs": [],
   "source": [
    "from pyspark.mllib.linalg import Vectors\n",
    "from pyspark.mllib.regression import LabeledPoint\n",
    "\n",
    "from pyspark.mllib.tree import GradientBoostedTrees, GradientBoostedTreesModel\n",
    "from pyspark.mllib.tree import RandomForest, RandomForestModel\n",
    "from pyspark.mllib.util import MLUtils\n",
    "\n",
    "import os\n",
    "import pickle\n",
    "from os.path import exists\n",
    "\n",
    "%config IPCompleter.greedy=True"
   ]
  },
  {
   "cell_type": "code",
   "execution_count": 4,
   "metadata": {
    "ExecuteTime": {
     "end_time": "2018-08-02T14:41:20.413076Z",
     "start_time": "2018-08-02T14:41:20.396165Z"
    },
    "nbgrader": {
     "grade": false,
     "grade_id": "cell-e66236b3e86ecf9f",
     "locked": true,
     "schema_version": 1,
     "solution": false
    },
    "scrolled": true,
    "slideshow": {
     "slide_type": "slide"
    }
   },
   "outputs": [
    {
     "name": "stdout",
     "output_type": "stream",
     "text": [
      "Tree Cover Types: {1.0: 'Spruce/Fir', 2.0: 'Lodgepole Pine', 3.0: 'Ponderosa Pine', 4.0: 'Cottonwood/Willow', 5.0: 'Aspen', 6.0: 'Douglas-fir', 7.0: 'Krummholz'}\n"
     ]
    }
   ],
   "source": [
    "#define a dictionary of cover types\n",
    "CoverTypes={1.0: 'Spruce/Fir',\n",
    "            2.0: 'Lodgepole Pine',\n",
    "            3.0: 'Ponderosa Pine',\n",
    "            4.0: 'Cottonwood/Willow',\n",
    "            5.0: 'Aspen',\n",
    "            6.0: 'Douglas-fir',\n",
    "            7.0: 'Krummholz' }\n",
    "print('Tree Cover Types:', CoverTypes)"
   ]
  },
  {
   "cell_type": "markdown",
   "metadata": {
    "nbgrader": {
     "grade": false,
     "grade_id": "cell-601dbde74a330c36",
     "locked": true,
     "schema_version": 1,
     "solution": false
    }
   },
   "source": [
    "## Collecting Data"
   ]
  },
  {
   "cell_type": "code",
   "execution_count": 5,
   "metadata": {
    "ExecuteTime": {
     "end_time": "2018-08-02T14:41:20.484152Z",
     "start_time": "2018-08-02T14:41:20.425641Z"
    }
   },
   "outputs": [],
   "source": [
    "def get_data(file_path):\n",
    "    %cd $file_path\n",
    "    if not exists('covtype'):\n",
    "        print(\"creating directory covtype\")\n",
    "        !mkdir covtype\n",
    "    %cd covtype\n",
    "    if not exists('covtype.data'):\n",
    "        if not exists('covtype.data.gz'):\n",
    "            print('downloading covtype.data.gz')\n",
    "            !curl -O http://archive.ics.uci.edu/ml/machine-learning-databases/covtype/covtype.data.gz\n",
    "        print('decompressing covtype.data.gz')\n",
    "        !gunzip -f covtype.data.gz\n",
    "    !ls -l\n",
    "    %cd ../"
   ]
  },
  {
   "cell_type": "code",
   "execution_count": 6,
   "metadata": {
    "ExecuteTime": {
     "end_time": "2018-08-02T14:41:21.366078Z",
     "start_time": "2018-08-02T14:41:20.496929Z"
    }
   },
   "outputs": [
    {
     "name": "stdout",
     "output_type": "stream",
     "text": [
      "/home/ucsddse230/work/BigDataWithSpark/Week4/pa6\n",
      "/home/ucsddse230/work/BigDataWithSpark/Week4/pa6/covtype\n",
      "total 73408\n",
      "-rwxrwxrwx 1 ucsddse230 staff 75169317 Jul 31 18:51 covtype.data\n",
      "/home/ucsddse230/work/BigDataWithSpark/Week4/pa6\n"
     ]
    }
   ],
   "source": [
    "file_path = os.getcwd()\n",
    "get_data(file_path) "
   ]
  },
  {
   "cell_type": "code",
   "execution_count": 7,
   "metadata": {
    "ExecuteTime": {
     "end_time": "2018-08-02T14:41:21.415825Z",
     "start_time": "2018-08-02T14:41:21.377382Z"
    },
    "nbgrader": {
     "grade": false,
     "grade_id": "cell-ee2d7617e6961570",
     "locked": true,
     "schema_version": 1,
     "solution": false
    }
   },
   "outputs": [],
   "source": [
    "# Break up features that are made out of several binary features.\n",
    "def get_columns(cols_txt):\n",
    "    cols=[a.strip() for a in cols_txt.split(',')]\n",
    "    colDict={a:[a] for a in cols}\n",
    "    colDict['Soil_Type (40 binary columns)'] = ['ST_'+str(i) for i in range(40)]\n",
    "    colDict['Wilderness_Area (4 binarycolumns)'] = ['WA_'+str(i) for i in range(4)]\n",
    "    columns=[]\n",
    "    for item in cols:\n",
    "        columns = columns + colDict[item]\n",
    "    return columns\n",
    "    #print(columns)"
   ]
  },
  {
   "cell_type": "code",
   "execution_count": 8,
   "metadata": {
    "ExecuteTime": {
     "end_time": "2018-08-02T14:41:21.454503Z",
     "start_time": "2018-08-02T14:41:21.439794Z"
    },
    "nbgrader": {
     "grade": false,
     "grade_id": "cell-63c74c999a27b45f",
     "locked": true,
     "schema_version": 1,
     "solution": false
    }
   },
   "outputs": [],
   "source": [
    "# Define the feature names\n",
    "cols_txt=\"\"\"\n",
    "Elevation, Aspect, Slope, Horizontal_Distance_To_Hydrology,\n",
    "Vertical_Distance_To_Hydrology, Horizontal_Distance_To_Roadways,\n",
    "Hillshade_9am, Hillshade_Noon, Hillshade_3pm,\n",
    "Horizontal_Distance_To_Fire_Points, Wilderness_Area (4 binarycolumns), \n",
    "Soil_Type (40 binary columns), Cover_Type\n",
    "\"\"\"\n",
    "columns = get_columns(cols_txt)"
   ]
  },
  {
   "cell_type": "code",
   "execution_count": 9,
   "metadata": {
    "ExecuteTime": {
     "end_time": "2018-08-02T14:41:21.497183Z",
     "start_time": "2018-08-02T14:41:21.469807Z"
    }
   },
   "outputs": [
    {
     "name": "stdout",
     "output_type": "stream",
     "text": [
      "['Elevation', 'Aspect', 'Slope', 'Horizontal_Distance_To_Hydrology', 'Vertical_Distance_To_Hydrology', 'Horizontal_Distance_To_Roadways', 'Hillshade_9am', 'Hillshade_Noon', 'Hillshade_3pm', 'Horizontal_Distance_To_Fire_Points', 'WA_0', 'WA_1', 'WA_2', 'WA_3', 'ST_0', 'ST_1', 'ST_2', 'ST_3', 'ST_4', 'ST_5', 'ST_6', 'ST_7', 'ST_8', 'ST_9', 'ST_10', 'ST_11', 'ST_12', 'ST_13', 'ST_14', 'ST_15', 'ST_16', 'ST_17', 'ST_18', 'ST_19', 'ST_20', 'ST_21', 'ST_22', 'ST_23', 'ST_24', 'ST_25', 'ST_26', 'ST_27', 'ST_28', 'ST_29', 'ST_30', 'ST_31', 'ST_32', 'ST_33', 'ST_34', 'ST_35', 'ST_36', 'ST_37', 'ST_38', 'ST_39', 'Cover_Type']\n"
     ]
    }
   ],
   "source": [
    "print(columns)"
   ]
  },
  {
   "cell_type": "code",
   "execution_count": 10,
   "metadata": {
    "ExecuteTime": {
     "end_time": "2018-08-02T14:41:26.506392Z",
     "start_time": "2018-08-02T14:41:21.504900Z"
    },
    "nbgrader": {
     "grade": false,
     "grade_id": "cell-39425dea9979acb3",
     "locked": true,
     "schema_version": 1,
     "solution": false
    },
    "slideshow": {
     "slide_type": "fragment"
    }
   },
   "outputs": [
    {
     "data": {
      "text/plain": [
       "['2596,51,3,258,0,510,221,232,148,6279,1,0,0,0,0,0,0,0,0,0,0,0,0,0,0,0,0,0,0,0,0,0,0,0,0,0,0,0,0,0,0,0,1,0,0,0,0,0,0,0,0,0,0,0,5',\n",
       " '2590,56,2,212,-6,390,220,235,151,6225,1,0,0,0,0,0,0,0,0,0,0,0,0,0,0,0,0,0,0,0,0,0,0,0,0,0,0,0,0,0,0,0,1,0,0,0,0,0,0,0,0,0,0,0,5',\n",
       " '2804,139,9,268,65,3180,234,238,135,6121,1,0,0,0,0,0,0,0,0,0,0,0,0,0,0,1,0,0,0,0,0,0,0,0,0,0,0,0,0,0,0,0,0,0,0,0,0,0,0,0,0,0,0,0,2']"
      ]
     },
     "execution_count": 10,
     "metadata": {},
     "output_type": "execute_result"
    }
   ],
   "source": [
    "# Read the file into an RDD\n",
    "# When using sc.textRead you need to use an absolute path.\n",
    "# If doing this on a real cluster, you need the file to be available on all nodes, ideally in HDFS.\n",
    "path=file_path + '/covtype/covtype.data'\n",
    "inputRDD=sc.textFile(path)\n",
    "\n",
    "inputRDD.take(3)"
   ]
  },
  {
   "cell_type": "markdown",
   "metadata": {
    "nbgrader": {
     "grade": false,
     "grade_id": "cell-6329e83b6ee7fd32",
     "locked": true,
     "schema_version": 1,
     "solution": false
    }
   },
   "source": [
    "## Helper Functions\n",
    "Here are some helper functions that you will have to fill up."
   ]
  },
  {
   "cell_type": "markdown",
   "metadata": {
    "nbgrader": {
     "grade": false,
     "grade_id": "cell-4c67efb471217986",
     "locked": true,
     "schema_version": 1,
     "solution": false
    }
   },
   "source": [
    "### label_RDD"
   ]
  },
  {
   "cell_type": "markdown",
   "metadata": {
    "nbgrader": {
     "grade": false,
     "grade_id": "cell-dfb574e5ebeb330c",
     "locked": true,
     "schema_version": 1,
     "solution": false
    }
   },
   "source": [
    "The function <font color=\"blue\">label_RDD</font> takes an RDD as input and returns an RDD of labeled points\n",
    "\n",
    "Input: RDD consisting of a string with comma separated values (InputRDD)\n",
    "\n",
    "\n",
    "**<font color=\"magenta\" size=2>Example Input</font>**\n",
    "``` python\n",
    "'2596,51,3,258,0,510,221,232,148,6279,1,0,0,0,0,0,0,0,0,0,0,0,0,0,0,0,0,0,0,0,0,0,0,0,0,0,0,0,0,0,0,0,1,0,0,0,0,0,0,0,0,0,0,0,5'\n",
    "```\n",
    "Output: RDD of the type LabeledPoint with the first element being the label and second element being a DenseVector that contains all the elements of the InputRDD(Except the last value which is the label).\n",
    "\n",
    "**<font color=\"blue\" size=2>Example Output</font>**\n",
    "``` python\n",
    "LabeledPoint(5.0, [2596.0,51.0,3.0,258.0,0.0,510.0,221.0,232.0,148.0,6279.0,1.0,0.0,0.0,0.0,0.0,0.0,0.0,0.0,0.0,0.0,0.0,0.0,0.0,0.0,0.0,0.0,0.0,0.0,0.0,0.0,0.0,0.0,0.0,0.0,0.0,0.0,0.0,0.0,0.0,0.0,0.0,0.0,1.0,0.0,0.0,0.0,0.0,0.0,0.0,0.0,0.0,0.0,0.0,0.0])\n",
    "```\n",
    "\n"
   ]
  },
  {
   "cell_type": "code",
   "execution_count": 11,
   "metadata": {
    "ExecuteTime": {
     "end_time": "2018-08-02T14:41:26.592095Z",
     "start_time": "2018-08-02T14:41:26.515145Z"
    },
    "nbgrader": {
     "grade": false,
     "locked": false,
     "schema_version": 1,
     "solution": true
    },
    "slideshow": {
     "slide_type": "subslide"
    }
   },
   "outputs": [],
   "source": [
    "## Insert your answer in this cell. DO NOT CHANGE THE NAME OF THE FUNCTION.\n",
    "import numpy as np\n",
    "\n",
    "def processCoverEntry(entry):\n",
    "    if (not entry):\n",
    "        raise Exception(\"Invalid argument when processing cover entries.\")\n",
    "    \n",
    "    # Splitting string line.\n",
    "    fields = [field.strip() for field in entry.split(\",\")]\n",
    "    \n",
    "    numFields = len(fields)\n",
    "    \n",
    "    if (numFields < 1):\n",
    "        raise Exception(\"Invalid argument when processing cover entries.\")\n",
    "    \n",
    "    # According to the documentation we should use Numpy array as\n",
    "    # the dense vector for Python. However, I use a dense Vector\n",
    "    # to be consistent with the assignment notebook.\n",
    "    if (numFields == 1):\n",
    "        return LabeledPoint(fields[0], Vectors.dense([]))\n",
    "    \n",
    "    # Negative label to get the last label on first argument.\n",
    "    # On the second I get all elements from the list excluding the last one (0: - 1).\n",
    "    return LabeledPoint(fields[-1], Vectors.dense(fields[0 : -1]))\n",
    "    \n",
    "\n",
    "def label_RDD(inputRDD):\n",
    "    #\n",
    "    # YOUR CODE HERE\n",
    "    #\n",
    "    Data = inputRDD.map(processCoverEntry)\n",
    "    \n",
    "    return Data"
   ]
  },
  {
   "cell_type": "code",
   "execution_count": 12,
   "metadata": {
    "ExecuteTime": {
     "end_time": "2018-08-02T14:41:39.092442Z",
     "start_time": "2018-08-02T14:41:26.600948Z"
    },
    "nbgrader": {
     "grade": false,
     "grade_id": "cell-f7ffe45353a6d5ad",
     "locked": true,
     "schema_version": 1,
     "solution": false
    }
   },
   "outputs": [
    {
     "data": {
      "text/plain": [
       "[LabeledPoint(5.0, [2596.0,51.0,3.0,258.0,0.0,510.0,221.0,232.0,148.0,6279.0,1.0,0.0,0.0,0.0,0.0,0.0,0.0,0.0,0.0,0.0,0.0,0.0,0.0,0.0,0.0,0.0,0.0,0.0,0.0,0.0,0.0,0.0,0.0,0.0,0.0,0.0,0.0,0.0,0.0,0.0,0.0,0.0,1.0,0.0,0.0,0.0,0.0,0.0,0.0,0.0,0.0,0.0,0.0,0.0]),\n",
       " LabeledPoint(5.0, [2590.0,56.0,2.0,212.0,-6.0,390.0,220.0,235.0,151.0,6225.0,1.0,0.0,0.0,0.0,0.0,0.0,0.0,0.0,0.0,0.0,0.0,0.0,0.0,0.0,0.0,0.0,0.0,0.0,0.0,0.0,0.0,0.0,0.0,0.0,0.0,0.0,0.0,0.0,0.0,0.0,0.0,0.0,1.0,0.0,0.0,0.0,0.0,0.0,0.0,0.0,0.0,0.0,0.0,0.0]),\n",
       " LabeledPoint(2.0, [2804.0,139.0,9.0,268.0,65.0,3180.0,234.0,238.0,135.0,6121.0,1.0,0.0,0.0,0.0,0.0,0.0,0.0,0.0,0.0,0.0,0.0,0.0,0.0,0.0,0.0,1.0,0.0,0.0,0.0,0.0,0.0,0.0,0.0,0.0,0.0,0.0,0.0,0.0,0.0,0.0,0.0,0.0,0.0,0.0,0.0,0.0,0.0,0.0,0.0,0.0,0.0,0.0,0.0,0.0])]"
      ]
     },
     "execution_count": 12,
     "metadata": {},
     "output_type": "execute_result"
    }
   ],
   "source": [
    "Data = label_RDD(inputRDD)\n",
    "Data.cache()\n",
    "Data.take(3)"
   ]
  },
  {
   "cell_type": "code",
   "execution_count": 13,
   "metadata": {
    "ExecuteTime": {
     "end_time": "2018-08-02T14:41:39.842803Z",
     "start_time": "2018-08-02T14:41:39.103241Z"
    },
    "nbgrader": {
     "grade": true,
     "grade_id": "labelRDD",
     "locked": true,
     "points": "4",
     "schema_version": 1,
     "solution": false
    }
   },
   "outputs": [],
   "source": [
    "assert Data.first().label == 5.0\n",
    "assert Data.first().features == Vectors.dense([2596.0, 51.0, 3.0, 258.0, 0.0, 510.0, 221.0, 232.0, 148.0, 6279.0, 1.0, 0.0, 0.0, 0.0, 0.0, 0.0, 0.0, 0.0, 0.0, 0.0, 0.0, 0.0, 0.0, 0.0, 0.0, 0.0, 0.0, 0.0, 0.0, 0.0, 0.0, 0.0, 0.0, 0.0, 0.0, 0.0, 0.0, 0.0, 0.0, 0.0, 0.0, 0.0, 1.0, 0.0, 0.0, 0.0, 0.0, 0.0, 0.0, 0.0, 0.0, 0.0, 0.0, 0.0])"
   ]
  },
  {
   "cell_type": "markdown",
   "metadata": {
    "nbgrader": {
     "grade": false,
     "grade_id": "cell-515fa560228469b8",
     "locked": true,
     "schema_version": 1,
     "solution": false
    }
   },
   "source": [
    "### count_examples"
   ]
  },
  {
   "cell_type": "markdown",
   "metadata": {
    "nbgrader": {
     "grade": false,
     "grade_id": "cell-27a14578d81eed8c",
     "locked": true,
     "schema_version": 1,
     "solution": false
    }
   },
   "source": [
    "The function <font color=\"blue\">count_examples</font> takes an RDD as input and returns count of number of labels belonging to each class\n",
    "\n",
    "Input: RDD obtained as the output of the labelRDD\n",
    "\n",
    "\n",
    "**<font color=\"magenta\" size=2>Example Input</font>**\n",
    "``` python\n",
    "[LabeledPoint(5.0, [2596.0,51.0,3.0,258.0,0.0,510.0,221.0,232.0,148.0,6279.0,1.0,0.0,0.0,0.0,0.0,0.0,0.0,0.0,0.0,0.0,0.0,0.0,0.0,0.0,0.0,0.0,0.0,0.0,0.0,0.0,0.0,0.0,0.0,0.0,0.0,0.0,0.0,0.0,0.0,0.0,0.0,0.0,1.0,0.0,0.0,0.0,0.0,0.0,0.0,0.0,0.0,0.0,0.0,0.0]),\n",
    " LabeledPoint(5.0, [2590.0,56.0,2.0,212.0,-6.0,390.0,220.0,235.0,151.0,6225.0,1.0,0.0,0.0,0.0,0.0,0.0,0.0,0.0,0.0,0.0,0.0,0.0,0.0,0.0,0.0,0.0,0.0,0.0,0.0,0.0,0.0,0.0,0.0,0.0,0.0,0.0,0.0,0.0,0.0,0.0,0.0,0.0,1.0,0.0,0.0,0.0,0.0,0.0,0.0,0.0,0.0,0.0,0.0,0.0]),\n",
    " LabeledPoint(2.0, [2804.0,139.0,9.0,268.0,65.0,3180.0,234.0,238.0,135.0,6121.0,1.0,0.0,0.0,0.0,0.0,0.0,0.0,0.0,0.0,0.0,0.0,0.0,0.0,0.0,0.0,1.0,0.0,0.0,0.0,0.0,0.0,0.0,0.0,0.0,0.0,0.0,0.0,0.0,0.0,0.0,0.0,0.0,0.0,0.0,0.0,0.0,0.0,0.0,0.0,0.0,0.0,0.0,0.0,0.0])]\n",
    "```\n",
    "Output: list of tuples (label, count)\n",
    "\n",
    "**NOTE: The outputs need to be sorted in descending order by counts**\n",
    "\n",
    "**<font color=\"blue\" size=2>Example Output</font>**\n",
    "``` python\n",
    "[(5.0, 2), (2.0, 1)]\n",
    "```"
   ]
  },
  {
   "cell_type": "code",
   "execution_count": 14,
   "metadata": {
    "ExecuteTime": {
     "end_time": "2018-08-02T14:41:39.870043Z",
     "start_time": "2018-08-02T14:41:39.844854Z"
    },
    "nbgrader": {
     "grade": false,
     "grade_id": "cell-ad446944695ea686",
     "locked": false,
     "schema_version": 1,
     "solution": true
    }
   },
   "outputs": [],
   "source": [
    "## Insert your answer in this cell. DO NOT CHANGE THE NAME OF THE FUNCTION.\n",
    "def count_examples(Data):\n",
    "    labelCount = Data.map(lambda x: (x.label, 1)).\\\n",
    "                    reduceByKey(lambda x,y: x+y)\n",
    "    return labelCount.collect()"
   ]
  },
  {
   "cell_type": "code",
   "execution_count": 15,
   "metadata": {
    "ExecuteTime": {
     "end_time": "2018-08-02T14:41:59.139242Z",
     "start_time": "2018-08-02T14:41:39.872997Z"
    },
    "nbgrader": {
     "grade": false,
     "grade_id": "cell-a678d8b03134f4bf",
     "locked": true,
     "schema_version": 1,
     "solution": false
    }
   },
   "outputs": [],
   "source": [
    "counts = count_examples(Data)"
   ]
  },
  {
   "cell_type": "code",
   "execution_count": 16,
   "metadata": {
    "ExecuteTime": {
     "end_time": "2018-08-02T14:41:59.746108Z",
     "start_time": "2018-08-02T14:41:59.162101Z"
    },
    "nbgrader": {
     "grade": false,
     "grade_id": "cell-a585400e9d239e42",
     "locked": true,
     "schema_version": 1,
     "solution": false
    }
   },
   "outputs": [],
   "source": [
    "counts3 = count_examples(sc.parallelize(Data.take(3)))"
   ]
  },
  {
   "cell_type": "code",
   "execution_count": 17,
   "metadata": {
    "ExecuteTime": {
     "end_time": "2018-08-02T14:41:59.778989Z",
     "start_time": "2018-08-02T14:41:59.755972Z"
    },
    "nbgrader": {
     "grade": true,
     "grade_id": "countRDD_tc",
     "locked": true,
     "points": "4",
     "schema_version": 1,
     "solution": false
    }
   },
   "outputs": [],
   "source": [
    "assert type(counts3) == list, 'Incorrect return type'\n",
    "assert type(counts3[0]) == tuple, 'Incorrect return type'\n",
    "assert type(counts3[0][0]) == float, 'Incorrect return type'\n",
    "assert type(counts3[0][1]) == int, 'Incorrect return type'"
   ]
  },
  {
   "cell_type": "code",
   "execution_count": 18,
   "metadata": {
    "ExecuteTime": {
     "end_time": "2018-08-02T14:41:59.814786Z",
     "start_time": "2018-08-02T14:41:59.781915Z"
    },
    "nbgrader": {
     "grade": true,
     "grade_id": "countRDD_vc",
     "locked": true,
     "points": "4",
     "schema_version": 1,
     "solution": false
    }
   },
   "outputs": [],
   "source": [
    "assert counts3[0][0] == 5.0, 'Incorrect return value'\n",
    "assert counts3[0][1] == 2, 'Incorrect return value'"
   ]
  },
  {
   "cell_type": "code",
   "execution_count": 19,
   "metadata": {
    "ExecuteTime": {
     "end_time": "2018-08-02T14:41:59.853918Z",
     "start_time": "2018-08-02T14:41:59.831597Z"
    },
    "nbgrader": {
     "grade": true,
     "grade_id": "countRDD_vch",
     "locked": true,
     "points": "4",
     "schema_version": 1,
     "solution": false
    }
   },
   "outputs": [],
   "source": [
    "# Hidden Tests Here\n",
    "#\n",
    "# AUTOGRADER TEST - DO NOT REMOVE\n",
    "#\n"
   ]
  },
  {
   "cell_type": "code",
   "execution_count": 20,
   "metadata": {
    "ExecuteTime": {
     "end_time": "2018-08-02T14:42:03.382712Z",
     "start_time": "2018-08-02T14:41:59.856778Z"
    },
    "nbgrader": {
     "grade": false,
     "grade_id": "cell-019033d0bb8c2c73",
     "locked": true,
     "schema_version": 1,
     "solution": false
    }
   },
   "outputs": [
    {
     "name": "stdout",
     "output_type": "stream",
     "text": [
      "total data size= 581012\n",
      "              type (label):   percent of total\n",
      "---------------------------------------------------------\n",
      "      Ponderosa Pine (3.0):\t6.15\n",
      "         Douglas-fir (6.0):\t2.99\n",
      "          Spruce/Fir (1.0):\t36.46\n",
      "           Krummholz (7.0):\t3.53\n",
      "   Cottonwood/Willow (4.0):\t0.47\n",
      "               Aspen (5.0):\t1.63\n",
      "      Lodgepole Pine (2.0):\t48.76\n"
     ]
    }
   ],
   "source": [
    "total=Data.count()\n",
    "print('total data size=',total)\n",
    "print('              type (label):   percent of total')\n",
    "print('---------------------------------------------------------')\n",
    "print('\\n'.join(['%20s (%3.1f):\\t%4.2f'%(CoverTypes[a[0]],a[0],100.0*a[1]/float(total)) for a in counts]))"
   ]
  },
  {
   "cell_type": "markdown",
   "metadata": {
    "nbgrader": {
     "grade": false,
     "grade_id": "cell-34f8bbfc6a5a83b0",
     "locked": true,
     "schema_version": 1,
     "solution": false
    },
    "slideshow": {
     "slide_type": "subslide"
    }
   },
   "source": [
    "### labels_to_binary (Making the problem binary)\n",
    "\n",
    "The implementation of BoostedGradientTrees in MLLib supports only binary problems. the `CovType` problem has\n",
    "7 classes. To make the problem binary we choose the `Lodgepole Pine` (label = 2.0). We therefore transform the dataset to a new dataset where the label is `1.0` is the class is `Lodgepole Pine` and is `0.0` otherwise."
   ]
  },
  {
   "cell_type": "markdown",
   "metadata": {
    "nbgrader": {
     "grade": false,
     "grade_id": "cell-8fcdc59eb2f4e08f",
     "locked": true,
     "schema_version": 1,
     "solution": false
    }
   },
   "source": [
    "The function <font color=\"blue\">labels_to_binary</font> takes an RDD as input and returns an RDD with binary labels\n",
    "such that: \n",
    "\n",
    "```python\n",
    "if label == 2:      #Since label 2 has the highest count value\n",
    "    new_label = 1\n",
    "    \n",
    "else:\n",
    "    new_label = 0\n",
    "```\n",
    "\n",
    "Input: Labelled RDD (Output from <font color=\"blue\">label_RDD</font> function)\n",
    "\n",
    "\n",
    "**<font color=\"magenta\" size=2>Example Input</font>**\n",
    "``` python\n",
    "LabeledPoint(5.0, [2596.0,51.0,3.0,258.0,0.0,510.0,221.0,232.0,148.0,6279.0,1.0,0.0,0.0,0.0,0.0,0.0,0.0,0.0,0.0,0.0,0.0,0.0,0.0,0.0,0.0,0.0,0.0,0.0,0.0,0.0,0.0,0.0,0.0,0.0,0.0,0.0,0.0,0.0,0.0,0.0,0.0,0.0,1.0,0.0,0.0,0.0,0.0,0.0,0.0,0.0,0.0,0.0,0.0,0.0])\n",
    "```\n",
    "Output: The same RDD with label of all entries as 0 except for label = 2.0 where label becomes 1.0\n",
    "\n",
    "**<font color=\"blue\" size=2>Example Output</font>**\n",
    "``` python\n",
    "LabeledPoint(0.0, [2596.0,51.0,3.0,258.0,0.0,510.0,221.0,232.0,148.0,6279.0,1.0,0.0,0.0,0.0,0.0,0.0,0.0,0.0,0.0,0.0,0.0,0.0,0.0,0.0,0.0,0.0,0.0,0.0,0.0,0.0,0.0,0.0,0.0,0.0,0.0,0.0,0.0,0.0,0.0,0.0,0.0,0.0,1.0,0.0,0.0,0.0,0.0,0.0,0.0,0.0,0.0,0.0,0.0,0.0])\n",
    "```"
   ]
  },
  {
   "cell_type": "code",
   "execution_count": 21,
   "metadata": {
    "ExecuteTime": {
     "end_time": "2018-08-02T14:42:03.435524Z",
     "start_time": "2018-08-02T14:42:03.397513Z"
    },
    "nbgrader": {
     "grade": false,
     "grade_id": "cell-68e335dc015340e5",
     "locked": false,
     "schema_version": 1,
     "solution": true
    }
   },
   "outputs": [],
   "source": [
    "## Insert your answer in this cell. DO NOT CHANGE THE NAME OF THE FUNCTION.\n",
    "def pair_label_to_binary(pair):\n",
    "    new_label = 0 \n",
    "    if pair.label == 2:      #Since label 2 has the highest count value\n",
    "        new_label = 1\n",
    "        \n",
    "    pair.label = new_label\n",
    "    return pair\n",
    "\n",
    "def labels_to_binary(Data):\n",
    "    #\n",
    "    # YOUR CODE HERE\n",
    "    #\n",
    "    \n",
    "    return Data.map(pair_label_to_binary)"
   ]
  },
  {
   "cell_type": "code",
   "execution_count": 22,
   "metadata": {
    "ExecuteTime": {
     "end_time": "2018-08-02T14:42:03.498395Z",
     "start_time": "2018-08-02T14:42:03.445463Z"
    },
    "nbgrader": {
     "grade": false,
     "grade_id": "cell-e0099fa01e48236a",
     "locked": true,
     "schema_version": 1,
     "solution": false
    },
    "slideshow": {
     "slide_type": "fragment"
    }
   },
   "outputs": [],
   "source": [
    "Data = labels_to_binary(Data)"
   ]
  },
  {
   "cell_type": "code",
   "execution_count": 23,
   "metadata": {
    "ExecuteTime": {
     "end_time": "2018-08-02T14:42:03.955176Z",
     "start_time": "2018-08-02T14:42:03.507267Z"
    },
    "nbgrader": {
     "grade": true,
     "grade_id": "L2B_vc",
     "locked": true,
     "points": "4",
     "schema_version": 1,
     "solution": false
    }
   },
   "outputs": [
    {
     "data": {
      "text/plain": [
       "[LabeledPoint(0.0, [2596.0,51.0,3.0,258.0,0.0,510.0,221.0,232.0,148.0,6279.0,1.0,0.0,0.0,0.0,0.0,0.0,0.0,0.0,0.0,0.0,0.0,0.0,0.0,0.0,0.0,0.0,0.0,0.0,0.0,0.0,0.0,0.0,0.0,0.0,0.0,0.0,0.0,0.0,0.0,0.0,0.0,0.0,1.0,0.0,0.0,0.0,0.0,0.0,0.0,0.0,0.0,0.0,0.0,0.0]),\n",
       " LabeledPoint(0.0, [2590.0,56.0,2.0,212.0,-6.0,390.0,220.0,235.0,151.0,6225.0,1.0,0.0,0.0,0.0,0.0,0.0,0.0,0.0,0.0,0.0,0.0,0.0,0.0,0.0,0.0,0.0,0.0,0.0,0.0,0.0,0.0,0.0,0.0,0.0,0.0,0.0,0.0,0.0,0.0,0.0,0.0,0.0,1.0,0.0,0.0,0.0,0.0,0.0,0.0,0.0,0.0,0.0,0.0,0.0]),\n",
       " LabeledPoint(1.0, [2804.0,139.0,9.0,268.0,65.0,3180.0,234.0,238.0,135.0,6121.0,1.0,0.0,0.0,0.0,0.0,0.0,0.0,0.0,0.0,0.0,0.0,0.0,0.0,0.0,0.0,1.0,0.0,0.0,0.0,0.0,0.0,0.0,0.0,0.0,0.0,0.0,0.0,0.0,0.0,0.0,0.0,0.0,0.0,0.0,0.0,0.0,0.0,0.0,0.0,0.0,0.0,0.0,0.0,0.0])]"
      ]
     },
     "execution_count": 23,
     "metadata": {},
     "output_type": "execute_result"
    }
   ],
   "source": [
    "assert Data.first().label == 0.0\n",
    "Data.take(3)"
   ]
  },
  {
   "cell_type": "markdown",
   "metadata": {
    "nbgrader": {
     "grade": false,
     "grade_id": "cell-eee681d192a47b23",
     "locked": true,
     "schema_version": 1,
     "solution": false
    },
    "slideshow": {
     "slide_type": "slide"
    }
   },
   "source": [
    "### Reducing data size\n",
    "For this assignment, we will use only 10% of the original data."
   ]
  },
  {
   "cell_type": "code",
   "execution_count": 24,
   "metadata": {
    "ExecuteTime": {
     "end_time": "2018-08-02T14:42:08.908138Z",
     "start_time": "2018-08-02T14:42:03.979712Z"
    },
    "nbgrader": {
     "grade": false,
     "grade_id": "cell-7daae8ed96a71326",
     "locked": true,
     "schema_version": 1,
     "solution": false
    }
   },
   "outputs": [],
   "source": [
    "trainingData = sc.parallelize(pickle.load(open('training10p.pkl', 'rb')))\n",
    "testData = sc.parallelize(pickle.load(open('test10p.pkl', 'rb')))"
   ]
  },
  {
   "cell_type": "code",
   "execution_count": 25,
   "metadata": {
    "ExecuteTime": {
     "end_time": "2018-08-02T14:42:10.795232Z",
     "start_time": "2018-08-02T14:42:08.917699Z"
    },
    "nbgrader": {
     "grade": false,
     "grade_id": "cell-3d12b5d6c39a98a8",
     "locked": true,
     "schema_version": 1,
     "solution": false
    }
   },
   "outputs": [
    {
     "name": "stdout",
     "output_type": "stream",
     "text": [
      "Sizes: Data1=58100, trainingData=40682, testData=17418\n"
     ]
    }
   ],
   "source": [
    "print('Sizes: Data1=%d, trainingData=%d, testData=%d'%(trainingData.cache().count() + testData.cache().count(),trainingData.cache().count(),testData.cache().count()))"
   ]
  },
  {
   "cell_type": "code",
   "execution_count": 26,
   "metadata": {
    "ExecuteTime": {
     "end_time": "2018-08-02T14:42:11.285358Z",
     "start_time": "2018-08-02T14:42:10.804547Z"
    },
    "nbgrader": {
     "grade": false,
     "grade_id": "cell-3d06ade87c62cad8",
     "locked": true,
     "schema_version": 1,
     "solution": false
    }
   },
   "outputs": [],
   "source": [
    "counts = count_examples(testData)"
   ]
  },
  {
   "cell_type": "markdown",
   "metadata": {
    "nbgrader": {
     "grade": false,
     "grade_id": "cell-01b29807a18bdaa8",
     "locked": true,
     "schema_version": 1,
     "solution": false
    }
   },
   "source": [
    "## Gradient Boosted Trees"
   ]
  },
  {
   "cell_type": "markdown",
   "metadata": {
    "nbgrader": {
     "grade": false,
     "grade_id": "cell-338feb954dbc4325",
     "locked": true,
     "schema_version": 1,
     "solution": false
    },
    "slideshow": {
     "slide_type": "slide"
    }
   },
   "source": [
    "* Following [this example](http://spark.apache.org/docs/latest/mllib-ensembles.html#classification) from the mllib documentation\n",
    "\n",
    "* [pyspark.mllib.trees documentation](http://spark.apache.org/docs/latest/api/python/pyspark.mllib.html#pyspark.mllib.tree.GradientBoostedTrees)\n",
    "\n",
    "### Main classes and methods\n",
    "\n",
    "* `GradientBoostedTrees` is the class that implements the learning trainClassifier,\n",
    "   * It's main method is `trainClassifier(trainingData)` which takes as input a training set and generates an instance of `GradientBoostedTreesModel`\n",
    "   * The main parameter from train Classifier are:\n",
    "      * **data** – Training dataset: RDD of LabeledPoint. Labels should take values {0, 1}.\n",
    "      * categoricalFeaturesInfo – Map storing arity of categorical features. E.g., an entry (n -> k) indicates that feature n is categorical with k categories indexed from 0: {0, 1, ..., k-1}.\n",
    "      * **loss** – Loss function used for minimization during gradient boosting. Supported: {“logLoss” (default), “leastSquaresError”, “leastAbsoluteError”}.\n",
    "      * **numIterations** – Number of iterations of boosting. (default: 100)\n",
    "      * **learningRate** – Learning rate for shrinking the contribution of each estimator. The learning rate should be between in the interval (0, 1]. (default: 0.1)\n",
    "      * **maxDepth** – Maximum depth of the tree. E.g., depth 0 means 1 leaf node; depth 1 means 1 internal node + 2 leaf nodes. (default: 3)\n",
    "      * **maxBins** – maximum number of bins used for splitting features (default: 32) DecisionTree requires maxBins >= max categories\n",
    "      \n",
    "      \n",
    "* `GradientBoostedTreesModel` represents the output of the boosting process: a linear combination of classification trees. The methods supported by this class are:\n",
    "   * `save(sc, path)` : save the tree to a given filename, sc is the Spark Context.\n",
    "   * `load(sc,path)` : The counterpart to save - load classifier from file.\n",
    "   * `predict(X)` : predict on a single datapoint (the `.features` field of a `LabeledPont`) or an RDD of datapoints.\n",
    "   * `toDebugString()` : print the classifier in a human readable format."
   ]
  },
  {
   "cell_type": "markdown",
   "metadata": {
    "nbgrader": {
     "grade": false,
     "grade_id": "cell-7476b6ae9251c7dc",
     "locked": true,
     "schema_version": 1,
     "solution": false
    }
   },
   "source": [
    "### Example\n",
    "\n",
    "The function <font color=\"blue\">Classify_GB</font> takes as inputs:\n",
    "\n",
    "1. **trainingData**: Training data (Type: RDD)\n",
    "2. **testData**: Test data (Type: RDD)\n",
    "3. **maxDepth**: Depth of tree (Type: int)\n",
    "\n",
    "The function trains a GradientBoostedTrees classifier and returns the error\n",
    "\n",
    "**Output**: error (Type: float)\n",
    "\n",
    "**<font color=\"blue\" size=2>Example Output</font>**\n",
    "``` python\n",
    "error=0.3\n",
    "```"
   ]
  },
  {
   "cell_type": "markdown",
   "metadata": {
    "nbgrader": {
     "grade": false,
     "grade_id": "cell-510b89e35e626b95",
     "locked": true,
     "schema_version": 1,
     "solution": false
    }
   },
   "source": [
    "### Definition"
   ]
  },
  {
   "cell_type": "code",
   "execution_count": 27,
   "metadata": {
    "ExecuteTime": {
     "end_time": "2018-08-02T14:42:21.217002Z",
     "start_time": "2018-08-02T14:42:11.307870Z"
    }
   },
   "outputs": [
    {
     "data": {
      "image/png": "[encoded data removed]",
      "text/plain": [
       "<Figure size 1008x216 with 1 Axes>"
      ]
     },
     "metadata": {},
     "output_type": "display_data"
    },
    {
     "name": "stdout",
     "output_type": "stream",
     "text": [
      "Precision: 0.25\n",
      "Recall: 0.2\n",
      "Accuracy: 0.3\n",
      "F1-Score: 0.2222222222222222\n"
     ]
    }
   ],
   "source": [
    "# Adding this function for fun, it is outside of the assingment.\n",
    "%matplotlib inline\n",
    "import matplotlib.pyplot as plt\n",
    "\n",
    "# In predictive analytics, a table of confusion (sometimes also called a confusion matrix),\n",
    "# is a table with two rows and two columns that reports the number of false positives, \n",
    "# false negatives, true positives, and true negatives. \n",
    "# This allows more detailed analysis than mere proportion of correct classifications (accuracy).\n",
    "# Accuracy is not a reliable metric for the real performance of a classifier,\n",
    "# because it will yield misleading results if the data set is unbalanced\n",
    "# (that is, when the numbers of observations in different classes vary greatly).\n",
    "def render_Confusion_Matrix(tp, tn, fp, fn, dataCount):\n",
    "    goodColor = \"#67f971\"\n",
    "    badColor = \"#f0a07d\"\n",
    "    table = [\n",
    "        [\"\", \"correct true\", \" correct false\", \"\"],\n",
    "        [\"predicted true\", tp, fp, tp + fp],\n",
    "        [\"predicted false\", fn, tn, fn + tn],\n",
    "        [\"\", tp + fn, fp + tn, dataCount]\n",
    "    ]\n",
    "    \n",
    "    # Table plot.\n",
    "    plt.figure(1, figsize=(14, 3))\n",
    "    table = plt.table(cellText=table, loc=(0,0), cellLoc='center')\n",
    "    table.auto_set_font_size(False)\n",
    "    table.set_fontsize(12)\n",
    "    table._cells[(1, 1)].set_facecolor(goodColor)\n",
    "    table._cells[(2, 2)].set_facecolor(goodColor)\n",
    "    table._cells[(1, 2)].set_facecolor(badColor)\n",
    "    table._cells[(2, 1)].set_facecolor(badColor)\n",
    "    ax = plt.gca()\n",
    "    ax.set_xticks([])\n",
    "    ax.set_yticks([])\n",
    "    plt.show()\n",
    "    \n",
    "    # Plotting some derivations from the confusion matrix.\n",
    "    if (dataCount != tp + fp + tn + fn):\n",
    "        print (\"Counting Mismatch, the number of predictions doesn't match with the test data size.\")\n",
    "    \n",
    "    # In the field of information retrieval, precision is the fraction\n",
    "    # of retrieved documents that are relevant to the query.\n",
    "    precision = tp / (tp + fp)\n",
    "    \n",
    "    # In information retrieval,\n",
    "    # recall is the fraction of the relevant documents that are successfully retrieved. \n",
    "    recall = tp / (tp + fn)\n",
    "    \n",
    "    # The F1 score is the harmonic average of the precision and recall,\n",
    "    # where an F1 score reaches its best value at 1 (perfect precision and recall) and worst at 0. \n",
    "    f1 = 2 / ((1/precision) +  (1/recall))\n",
    "    \n",
    "    print(\"Precision: {0}\".format(precision))\n",
    "    print(\"Recall: {0}\".format(recall))\n",
    "    print(\"Accuracy: {0}\".format((tp+tn)/dataCount))\n",
    "    print(\"F1-Score: {0}\".format(f1))\n",
    "\n",
    "\n",
    "def print_Confusion_Matrix(labelsAndPredictions, dataCount):\n",
    "    labelIndex = 0\n",
    "    predictionIndex = 1  \n",
    "    labelCount = labelsAndPredictions.map(lambda lp: (lp[labelIndex], 1)).\\\n",
    "        reduceByKey(lambda x,y: x + y)\n",
    "    \n",
    "    correctPreditions = labelsAndPredictions.\\\n",
    "        filter(lambda lp: lp[labelIndex] == lp[predictionIndex]).cache()\n",
    "        \n",
    "    truePositives = correctPreditions.filter(lambda lp: lp[labelIndex] > 0.0).count()\n",
    "    trueNegatives = correctPreditions.filter(lambda lp: lp[labelIndex] < 1.0).count()\n",
    "        \n",
    "    wrongPreditions = labelsAndPredictions.\\\n",
    "        filter(lambda lp: lp[labelIndex] != lp[predictionIndex]).cache()\n",
    "        \n",
    "    falsePositives = wrongPreditions.filter(lambda lp: lp[labelIndex] > 0.0).count()\n",
    "    falseNegatives = wrongPreditions.filter(lambda lp: lp[labelIndex] < 1.0).count()\n",
    "    \n",
    "    render_Confusion_Matrix(\n",
    "        truePositives,\n",
    "        trueNegatives,\n",
    "        falsePositives,\n",
    "        falseNegatives,\n",
    "        dataCount)\n",
    "\n",
    "# Confusion matrix example, check how the numbers are related\n",
    "# between columns and rows and the calculated measures which\n",
    "# appears from sums of the first row, column and diagonal.\n",
    "# Those values are summarized on the F1 score, which is bad on this\n",
    "# example (the best score is 1 and zero is the worst).\n",
    "render_Confusion_Matrix(10, 20, 30, 40, 100)\n",
    "        "
   ]
  },
  {
   "cell_type": "code",
   "execution_count": 28,
   "metadata": {
    "ExecuteTime": {
     "end_time": "2018-08-02T14:42:21.263769Z",
     "start_time": "2018-08-02T14:42:21.219819Z"
    },
    "nbgrader": {
     "grade": false,
     "grade_id": "cell-a9bdfd4c81113b03",
     "locked": false,
     "schema_version": 1,
     "solution": true
    }
   },
   "outputs": [],
   "source": [
    "## Insert your answer in this cell. DO NOT CHANGE THE NAME OF THE FUNCTION.\n",
    "def Classify_GB(trainingData, testData, maxDepth):\n",
    "    #\n",
    "    # YOUR CODE HERE\n",
    "    #\n",
    "    \n",
    "    \n",
    "    # Empty categoricalFeaturesInfo indicates all features are continuous.\n",
    "    model = GradientBoostedTrees.trainClassifier(\n",
    "        trainingData,\n",
    "        categoricalFeaturesInfo={},\n",
    "        maxDepth = maxDepth)\n",
    "\n",
    "    # Mapping all test results with expected labels and counting the percentage of errors.\n",
    "    testDataCount = testData.count()\n",
    "    predictions = model.predict(testData.map(lambda lp : lp.features))\n",
    "    labelsAndPredictions = testData.map(lambda lp: lp.label).zip(predictions)    \n",
    "    testErr = labelsAndPredictions.filter(\n",
    "        lambda lp: lp[0] != lp[1]).count() / float(testDataCount)\n",
    "    \n",
    "    print_Confusion_Matrix(labelsAndPredictions, testDataCount)    \n",
    "    return testErr\n"
   ]
  },
  {
   "cell_type": "markdown",
   "metadata": {
    "nbgrader": {
     "grade": false,
     "grade_id": "cell-2a1bfa5a1b06be15",
     "locked": true,
     "schema_version": 1,
     "solution": false
    }
   },
   "source": [
    "### Test cases"
   ]
  },
  {
   "cell_type": "code",
   "execution_count": 29,
   "metadata": {
    "ExecuteTime": {
     "end_time": "2018-08-02T14:44:24.003336Z",
     "start_time": "2018-08-02T14:42:21.281538Z"
    },
    "nbgrader": {
     "grade": true,
     "grade_id": "classifyGB_1_v",
     "locked": true,
     "points": "5",
     "schema_version": 1,
     "solution": false
    }
   },
   "outputs": [
    {
     "data": {
      "image/png": "[encoded data removed]",
      "text/plain": [
       "<Figure size 1008x216 with 1 Axes>"
      ]
     },
     "metadata": {},
     "output_type": "display_data"
    },
    {
     "name": "stdout",
     "output_type": "stream",
     "text": [
      "Precision: 0.7825984437632634\n",
      "Recall: 0.7165371329879102\n",
      "Accuracy: 0.743368928694454\n",
      "F1-Score: 0.7481122506480333\n"
     ]
    }
   ],
   "source": [
    "visible_results=pickle.load(open('GradientBoostingResultsVisible.pkl','rb'))\n",
    "assert Classify_GB(trainingData, testData, 1) <= visible_results['B_10p_1'] "
   ]
  },
  {
   "cell_type": "code",
   "execution_count": 30,
   "metadata": {
    "ExecuteTime": {
     "end_time": "2018-08-02T14:46:43.342817Z",
     "start_time": "2018-08-02T14:44:24.092694Z"
    },
    "nbgrader": {
     "grade": true,
     "grade_id": "classifyGB_3_v",
     "locked": true,
     "points": "5",
     "schema_version": 1,
     "solution": false
    }
   },
   "outputs": [
    {
     "data": {
      "image/png": "[encoded data removed]",
      "text/plain": [
       "<Figure size 1008x216 with 1 Axes>"
      ]
     },
     "metadata": {},
     "output_type": "display_data"
    },
    {
     "name": "stdout",
     "output_type": "stream",
     "text": [
      "Precision: 0.8229191228483849\n",
      "Recall: 0.7647638873671524\n",
      "Accuracy: 0.790504076242967\n",
      "F1-Score: 0.7927764211482764\n"
     ]
    }
   ],
   "source": [
    "# From Spark Mlib documentation:\n",
    "# Deeper trees are more expressive\n",
    "# (potentially allowing higher accuracy), but they are also \n",
    "# more costly to train and are more likely to overfit.\n",
    "assert Classify_GB(trainingData, testData, 3) <= visible_results['B_10p_3']"
   ]
  },
  {
   "cell_type": "code",
   "execution_count": 31,
   "metadata": {
    "ExecuteTime": {
     "end_time": "2018-08-02T14:46:43.495913Z",
     "start_time": "2018-08-02T14:46:43.413826Z"
    },
    "nbgrader": {
     "grade": true,
     "grade_id": "classifyGB_6_h",
     "locked": true,
     "points": "15",
     "schema_version": 1,
     "solution": false
    }
   },
   "outputs": [],
   "source": [
    "#Hidden Tests here\n",
    "#\n",
    "# AUTOGRADER TEST - DO NOT REMOVE\n",
    "#\n"
   ]
  },
  {
   "cell_type": "code",
   "execution_count": 32,
   "metadata": {
    "ExecuteTime": {
     "end_time": "2018-08-02T14:46:44.578023Z",
     "start_time": "2018-08-02T14:46:44.567763Z"
    },
    "nbgrader": {
     "grade": true,
     "grade_id": "classifyGB_10_h",
     "locked": true,
     "points": "15",
     "schema_version": 1,
     "solution": false
    }
   },
   "outputs": [],
   "source": [
    "#Hidden Tests here\n",
    "#\n",
    "# AUTOGRADER TEST - DO NOT REMOVE\n",
    "#\n"
   ]
  },
  {
   "cell_type": "markdown",
   "metadata": {
    "nbgrader": {
     "grade": false,
     "grade_id": "cell-4ad76a0d80b6bf27",
     "locked": true,
     "schema_version": 1,
     "solution": false
    }
   },
   "source": [
    "## Random Forests"
   ]
  },
  {
   "cell_type": "markdown",
   "metadata": {
    "nbgrader": {
     "grade": false,
     "grade_id": "cell-f6d017e3cabd3763",
     "locked": true,
     "schema_version": 1,
     "solution": false
    }
   },
   "source": [
    "### Introduction\n",
    "\n",
    "* Following [this example](http://spark.apache.org/docs/latest/mllib-ensembles.html#classification) from the mllib documentation\n",
    "\n",
    "* [pyspark.mllib.trees.RandomForest documentation](http://spark.apache.org/docs/latest/api/python/pyspark.mllib.html#pyspark.mllib.tree.RandomForest)\n",
    "\n",
    "**trainClassifier**`(data, numClasses, categoricalFeaturesInfo, numTrees, featureSubsetStrategy='auto', impurity='gini', maxDepth=4, maxBins=32, seed=None)`   \n",
    "Method to train a decision tree model for binary or multiclass classification.\n",
    "\n",
    "**Parameters:**  \n",
    "* *data* – Training dataset: RDD of LabeledPoint. Labels should take values {0, 1, ..., numClasses-1}.  \n",
    "* *numClasses* – number of classes for classification.  \n",
    "* *categoricalFeaturesInfo* – Map storing arity of categorical features. E.g., an entry (n -> k) indicates that feature n is categorical with k categories indexed from 0: {0, 1, ..., k-1}.  \n",
    "* *numTrees* – Number of trees in the random forest.  \n",
    "* *featureSubsetStrategy* – Number of features to consider for splits at each node. Supported: “auto” (default), “all”, “sqrt”, “log2”, “onethird”. If “auto” is set, this parameter is set based on numTrees: if numTrees == 1, set to “all”; if numTrees > 1 (forest) set to “sqrt”.\n",
    "* *impurity* – Criterion used for information gain calculation. Supported values: “gini” (recommended) or “entropy”.  \n",
    "* *maxDepth* – Maximum depth of the tree. E.g., depth 0 means 1 leaf node; depth 1 means 1 internal node + 2 leaf nodes. (default: 4)  \n",
    "* *maxBins* – maximum number of bins used for splitting features (default: 32)\n",
    "* *seed* – Random seed for bootstrapping and choosing feature subsets.  \n",
    "\n",
    "**Returns:**\t\n",
    "RandomForestModel that can be used for prediction"
   ]
  },
  {
   "cell_type": "markdown",
   "metadata": {
    "nbgrader": {
     "grade": false,
     "grade_id": "cell-2ce39d0a147d4c4b",
     "locked": true,
     "schema_version": 1,
     "solution": false
    }
   },
   "source": [
    "### Example\n",
    "The function <font color=\"blue\">Classify_RF</font> takes as inputs:\n",
    "\n",
    "1. **trainingData**: Training data (Type: RDD)\n",
    "2. **testData**: Test data (Type: RDD)\n",
    "3. **maxDepth**: Depth of tree (Type: int)\n",
    "\n",
    "The function trains a RandomForest classifier and returns the error in classification\n",
    "\n",
    "**Output**: error (Type: float)\n",
    "\n",
    "**<font color=\"blue\" size=2>Example Output</font>**\n",
    "``` python\n",
    "error=0.3\n",
    "```\n",
    "\n",
    "Note: You are allowed to alter the number of trees parameter"
   ]
  },
  {
   "cell_type": "markdown",
   "metadata": {
    "nbgrader": {
     "grade": false,
     "grade_id": "cell-c2d098cb8b35b026",
     "locked": true,
     "schema_version": 1,
     "solution": false
    }
   },
   "source": [
    "### Definition"
   ]
  },
  {
   "cell_type": "code",
   "execution_count": 33,
   "metadata": {
    "ExecuteTime": {
     "end_time": "2018-08-02T14:46:44.796096Z",
     "start_time": "2018-08-02T14:46:44.613794Z"
    },
    "nbgrader": {
     "grade": false,
     "grade_id": "cell-1772af5d3c6c0273",
     "locked": false,
     "schema_version": 1,
     "solution": true
    }
   },
   "outputs": [],
   "source": [
    "## Insert your answer in this cell. DO NOT CHANGE THE NAME OF THE FUNCTION.\n",
    "def Classify_RF(trainingData, testData, depth):    \n",
    "    #\n",
    "    # YOUR CODE HERE\n",
    "    #\n",
    "    \n",
    "    optNumTrees = 1\n",
    "    maxNumTrees = 32\n",
    "    optErr = 1.0\n",
    "    optResult = None\n",
    "    testDataCount = testData.count()\n",
    "    \n",
    "    # Since this algorithm is faster than boosting tree,\n",
    "    # we will iterate through multiple tree sizes to find the\n",
    "    # value with biggest accuracy.\n",
    "    for numTrees in range(1, maxNumTrees + 1):\n",
    "        # Empty categoricalFeaturesInfo indicates all features are continuous.\n",
    "        # Gini impurity is a measure of how often a randomly chosen element \n",
    "        # from the set would be incorrectly labeled if it was randomly labeled\n",
    "        # according to the distribution of labels in the subset. This parameter is used\n",
    "        # to choose how to split a parameter in a tree node.\n",
    "        model = RandomForest.trainClassifier(\n",
    "            trainingData,\n",
    "            categoricalFeaturesInfo={},\n",
    "            featureSubsetStrategy='auto',\n",
    "            impurity='gini',\n",
    "            maxDepth=depth,\n",
    "            numClasses=2,\n",
    "            numTrees=numTrees,\n",
    "            maxBins=32,\n",
    "            seed=None)\n",
    "\n",
    "        # Mapping all test results with expected labels and counting the percentage of errors.\n",
    "        predictions = model.predict(testData.map(lambda lp : lp.features))\n",
    "        labelsAndPredictions = testData.map(lambda lp: lp.label).zip(predictions)    \n",
    "        testErr = labelsAndPredictions.filter(\n",
    "            lambda lp: lp[0] != lp[1]).count() / float(testDataCount)\n",
    "        \n",
    "        if (testErr < optErr):\n",
    "            optNumTrees = numTrees\n",
    "            optErr = testErr\n",
    "            optResult = labelsAndPredictions\n",
    "\n",
    "    trees = \"trees\"\n",
    "    if (optNumTrees == 1):\n",
    "        trees = \"tree\"\n",
    "        \n",
    "    print(\"Best result found for RF using {0} {1}:\".format(optNumTrees, trees))\n",
    "    print_Confusion_Matrix(labelsAndPredictions, testDataCount)    \n",
    "    return optErr\n"
   ]
  },
  {
   "cell_type": "markdown",
   "metadata": {
    "nbgrader": {
     "grade": false,
     "grade_id": "cell-1d17c1ba1cd3b333",
     "locked": true,
     "schema_version": 1,
     "solution": false
    }
   },
   "source": [
    "### Test cases"
   ]
  },
  {
   "cell_type": "code",
   "execution_count": 34,
   "metadata": {
    "ExecuteTime": {
     "end_time": "2018-08-02T14:48:59.439314Z",
     "start_time": "2018-08-02T14:46:44.802138Z"
    },
    "nbgrader": {
     "grade": true,
     "grade_id": "classifyRF_3_v",
     "locked": true,
     "points": "5",
     "schema_version": 1,
     "solution": false
    }
   },
   "outputs": [
    {
     "name": "stdout",
     "output_type": "stream",
     "text": [
      "Best result found for RF using 25 trees:\n"
     ]
    },
    {
     "data": {
      "image/png": "[encoded data removed]",
      "text/plain": [
       "<Figure size 1008x216 with 1 Axes>"
      ]
     },
     "metadata": {},
     "output_type": "display_data"
    },
    {
     "name": "stdout",
     "output_type": "stream",
     "text": [
      "Precision: 0.7970997406272106\n",
      "Recall: 0.6825845532559314\n",
      "Accuracy: 0.7206912389482145\n",
      "F1-Score: 0.7354108881274815\n"
     ]
    }
   ],
   "source": [
    "visible_results_rf=pickle.load(open('RandomForestResultsVisible.pkl','rb'))\n",
    "assert Classify_RF(trainingData, testData, 3) <= visible_results_rf['RF_10p_3'] "
   ]
  },
  {
   "cell_type": "code",
   "execution_count": 35,
   "metadata": {
    "ExecuteTime": {
     "end_time": "2018-08-02T14:51:52.261215Z",
     "start_time": "2018-08-02T14:48:59.492924Z"
    },
    "nbgrader": {
     "grade": true,
     "grade_id": "classifyRF_6_v",
     "locked": true,
     "points": "5",
     "schema_version": 1,
     "solution": false
    }
   },
   "outputs": [
    {
     "name": "stdout",
     "output_type": "stream",
     "text": [
      "Best result found for RF using 1 tree:\n"
     ]
    },
    {
     "data": {
      "image/png": "[encoded data removed]",
      "text/plain": [
       "<Figure size 1008x216 with 1 Axes>"
      ]
     },
     "metadata": {},
     "output_type": "display_data"
    },
    {
     "name": "stdout",
     "output_type": "stream",
     "text": [
      "Precision: 0.8049988210327753\n",
      "Recall: 0.704353208170002\n",
      "Accuracy: 0.7404983350556895\n",
      "F1-Score: 0.7513204225352113\n"
     ]
    }
   ],
   "source": [
    "assert Classify_RF(trainingData, testData, 6) <= visible_results_rf['RF_10p_6']"
   ]
  },
  {
   "cell_type": "code",
   "execution_count": 36,
   "metadata": {
    "ExecuteTime": {
     "end_time": "2018-08-02T14:51:52.367982Z",
     "start_time": "2018-08-02T14:51:52.288341Z"
    },
    "nbgrader": {
     "grade": true,
     "grade_id": "classifyRF_8_h",
     "locked": true,
     "points": "15",
     "schema_version": 1,
     "solution": false
    }
   },
   "outputs": [],
   "source": [
    "#Hidden Tests here\n",
    "#\n",
    "# AUTOGRADER TEST - DO NOT REMOVE\n",
    "#\n"
   ]
  },
  {
   "cell_type": "code",
   "execution_count": 37,
   "metadata": {
    "ExecuteTime": {
     "end_time": "2018-08-02T14:51:52.475274Z",
     "start_time": "2018-08-02T14:51:52.373524Z"
    },
    "nbgrader": {
     "grade": true,
     "grade_id": "classifyRF_10_h",
     "locked": true,
     "points": "15",
     "schema_version": 1,
     "solution": false
    }
   },
   "outputs": [],
   "source": [
    "#Hidden Tests here\n",
    "#\n",
    "# AUTOGRADER TEST - DO NOT REMOVE\n",
    "#\n"
   ]
  },
  {
   "cell_type": "code",
   "execution_count": 38,
   "metadata": {
    "ExecuteTime": {
     "end_time": "2018-08-02T14:51:52.554763Z",
     "start_time": "2018-08-02T14:51:52.487643Z"
    }
   },
   "outputs": [
    {
     "name": "stdout",
     "output_type": "stream",
     "text": [
      "Total time taken:  650.3856103420258\n"
     ]
    }
   ],
   "source": [
    "end_nb = time.time()\n",
    "print(\"Total time taken: \", end_nb - start_nb)"
   ]
  },
  {
   "cell_type": "code",
   "execution_count": null,
   "metadata": {},
   "outputs": [],
   "source": []
  }
 ],
 "metadata": {
  "kernelspec": {
   "display_name": "Python 3",
   "language": "python",
   "name": "python3"
  },
  "language_info": {
   "codemirror_mode": {
    "name": "ipython",
    "version": 3
   },
   "file_extension": ".py",
   "mimetype": "text/x-python",
   "name": "python",
   "nbconvert_exporter": "python",
   "pygments_lexer": "ipython3",
   "version": "3.6.5"
  },
  "toc": {
   "base_numbering": 1,
   "nav_menu": [],
   "number_sections": true,
   "sideBar": true,
   "skip_h1_title": false,
   "title_cell": "Table of Contents",
   "title_sidebar": "Contents",
   "toc_cell": false,
   "toc_position": {
    "height": "calc(100% - 180px)",
    "left": "10px",
    "top": "150px",
    "width": "264px"
   },
   "toc_section_display": true,
   "toc_window_display": true
  },
  "varInspector": {
   "cols": {
    "lenName": 16,
    "lenType": 16,
    "lenVar": 40
   },
   "kernels_config": {
    "python": {
     "delete_cmd_postfix": "",
     "delete_cmd_prefix": "del ",
     "library": "var_list.py",
     "varRefreshCmd": "print(var_dic_list())"
    },
    "r": {
     "delete_cmd_postfix": ") ",
     "delete_cmd_prefix": "rm(",
     "library": "var_list.r",
     "varRefreshCmd": "cat(var_dic_list()) "
    }
   },
   "types_to_exclude": [
    "module",
    "function",
    "builtin_function_or_method",
    "instance",
    "_Feature"
   ],
   "window_display": false
  }
 },
 "nbformat": 4,
 "nbformat_minor": 1
}
