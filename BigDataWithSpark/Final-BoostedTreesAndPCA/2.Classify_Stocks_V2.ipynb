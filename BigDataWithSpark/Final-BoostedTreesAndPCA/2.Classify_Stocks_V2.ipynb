{
 "cells": [
  {
   "cell_type": "markdown",
   "metadata": {
    "nbgrader": {
     "grade": false,
     "grade_id": "cell-2beb19248750c680",
     "locked": true,
     "schema_version": 1,
     "solution": false
    }
   },
   "source": [
    "# Stock Sector prediction using XGBoost\n",
    "PCA provides a low dimensional representation of the correlations between price changes in stock.\n",
    "As was explained in the previous notebook, these correlations correspond to the fact that the prices of similar stocks react similarly to news about changes in the market environment.\n",
    "\n",
    "In this notebook you will use boosted trees to predict the sector of test stocks. You will use as features the the coefficients of the 20 top eigenvectors as a representation of the stock.\n",
    "\n",
    "You will not know whether your predicions are correct. However, by splitting the training set into training and validation you would be able to estimate the error that your classifier will incur on the test set."
   ]
  },
  {
   "cell_type": "code",
   "execution_count": 1,
   "metadata": {
    "ExecuteTime": {
     "end_time": "2018-08-29T21:42:58.282379Z",
     "start_time": "2018-08-29T21:42:50.619515Z"
    },
    "nbgrader": {
     "grade": false,
     "grade_id": "cell-dd2433d1712e4dd7",
     "locked": true,
     "schema_version": 1,
     "solution": false
    }
   },
   "outputs": [
    {
     "name": "stdout",
     "output_type": "stream",
     "text": [
      "Populating the interactive namespace from numpy and matplotlib\n"
     ]
    }
   ],
   "source": [
    "import pickle\n",
    "import pandas as pd\n",
    "import numpy as np\n",
    "import xgboost as xgb\n",
    "from sklearn.model_selection import train_test_split\n",
    "%pylab inline"
   ]
  },
  {
   "cell_type": "markdown",
   "metadata": {
    "nbgrader": {
     "grade": false,
     "grade_id": "cell-35c72b8f613eae6b",
     "locked": true,
     "schema_version": 1,
     "solution": false
    }
   },
   "source": [
    "## Read PCA parameters"
   ]
  },
  {
   "cell_type": "code",
   "execution_count": 2,
   "metadata": {
    "ExecuteTime": {
     "end_time": "2018-08-29T21:42:58.398890Z",
     "start_time": "2018-08-29T21:42:58.294022Z"
    },
    "nbgrader": {
     "grade": false,
     "grade_id": "cell-a7dfa39380b67535",
     "locked": true,
     "schema_version": 1,
     "solution": false
    },
    "scrolled": true
   },
   "outputs": [],
   "source": [
    "D=pickle.load(open('data/PCA_true.pickle','rb'))\n",
    "col=D['columns']\n",
    "eigvec=D['eigvec']\n",
    "eigval=D['eigval']"
   ]
  },
  {
   "cell_type": "markdown",
   "metadata": {
    "nbgrader": {
     "grade": false,
     "grade_id": "cell-9f516e49dc08b136",
     "locked": true,
     "schema_version": 1,
     "solution": false
    }
   },
   "source": [
    "### Sanity check\n",
    "The following scatterplot should be very similar to the scatter plot you produced in the first notebook for eigvec 1, eigvec 2 (indexing starts with 1)"
   ]
  },
  {
   "cell_type": "code",
   "execution_count": 3,
   "metadata": {
    "ExecuteTime": {
     "end_time": "2018-08-29T21:42:58.790998Z",
     "start_time": "2018-08-29T21:42:58.413307Z"
    },
    "nbgrader": {
     "grade": false,
     "grade_id": "cell-89d72fab9ee2f887",
     "locked": true,
     "schema_version": 1,
     "solution": false
    }
   },
   "outputs": [
    {
     "data": {
      "text/plain": [
       "<matplotlib.collections.PathCollection at 0x7f5bf60a0f98>"
      ]
     },
     "execution_count": 3,
     "metadata": {},
     "output_type": "execute_result"
    },
    {
     "data": {
      "image/png": "[encoded data removed]",
      "text/plain": [
       "<Figure size 432x288 with 1 Axes>"
      ]
     },
     "metadata": {},
     "output_type": "display_data"
    }
   ],
   "source": [
    "scatter(eigvec[:,0],eigvec[:,1])"
   ]
  },
  {
   "cell_type": "markdown",
   "metadata": {
    "nbgrader": {
     "grade": false,
     "grade_id": "cell-caead6f6257eae66",
     "locked": true,
     "schema_version": 1,
     "solution": false
    }
   },
   "source": [
    "## compute features\n",
    "\n",
    "The features that we use are the coefficients of the top 20 eigenvectors.\n",
    "\n",
    "Those can be read directly from the eigenvectors matrix."
   ]
  },
  {
   "cell_type": "code",
   "execution_count": 4,
   "metadata": {
    "ExecuteTime": {
     "end_time": "2018-08-29T21:42:58.837157Z",
     "start_time": "2018-08-29T21:42:58.806027Z"
    },
    "nbgrader": {
     "grade": false,
     "grade_id": "cell-25ab4021327ffdfd",
     "locked": true,
     "schema_version": 1,
     "solution": false
    }
   },
   "outputs": [
    {
     "data": {
      "text/plain": [
       "(481, 20)"
      ]
     },
     "execution_count": 4,
     "metadata": {},
     "output_type": "execute_result"
    }
   ],
   "source": [
    "#Taking the top 20 features(Eigen vectors)\n",
    "features=eigvec[:,:20]\n",
    "features.shape"
   ]
  },
  {
   "cell_type": "markdown",
   "metadata": {
    "nbgrader": {
     "grade": false,
     "grade_id": "cell-9eeb8f35efa872a6",
     "locked": true,
     "schema_version": 1,
     "solution": false
    }
   },
   "source": [
    "##  Compute labels (sectors)"
   ]
  },
  {
   "cell_type": "code",
   "execution_count": 5,
   "metadata": {
    "ExecuteTime": {
     "end_time": "2018-08-29T21:42:58.948939Z",
     "start_time": "2018-08-29T21:42:58.854502Z"
    },
    "nbgrader": {
     "grade": false,
     "grade_id": "cell-904d92c63c6ced4f",
     "locked": true,
     "schema_version": 1,
     "solution": false
    },
    "scrolled": true
   },
   "outputs": [
    {
     "name": "stdout",
     "output_type": "stream",
     "text": [
      "(505, 5)\n"
     ]
    },
    {
     "data": {
      "text/html": [
       "<div>\n",
       "<style scoped>\n",
       "    .dataframe tbody tr th:only-of-type {\n",
       "        vertical-align: middle;\n",
       "    }\n",
       "\n",
       "    .dataframe tbody tr th {\n",
       "        vertical-align: top;\n",
       "    }\n",
       "\n",
       "    .dataframe thead th {\n",
       "        text-align: right;\n",
       "    }\n",
       "</style>\n",
       "<table border=\"1\" class=\"dataframe\">\n",
       "  <thead>\n",
       "    <tr style=\"text-align: right;\">\n",
       "      <th></th>\n",
       "      <th>Unnamed: 0</th>\n",
       "      <th>Ticker</th>\n",
       "      <th>Name</th>\n",
       "      <th>Sector</th>\n",
       "      <th>SECTOR_ID</th>\n",
       "    </tr>\n",
       "  </thead>\n",
       "  <tbody>\n",
       "    <tr>\n",
       "      <th>0</th>\n",
       "      <td>0</td>\n",
       "      <td>MMM</td>\n",
       "      <td>3M|3M Company</td>\n",
       "      <td>Industrials</td>\n",
       "      <td>INDS</td>\n",
       "    </tr>\n",
       "    <tr>\n",
       "      <th>1</th>\n",
       "      <td>1</td>\n",
       "      <td>ABT</td>\n",
       "      <td>Abbott Laboratories</td>\n",
       "      <td>Health Care</td>\n",
       "      <td>HC</td>\n",
       "    </tr>\n",
       "    <tr>\n",
       "      <th>2</th>\n",
       "      <td>2</td>\n",
       "      <td>ABBV</td>\n",
       "      <td>AbbVie Inc.</td>\n",
       "      <td>Health Care</td>\n",
       "      <td>HC</td>\n",
       "    </tr>\n",
       "    <tr>\n",
       "      <th>3</th>\n",
       "      <td>3</td>\n",
       "      <td>ACN</td>\n",
       "      <td>Accenture plc</td>\n",
       "      <td>Information Technology</td>\n",
       "      <td>IT</td>\n",
       "    </tr>\n",
       "    <tr>\n",
       "      <th>4</th>\n",
       "      <td>4</td>\n",
       "      <td>ATVI</td>\n",
       "      <td>Activision Blizzard</td>\n",
       "      <td>Information Technology</td>\n",
       "      <td>IT</td>\n",
       "    </tr>\n",
       "  </tbody>\n",
       "</table>\n",
       "</div>"
      ],
      "text/plain": [
       "   Unnamed: 0 Ticker                 Name                  Sector SECTOR_ID\n",
       "0           0    MMM        3M|3M Company             Industrials      INDS\n",
       "1           1    ABT  Abbott Laboratories             Health Care        HC\n",
       "2           2   ABBV          AbbVie Inc.             Health Care        HC\n",
       "3           3    ACN        Accenture plc  Information Technology        IT\n",
       "4           4   ATVI  Activision Blizzard  Information Technology        IT"
      ]
     },
     "execution_count": 5,
     "metadata": {},
     "output_type": "execute_result"
    }
   ],
   "source": [
    "TickerInfo=pd.read_csv('data/tickerInfo.tsv',sep='\\t')\n",
    "print(TickerInfo.shape)\n",
    "TickerInfo.head()"
   ]
  },
  {
   "cell_type": "markdown",
   "metadata": {
    "nbgrader": {
     "grade": false,
     "grade_id": "cell-e270636f68791e01",
     "locked": true,
     "schema_version": 1,
     "solution": false
    }
   },
   "source": [
    "### Creating necessary dictionaries"
   ]
  },
  {
   "cell_type": "markdown",
   "metadata": {
    "nbgrader": {
     "grade": false,
     "grade_id": "cell-bcff91d92cda4ce8",
     "locked": true,
     "schema_version": 1,
     "solution": false
    }
   },
   "source": [
    "The Sectors dictionary below has the Sector name mapped to the sector ID. Using the Sectors dictionary below, create a dictionary mapping of the sector ID to indices incrementally as follows:\n",
    "\n",
    "```\n",
    "{\n",
    "    'CD': 0,\n",
    "    'CS': 1,\n",
    "    'EN': 2,\n",
    "    'FIN': 3,\n",
    "    'HC': 4,\n",
    "    'INDS': 5,\n",
    "    'IT': 6,\n",
    "    'MAT': 7,\n",
    "    'RE': 8,\n",
    "    'TS': 9,\n",
    "    'UTIL': 10\n",
    "}\n",
    "```\n",
    "\n",
    "In addition to this, you will need to create one more dictionary mapping index number to the sector name:\n",
    "```\n",
    "{\n",
    "    0: 'Consumer Discretionary',\n",
    "    1: 'Consumer Staples',\n",
    "    2: 'Energy',\n",
    "    3: 'Financials',\n",
    "    4: 'Health Care',\n",
    "    5: 'Industrials',\n",
    "    6: 'Information Technology',\n",
    "    7: 'Materials',\n",
    "    8: 'Real Estate',\n",
    "    9: 'Telecommunication Services',\n",
    "    10: 'Utilities'\n",
    "}\n",
    " ```"
   ]
  },
  {
   "cell_type": "code",
   "execution_count": 6,
   "metadata": {
    "ExecuteTime": {
     "end_time": "2018-08-29T21:42:58.979619Z",
     "start_time": "2018-08-29T21:42:58.957794Z"
    },
    "nbgrader": {
     "grade": false,
     "grade_id": "cell-7e163b9f4a2312c8",
     "locked": true,
     "schema_version": 1,
     "solution": false
    }
   },
   "outputs": [],
   "source": [
    "Sectors={'Consumer Discretionary':'CD',\n",
    " 'Consumer Staples':'CS',\n",
    " 'Energy':'EN',\n",
    " 'Financials':'FIN',\n",
    " 'Health Care':'HC',\n",
    " 'Industrials':'INDS',\n",
    " 'Information Technology':'IT',\n",
    " 'Materials':'MAT',\n",
    " 'Real Estate':'RE',\n",
    " 'Telecommunication Services':'TS',\n",
    " 'Utilities':'UTIL'}\n"
   ]
  },
  {
   "cell_type": "markdown",
   "metadata": {
    "nbgrader": {
     "grade": false,
     "grade_id": "cell-bcff91d92cda4ce9",
     "locked": true,
     "schema_version": 1,
     "solution": false
    }
   },
   "source": [
    "### get_sectors_dicts()\n",
    "Create two dictionaries relatng number and sectors.\n",
    "\n",
    "**<font color=\"magenta\" size=2>Input</font>**\n",
    "<br>\n",
    "A dictionary **Sectors** as given in the previous cell.\n",
    "\n",
    "**<font color=\"blue\" size=2>Output</font>**\n",
    "<br>\n",
    "Return two dictionaries **sector2number** and **number2sectorName** as mentioned in the description."
   ]
  },
  {
   "cell_type": "code",
   "execution_count": 7,
   "metadata": {
    "ExecuteTime": {
     "end_time": "2018-08-29T21:42:59.026683Z",
     "start_time": "2018-08-29T21:42:59.001527Z"
    },
    "nbgrader": {
     "grade": false,
     "grade_id": "cell-48e618d54073cb44",
     "locked": true,
     "schema_version": 1,
     "solution": false
    }
   },
   "outputs": [],
   "source": [
    "def get_sector_dicts(Sectors):\n",
    "    sector2number={}\n",
    "    i=0;\n",
    "    for name,short in sorted(Sectors.items()):\n",
    "        sector2number[short]=i\n",
    "        i+=1\n",
    "    sectorID2sectorName = {key:value for (value, key) in Sectors.items()}\n",
    "    number2sectorID = {key:value for (value, key) in sector2number.items()}\n",
    "    number2sectorName = {i:sectorID2sectorName[number2sectorID[i]] for i in number2sectorID}\n",
    "    return sector2number, number2sectorName\n"
   ]
  },
  {
   "cell_type": "code",
   "execution_count": 8,
   "metadata": {
    "ExecuteTime": {
     "end_time": "2018-08-29T21:42:59.098898Z",
     "start_time": "2018-08-29T21:42:59.044960Z"
    },
    "nbgrader": {
     "grade": false,
     "grade_id": "cell-8969b6dbb6161bce",
     "locked": true,
     "schema_version": 1,
     "solution": false
    }
   },
   "outputs": [],
   "source": [
    "sector2number, number2sectorName = get_sector_dicts(Sectors)"
   ]
  },
  {
   "cell_type": "markdown",
   "metadata": {
    "nbgrader": {
     "grade": false,
     "grade_id": "cell-a5936b65dd2011dd",
     "locked": true,
     "schema_version": 1,
     "solution": false
    }
   },
   "source": [
    "### Construct the training and testing datasets"
   ]
  },
  {
   "cell_type": "code",
   "execution_count": 9,
   "metadata": {
    "ExecuteTime": {
     "end_time": "2018-08-29T21:42:59.939325Z",
     "start_time": "2018-08-29T21:42:59.115272Z"
    },
    "nbgrader": {
     "grade": false,
     "grade_id": "cell-76dfe40b2999cb01",
     "locked": true,
     "schema_version": 1,
     "solution": false
    }
   },
   "outputs": [],
   "source": [
    "labels=[]\n",
    "feature_vectors=[]\n",
    "feature_vectors_test=[]\n",
    "test_nos = []\n",
    "for i in range(len(col)):\n",
    "    c=col[i]\n",
    "    if 'train' in c:\n",
    "        ticker=c[6:-2]\n",
    "        answer=list(TickerInfo[TickerInfo.Ticker==ticker]['SECTOR_ID'])\n",
    "        if len(answer)==1:\n",
    "            sector_no=sector2number[answer[0]]\n",
    "            labels.append(sector_no)\n",
    "            feature_vectors.append(features[i,:])\n",
    "        else:\n",
    "            print('error: could not find sector for ticker:',ticker)\n",
    "    if 'test' in c:\n",
    "        test_nos.append(c[5:-2])\n",
    "        feature_vectors_test.append(features[i,:])"
   ]
  },
  {
   "cell_type": "code",
   "execution_count": 10,
   "metadata": {
    "ExecuteTime": {
     "end_time": "2018-08-29T21:42:59.980072Z",
     "start_time": "2018-08-29T21:42:59.954908Z"
    },
    "nbgrader": {
     "grade": false,
     "grade_id": "cell-cd496764aef3e72c",
     "locked": true,
     "schema_version": 1,
     "solution": false
    }
   },
   "outputs": [
    {
     "data": {
      "text/plain": [
       "(392, 392, 89, 89)"
      ]
     },
     "execution_count": 10,
     "metadata": {},
     "output_type": "execute_result"
    }
   ],
   "source": [
    "#verify lengths\n",
    "len(labels),len(feature_vectors), len(test_nos),len(feature_vectors_test)"
   ]
  },
  {
   "cell_type": "markdown",
   "metadata": {},
   "source": [
    "## Placing the data into numpy arrays as expected by xgboost"
   ]
  },
  {
   "cell_type": "code",
   "execution_count": 11,
   "metadata": {
    "ExecuteTime": {
     "end_time": "2018-08-29T21:43:00.029133Z",
     "start_time": "2018-08-29T21:42:59.985390Z"
    },
    "nbgrader": {
     "grade": false,
     "grade_id": "cell-5354908ece6c0677",
     "locked": true,
     "schema_version": 1,
     "solution": false
    }
   },
   "outputs": [
    {
     "data": {
      "text/plain": [
       "((392, 20), (392,), (89, 20))"
      ]
     },
     "execution_count": 11,
     "metadata": {},
     "output_type": "execute_result"
    }
   ],
   "source": [
    "X=np.array(feature_vectors)\n",
    "y=np.array(labels)\n",
    "X_test = np.array(feature_vectors_test)\n",
    "# y_test = np.array(test_nos)\n",
    "X.shape, y.shape, X_test.shape#, y_test.shape"
   ]
  },
  {
   "cell_type": "code",
   "execution_count": 12,
   "metadata": {
    "ExecuteTime": {
     "end_time": "2018-08-29T21:43:00.072909Z",
     "start_time": "2018-08-29T21:43:00.037624Z"
    },
    "nbgrader": {
     "grade": false,
     "grade_id": "cell-2f563a060a7dabb5",
     "locked": true,
     "schema_version": 1,
     "solution": false
    }
   },
   "outputs": [
    {
     "data": {
      "text/plain": [
       "((274, 20), (118, 20))"
      ]
     },
     "execution_count": 12,
     "metadata": {},
     "output_type": "execute_result"
    }
   ],
   "source": [
    "#Splitting the labeled data (X,y) into train and validation\n",
    "X_train, X_valid, y_train, y_valid = train_test_split(X, y, test_size=0.30, random_state=6)\n",
    "X_train.shape, X_valid.shape"
   ]
  },
  {
   "cell_type": "code",
   "execution_count": 13,
   "metadata": {
    "ExecuteTime": {
     "end_time": "2018-08-29T21:43:00.118044Z",
     "start_time": "2018-08-29T21:43:00.085047Z"
    },
    "nbgrader": {
     "grade": false,
     "grade_id": "cell-e8794feabbdf7ddb",
     "locked": true,
     "schema_version": 1,
     "solution": false
    }
   },
   "outputs": [],
   "source": [
    "#Parameters\n",
    "param = {}\n",
    "param['max_depth']= 3   # depth of tree\n",
    "param['eta'] = 0.3      # shrinkage parameter\n",
    "param['silent'] = 1     # not silent\n",
    "param['objective'] = 'multi:softmax'\n",
    "param['nthread'] = 7 # Number of threads used\n",
    "param['num_class']=11\n",
    "\n",
    "num_round = 100"
   ]
  },
  {
   "cell_type": "markdown",
   "metadata": {
    "nbgrader": {
     "grade": false,
     "grade_id": "cell-e9687a05751d0ab1",
     "locked": true,
     "schema_version": 1,
     "solution": false
    }
   },
   "source": [
    "## Generating scores using XGBoost\n",
    "\n",
    "The function <font color=\"blue\">get_margin_scores</font> is used to predict the sector for each of the given samples.\n",
    "\n",
    "**<font color=\"magenta\" size=2>Input</font>**\n",
    "<br>\n",
    "1. **Training set** (X_train)\n",
    "2. **Validation set** (X_valid)\n",
    "3. **Training labels** (y_train)\n",
    "4. **XGBoost Parameter List** (param)\n",
    "\n",
    "\n",
    "**<font color=\"blue\" size=2>Output</font>**\n",
    "<br>\n",
    "Return the following:\n",
    "1. **y_pred_valid**: The raw output scores for the validation set\n",
    "\n",
    "\n",
    "**Note**:\n",
    "1. Round all raw scores to **three** decimal places\n",
    "2. Remember to use **verbose_eval = False** while training and **ntree_limit=bst.best_ntree_limit** and **output_margin=True** while predicting\n",
    "3. Remember to provide the **num_round** parameter while training and do not change it. We have currently set it to 100 (Refer to the previous cell). Not providing the parameter or changing it could produce different results."
   ]
  },
  {
   "cell_type": "code",
   "execution_count": 14,
   "metadata": {
    "ExecuteTime": {
     "end_time": "2018-08-29T21:43:00.163273Z",
     "start_time": "2018-08-29T21:43:00.129925Z"
    },
    "nbgrader": {
     "grade": false,
     "grade_id": "cell-0e8f383f79318be9",
     "locked": false,
     "schema_version": 1,
     "solution": true
    }
   },
   "outputs": [],
   "source": [
    "def round_rows(val):\n",
    "    return round(val, 3)\n",
    "    \n",
    "def get_margin_scores(X_train, X_valid, y_train, param):\n",
    "    #\n",
    "    # YOUR CODE HERE\n",
    "    #\n",
    "    dTrain = xgb.DMatrix(X_train, label=y_train)\n",
    "    dValid = xgb.DMatrix(X_valid)\n",
    "   \n",
    "    # Training model.    \n",
    "    boostTree = xgb.train(param, dTrain, num_boost_round = num_round, verbose_eval=False)\n",
    "    \n",
    "    # Predicting validation data.\n",
    "    y_pred_valid = boostTree.predict(dValid, ntree_limit=boostTree.best_ntree_limit, output_margin=True)\n",
    "    \n",
    "    # Vectorizing method to apply to matrix elements.\n",
    "    myfunc_vec = np.vectorize(round_rows)\n",
    "    return myfunc_vec(y_pred_valid)"
   ]
  },
  {
   "cell_type": "code",
   "execution_count": 15,
   "metadata": {
    "ExecuteTime": {
     "end_time": "2018-08-29T21:43:01.586476Z",
     "start_time": "2018-08-29T21:43:00.184397Z"
    },
    "nbgrader": {
     "grade": false,
     "grade_id": "cell-b9e317c1fa1f35d3",
     "locked": true,
     "schema_version": 1,
     "solution": false
    }
   },
   "outputs": [
    {
     "name": "stdout",
     "output_type": "stream",
     "text": [
      "(118, 11)\n",
      "[[-0.347 -3.01  -1.557  3.031 -3.336 -4.426 -1.297 -1.754  6.04  -3.06\n",
      "  -2.764]\n",
      " [ 0.274 -1.584 -2.223 -2.199 -3.256 -2.909  2.392 -0.374 -1.715 -2.847\n",
      "  -2.764]\n",
      " [-3.213 -0.942 -1.678  4.148 -3.025 -1.184 -4.03  -0.91  -3.222 -2.962\n",
      "  -2.764]]\n"
     ]
    }
   ],
   "source": [
    "y_pred_valid = get_margin_scores(X_train, X_valid, y_train, param)\n",
    "print(y_pred_valid.shape) # 118 validation tests, 11 classes per test.\n",
    "print(y_pred_valid[0:3])"
   ]
  },
  {
   "cell_type": "code",
   "execution_count": 16,
   "metadata": {
    "ExecuteTime": {
     "end_time": "2018-08-29T21:43:01.602990Z",
     "start_time": "2018-08-29T21:43:01.596746Z"
    },
    "nbgrader": {
     "grade": true,
     "grade_id": "cell-121c650f46b392f8",
     "locked": true,
     "points": 0,
     "schema_version": 1,
     "solution": false
    }
   },
   "outputs": [],
   "source": [
    "assert y_pred_valid.shape == (118, 11), \"Incorrect shape\"\n",
    "assert type(y_pred_valid) == numpy.ndarray, \"Incorrect type\""
   ]
  },
  {
   "cell_type": "code",
   "execution_count": 17,
   "metadata": {
    "ExecuteTime": {
     "end_time": "2018-08-29T21:43:01.641491Z",
     "start_time": "2018-08-29T21:43:01.624567Z"
    },
    "nbgrader": {
     "grade": true,
     "grade_id": "NoM_eql_0",
     "locked": true,
     "points": 5,
     "schema_version": 1,
     "solution": false
    }
   },
   "outputs": [],
   "source": [
    "# Hidden Tests Here\n",
    "#If rounding off is the problem, give them 6 points out of 8\n",
    "#\n",
    "# AUTOGRADER TEST - DO NOT REMOVE\n",
    "#\n"
   ]
  },
  {
   "cell_type": "code",
   "execution_count": 18,
   "metadata": {
    "ExecuteTime": {
     "end_time": "2018-08-29T21:43:01.668034Z",
     "start_time": "2018-08-29T21:43:01.645112Z"
    },
    "nbgrader": {
     "grade": true,
     "grade_id": "NoM_lt_100",
     "locked": true,
     "points": 10,
     "schema_version": 1,
     "solution": false
    }
   },
   "outputs": [],
   "source": [
    "#\n",
    "# AUTOGRADER TEST - DO NOT REMOVE\n",
    "#\n"
   ]
  },
  {
   "cell_type": "code",
   "execution_count": 19,
   "metadata": {
    "ExecuteTime": {
     "end_time": "2018-08-29T21:43:01.690423Z",
     "start_time": "2018-08-29T21:43:01.674888Z"
    },
    "nbgrader": {
     "grade": true,
     "grade_id": "NoM_lt_400",
     "locked": true,
     "points": 5,
     "schema_version": 1,
     "solution": false
    }
   },
   "outputs": [],
   "source": [
    "#\n",
    "# AUTOGRADER TEST - DO NOT REMOVE\n",
    "#\n"
   ]
  },
  {
   "cell_type": "markdown",
   "metadata": {
    "nbgrader": {
     "grade": false,
     "grade_id": "cell-64d5475ceb1f9cdb",
     "locked": true,
     "schema_version": 1,
     "solution": false
    }
   },
   "source": [
    "## Computing Top1 and Top5 predictions\n",
    "\n",
    "Using the margin scores generated, calculate top1 and top5 predictions for the given data:\n",
    "\n",
    "**top1**: Find the highest scoring prediction for each example in the validation set\n",
    "\n",
    "**top5**: Find the top 5 highest scoring predictions in descending order for each example in the validation set (Highest to lowest)\n",
    "\n",
    "**<font color=\"magenta\" size=2>Input</font>**\n",
    "\n",
    "1. **Validation Output Scores** (y_pred_valid)\n",
    "\n",
    "**<font color=\"blue\" size=2>Output</font>**\n",
    "\n",
    "1. **predictions_valid**: The highest scoring prediction for each example in the the validation set\n",
    "2. **predictions_topn**: The top 5 highest scoring prodictions for each example in the validation set\n",
    "\n",
    "**<font color=\"magenta\" size=2>Sample input</font>**\n",
    "1. **y_pred_valid**: [[-0.3, 1.2, 0.3, 0.5, -0.4, 0.0, 0.01, 1.0, -1.3, 0.2, -1.2], [0.4, -0.5, 1.3, -0.2, 0.6, -2.2, -0.8, 1.9, 0.9, -0.2, -1.7]]\n",
    "\n",
    "**<font color=\"blue\" size=2>Sample output</font>** \n",
    "1. **predictions_valid**: [1, 7]\n",
    "2. **predictions_top5**: [[1,  7,  3,  2,  9], [ 7,  2,  8,  4,  0]]"
   ]
  },
  {
   "cell_type": "code",
   "execution_count": 20,
   "metadata": {
    "ExecuteTime": {
     "end_time": "2018-08-29T21:43:01.759632Z",
     "start_time": "2018-08-29T21:43:01.707918Z"
    },
    "nbgrader": {
     "grade": false,
     "grade_id": "cell-12ee152fd08b1fdf",
     "locked": false,
     "schema_version": 1,
     "solution": true
    }
   },
   "outputs": [],
   "source": [
    "def get_predictions(y_pred_valid):\n",
    "    top1 = []\n",
    "    top5 = []\n",
    "    numClasses = param['num_class']\n",
    "    \n",
    "    for row in y_pred_valid:       \n",
    "        # Note that if you use x[argsort(x)], you get the array X sorted,\n",
    "        # so you just need to return its top 5 elememnts on reverse order.\n",
    "        topClasses = row.argsort()  \n",
    "        top1.append(topClasses[numClasses - 1])\n",
    "        top5.append(list(reversed(topClasses[numClasses - 5 : numClasses])))\n",
    "    \n",
    "    return np.array(top1), np.array(top5)\n"
   ]
  },
  {
   "cell_type": "code",
   "execution_count": 21,
   "metadata": {
    "ExecuteTime": {
     "end_time": "2018-08-29T21:43:01.788926Z",
     "start_time": "2018-08-29T21:43:01.767844Z"
    },
    "nbgrader": {
     "grade": false,
     "grade_id": "cell-149bfef984002316",
     "locked": true,
     "schema_version": 1,
     "solution": false
    }
   },
   "outputs": [
    {
     "name": "stdout",
     "output_type": "stream",
     "text": [
      "[[8 3 0 6 2]\n",
      " [6 0 7 1 8]\n",
      " [3 7 1 5 2]]\n",
      "[[-0.347 -3.01  -1.557  3.031 -3.336 -4.426 -1.297 -1.754  6.04  -3.06\n",
      "  -2.764]\n",
      " [ 0.274 -1.584 -2.223 -2.199 -3.256 -2.909  2.392 -0.374 -1.715 -2.847\n",
      "  -2.764]\n",
      " [-3.213 -0.942 -1.678  4.148 -3.025 -1.184 -4.03  -0.91  -3.222 -2.962\n",
      "  -2.764]]\n"
     ]
    }
   ],
   "source": [
    "predictions_valid, predictions_top5 = get_predictions(y_pred_valid)\n",
    "print(predictions_top5[0:3])\n",
    "print(y_pred_valid[0:3])"
   ]
  },
  {
   "cell_type": "code",
   "execution_count": 22,
   "metadata": {
    "ExecuteTime": {
     "end_time": "2018-08-29T21:43:01.826977Z",
     "start_time": "2018-08-29T21:43:01.795117Z"
    },
    "nbgrader": {
     "grade": true,
     "grade_id": "cell-02be6a89a5e44753",
     "locked": true,
     "points": 0,
     "schema_version": 1,
     "solution": false
    }
   },
   "outputs": [],
   "source": [
    "assert predictions_valid.shape == (118,), \"Incorrect shape\"\n",
    "assert predictions_top5.shape == (118, 5), \"Incorrect shape\"\n",
    "assert type(predictions_valid) == numpy.ndarray, \"Incorrect type\"\n",
    "assert type(predictions_top5) == numpy.ndarray, \"Incorrect type\""
   ]
  },
  {
   "cell_type": "code",
   "execution_count": 23,
   "metadata": {
    "ExecuteTime": {
     "end_time": "2018-08-29T21:43:01.967100Z",
     "start_time": "2018-08-29T21:43:01.834958Z"
    },
    "nbgrader": {
     "grade": true,
     "grade_id": "cell-38231ddef36ec299",
     "locked": true,
     "points": 0,
     "schema_version": 1,
     "solution": false
    }
   },
   "outputs": [],
   "source": [
    "# Check if you get the correct top4 for the first 3 elements.\n",
    "predictions_top5_first3=\\\n",
    "    array([[8, 3, 0, 6, 2],\n",
    "           [6, 0, 7, 1, 8],\n",
    "           [3, 7, 1, 5, 2]])\n",
    "assert (predictions_top5_first3 == predictions_top5[:3]).all(), \"Incorrect predictions\""
   ]
  },
  {
   "cell_type": "code",
   "execution_count": 24,
   "metadata": {
    "ExecuteTime": {
     "end_time": "2018-08-29T21:43:02.002035Z",
     "start_time": "2018-08-29T21:43:01.983257Z"
    },
    "nbgrader": {
     "grade": true,
     "grade_id": "y_pred_valid_true",
     "locked": true,
     "points": 8,
     "schema_version": 1,
     "solution": false
    }
   },
   "outputs": [],
   "source": [
    "# Hidden Tests Here\n",
    "#\n",
    "# AUTOGRADER TEST - DO NOT REMOVE\n",
    "#\n"
   ]
  },
  {
   "cell_type": "code",
   "execution_count": 25,
   "metadata": {
    "ExecuteTime": {
     "end_time": "2018-08-29T21:43:02.025401Z",
     "start_time": "2018-08-29T21:43:02.014855Z"
    },
    "nbgrader": {
     "grade": true,
     "grade_id": "predictions_top5_true",
     "locked": true,
     "points": 8,
     "schema_version": 1,
     "solution": false
    }
   },
   "outputs": [],
   "source": [
    "# Hidden Tests Here\n",
    "#\n",
    "# AUTOGRADER TEST - DO NOT REMOVE\n",
    "#\n"
   ]
  },
  {
   "cell_type": "markdown",
   "metadata": {
    "nbgrader": {
     "grade": false,
     "grade_id": "cell-d0013fc06c828433",
     "locked": true,
     "schema_version": 1,
     "solution": false
    }
   },
   "source": [
    "## Estimating accuracy\n",
    "We will now compute the accuracies of the predictions, where\n",
    "* **Top 1** is the fraction of examples on which the correct sector has the highest score.\n",
    "* **Top 2** is the fraction of examples on which the correct sector has the highest **or** second highest score.\n",
    "* ...\n",
    "* **Top 5** is the fraction of examples on which the correct sector has one of the top 5 scores.\n",
    "\n",
    "These scores are all based on the training set. In principle, the errors on the test set can be different. However, if we assume that the test and train set are generated by the same distribution, then these are reasonable estimate of the accuracy we expect to get."
   ]
  },
  {
   "cell_type": "code",
   "execution_count": 26,
   "metadata": {
    "ExecuteTime": {
     "end_time": "2018-08-29T21:43:02.067340Z",
     "start_time": "2018-08-29T21:43:02.036467Z"
    },
    "nbgrader": {
     "grade": false,
     "grade_id": "cell-67e0884f8fe20312",
     "locked": true,
     "schema_version": 1,
     "solution": false
    }
   },
   "outputs": [
    {
     "name": "stdout",
     "output_type": "stream",
     "text": [
      "Top  1 : \t 0.7203389830508474\n",
      "Top  2 : \t 0.864406779661017\n",
      "Top  3 : \t 0.9152542372881356\n",
      "Top  4 : \t 0.9322033898305084\n",
      "Top  5 : \t 0.9491525423728814\n"
     ]
    }
   ],
   "source": [
    "acc = 0\n",
    "for i in range(5):\n",
    "    acc += sum(predictions_top5[:, i]==y_valid)\n",
    "    print(\"Top \", i+1, \": \\t\", acc/len(y_valid))"
   ]
  },
  {
   "cell_type": "markdown",
   "metadata": {
    "nbgrader": {
     "grade": false,
     "grade_id": "cell-d839e3381ca150d2",
     "locked": true,
     "schema_version": 1,
     "solution": false
    }
   },
   "source": [
    "## Generating the confusion matrix\n",
    "\n",
    "What is a confusion matrix?\n",
    "This is a useful link that explains this: https://en.wikipedia.org/wiki/Confusion_matrix#Example\n",
    "\n",
    "We will now be using the top 2 values of **predictions_top5** to produce the confusion matrix. We will create the confusion matrix by considering the correct section $j$ and the two sections with the highest scores $i_1,i_2$ where $score(i_1) > score(i_2)$ are the two sectors with the two highest scores.\n",
    "\n",
    "* A prediction is *correct* if $j=i_1$. correct examples are ignored.\n",
    "* The predicion $i_2$ is confused with $i_1$ if $j=i_2$\n",
    "* If $j \\neq i_1$ and $j \\neq i_2$ then the example is ignored. \n",
    "\n",
    "### Examples\n",
    "\n",
    "We consider two scenarios where the possible categories are `(0,1,2,3)`\n",
    "\n",
    "#### Scenario 1\n",
    "\n",
    "**<font color=\"magenta\" size=2>Sample Input</font>**<br>\n",
    "y_label = 3<br>\n",
    "top2_predictions = [2, 3]\n",
    "\n",
    "**<font color=\"blue\" size=2>Output</font>**<br>\n",
    "confusion_matrix:<br>\n",
    "[0 0 0 0]<br>\n",
    "[0 0 0 0]<br>\n",
    "[0 0 0 1]<br>\n",
    "[0 0 0 0]<br>\n",
    "**Explanation**:  \n",
    "The first example has top two predictions: (2, 3) and the label 3. So we add 1 to the position (2,3).\n",
    "\n",
    "#### Scenario 2\n",
    "\n",
    "**<font color=\"magenta\" size=2>Sample Input</font>**<br>\n",
    "Say we have 7 sample prediction values<br>\n",
    "y_label = [3, 2, 3, 1, 0, 2, 2]<br>\n",
    "top2_predictions = [[2, 3], [0, 3], [2, 3], [1, 2], [3, 0], [2, 0], [3, 2]]\n",
    "\n",
    "**<font color=\"blue\" size=2>Output</font>**<br>\n",
    "confusion_matrix:<br>\n",
    "[0 0 0 0]<br>\n",
    "[0 0 0 0]<br>\n",
    "[0 0 0 2]<br>\n",
    "[1 0 1 0]<br>\n",
    "\n",
    "**Explanation**:  \n",
    "The second example has 7 sample predictions: \n",
    "1. In two scenarios 2 is predicted in place of 3 and the cell (2,3) is incremented twice.\n",
    "2. In two other scenarios we have a case where the second prediction is right. The corresponding cells {(3,0) and (3,2)} are incremented once each.\n",
    "3. In two scenarios, the first element is the correct prediction. Thus no cell is incremented.\n",
    "4. In one scenario, neither of the top 2 predictions is correct. Thus no cell is incremented.\n",
    "\n",
    "**Note**: y_label is the same as y_valid here."
   ]
  },
  {
   "cell_type": "code",
   "execution_count": 27,
   "metadata": {
    "ExecuteTime": {
     "end_time": "2018-08-29T21:43:02.135740Z",
     "start_time": "2018-08-29T21:43:02.069788Z"
    },
    "nbgrader": {
     "grade": false,
     "grade_id": "cell-8e31e89d9f64d4d6",
     "locked": false,
     "schema_version": 1,
     "solution": true
    }
   },
   "outputs": [],
   "source": [
    "def get_confusion_matrix(predictions_top5, y_valid):\n",
    "    # Confusion matrix 11x11.\n",
    "    confusion_matrix = np.zeros((param['num_class'], param['num_class']), dtype=numpy.int64)\n",
    "    for predRow, y in zip(predictions_top5, y_valid):\n",
    "        i0 = predRow[0]\n",
    "        i1 = predRow[1]\n",
    "        if (i0 == y or i1 != y):\n",
    "            # If we are sure that we are correct or incorrect, ignore it.\n",
    "            continue\n",
    "        \n",
    "        # Increase the cell showing the class that where we had confusion.\n",
    "        confusion_matrix[i0][y] = confusion_matrix[i0][y] + 1\n",
    "    \n",
    "    return confusion_matrix\n"
   ]
  },
  {
   "cell_type": "code",
   "execution_count": 28,
   "metadata": {
    "ExecuteTime": {
     "end_time": "2018-08-29T21:43:02.155503Z",
     "start_time": "2018-08-29T21:43:02.138438Z"
    },
    "nbgrader": {
     "grade": false,
     "grade_id": "cell-1ed771c7dfe188d5",
     "locked": true,
     "schema_version": 1,
     "solution": false
    }
   },
   "outputs": [],
   "source": [
    "confusion_matrix = get_confusion_matrix(predictions_top5, y_valid)"
   ]
  },
  {
   "cell_type": "code",
   "execution_count": 29,
   "metadata": {
    "ExecuteTime": {
     "end_time": "2018-08-29T21:43:02.194474Z",
     "start_time": "2018-08-29T21:43:02.169925Z"
    },
    "nbgrader": {
     "grade": true,
     "grade_id": "cell-157fe9078d64488b",
     "locked": true,
     "points": 0,
     "schema_version": 1,
     "solution": false
    }
   },
   "outputs": [],
   "source": [
    "assert confusion_matrix.shape == (11, 11), \"Incorrect shape\"\n",
    "assert type(confusion_matrix) == numpy.ndarray, \"Incorrect type\"\n",
    "assert type(confusion_matrix[0][0]) == numpy.int64, \"Incorrect type\""
   ]
  },
  {
   "cell_type": "code",
   "execution_count": 30,
   "metadata": {
    "ExecuteTime": {
     "end_time": "2018-08-29T21:43:02.219656Z",
     "start_time": "2018-08-29T21:43:02.203513Z"
    },
    "nbgrader": {
     "grade": true,
     "grade_id": "conf_matrix",
     "locked": true,
     "points": 2,
     "schema_version": 1,
     "solution": false
    }
   },
   "outputs": [],
   "source": [
    "# Hidden Tests Here\n",
    "#\n",
    "# AUTOGRADER TEST - DO NOT REMOVE\n",
    "#\n"
   ]
  },
  {
   "cell_type": "code",
   "execution_count": 31,
   "metadata": {
    "ExecuteTime": {
     "end_time": "2018-08-29T21:43:02.265794Z",
     "start_time": "2018-08-29T21:43:02.236194Z"
    },
    "nbgrader": {
     "grade": false,
     "grade_id": "cell-60985a0fe92e3ab9",
     "locked": true,
     "schema_version": 1,
     "solution": false
    }
   },
   "outputs": [
    {
     "name": "stdout",
     "output_type": "stream",
     "text": [
      "        Consumer Discretionary \t [0 1 0 0 0 0 1 0 0 0 0]\n",
      "              Consumer Staples \t [0 0 0 0 0 0 0 0 0 0 0]\n",
      "                        Energy \t [0 0 0 0 0 0 0 0 0 0 0]\n",
      "                    Financials \t [0 0 0 0 0 0 1 0 0 0 0]\n",
      "                   Health Care \t [0 0 0 0 0 0 2 0 0 0 0]\n",
      "                   Industrials \t [2 0 0 0 0 0 1 4 0 0 0]\n",
      "        Information Technology \t [2 0 0 0 0 0 0 0 0 0 0]\n",
      "                     Materials \t [0 0 0 0 0 1 0 0 0 0 0]\n",
      "                   Real Estate \t [1 0 0 0 1 0 0 0 0 0 0]\n",
      "    Telecommunication Services \t [0 0 0 0 0 0 0 0 0 0 0]\n",
      "                     Utilities \t [0 0 0 0 0 0 0 0 0 0 0]\n"
     ]
    }
   ],
   "source": [
    "for i in range(confusion_matrix.shape[0]):\n",
    "    print(\"%30s\" % number2sectorName[i], \"\\t\", confusion_matrix[i, :])"
   ]
  },
  {
   "cell_type": "markdown",
   "metadata": {
    "nbgrader": {
     "grade": false,
     "grade_id": "cell-0b2e2ac37d5f8694",
     "locked": true,
     "schema_version": 1,
     "solution": false
    }
   },
   "source": [
    "## Interpretation of confusion matrix\n",
    "\n",
    "Based on the confusion matrix generated, answer the following questions.\n",
    "\n",
    "Categories:\n",
    "```\n",
    "    0) Consumer Discretionary\n",
    "    1) Consumer Staples  \n",
    "    2) Energy  \n",
    "    3) Financials\n",
    "    4) Health Care   \n",
    "    5) Industrials   \n",
    "    6) Information Technology   \n",
    "    7) Materials   \n",
    "    8) Real Estate   \n",
    "    9) Telecommunication Services   \n",
    "    10) Utilities  \n",
    "```"
   ]
  },
  {
   "cell_type": "markdown",
   "metadata": {
    "nbgrader": {
     "grade": false,
     "grade_id": "cell-0b2e2ac37d5f8696",
     "locked": true,
     "schema_version": 1,
     "solution": false
    }
   },
   "source": [
    "### instructions for answering the questions in this section\n",
    "1. Each question has two parts: **ans** and **num_scen**\n",
    "    1. **ans**: A list with numbers corresponding to the different categories. For example, if the answer is Consumer Discretionary and Consumer Staples, the **ans** should be a **list** containing **single tuple**,i.e. `ans=[(0,1)]` \n",
    "    2. **num_scen**: Number of scenarios where the condition in the given question is applicable. For example, if the condition given in the question happens 5 times, the **num_scen** should return **5** as an integer, i.e. `num_scen=5`\n",
    "2. Type checks have been provided to validate the type of your answer\n",
    "3. Remember that just the answer for the given matrix should be enough. **You do not have to write a generic function that answers the question for all confusion matrices.**\n",
    "\n",
    "Examples:\n",
    "```python\n",
    "def example_question():\n",
    "    ans = [(0,1),(2,3)] # sect 0 is confused with sect 1 and sect 2 is confused with sect 3\n",
    "    num_scen=4 # each of the elements in each pair is confused with the other 4 times.\n",
    "    return ans,num_scen\n",
    "```\n"
   ]
  },
  {
   "cell_type": "markdown",
   "metadata": {
    "nbgrader": {
     "grade": false,
     "grade_id": "cell-68c1242a396f9445",
     "locked": true,
     "schema_version": 1,
     "solution": false
    }
   },
   "source": [
    "### Question 1\n",
    "\n",
    "Which two sectors are most often confused with each other and how many times? \n",
    "\n",
    "```\n",
    "    0) Consumer Discretionary  \n",
    "    1) Consumer Staples  \n",
    "    2) Energy  \n",
    "    3) Financials\n",
    "    4) Health Care   \n",
    "    5) Industrials   \n",
    "    6) Information Technology   \n",
    "    7) Materials   \n",
    "    8) Real Estate   \n",
    "    9) Telecommunication Services   \n",
    "    10) Utilities  \n",
    "```\n"
   ]
  },
  {
   "cell_type": "code",
   "execution_count": 32,
   "metadata": {
    "ExecuteTime": {
     "end_time": "2018-08-29T21:43:02.319798Z",
     "start_time": "2018-08-29T21:43:02.268956Z"
    },
    "nbgrader": {
     "grade": false,
     "grade_id": "cell-67fa65ee294bbf52",
     "locked": false,
     "schema_version": 1,
     "solution": true
    }
   },
   "outputs": [],
   "source": [
    "def question_1():\n",
    "    #\n",
    "    # YOUR CODE HERE\n",
    "    #\n",
    "    \n",
    "    # We need to sum the amount of times that class C\n",
    "    # was confused with class D and vice-versa. This would give us\n",
    "    # an matrix, but since we don't need it, we can just store\n",
    "    # the biggest confusion count.\n",
    "    num_scen1 = 0\n",
    "    ans1 = ()\n",
    "    for i in range(0, param['num_class']):\n",
    "        for j in range(i, param['num_class']): # The matrix result would be symmetrical.\n",
    "            conf = confusion_matrix[i][j] + confusion_matrix[j][i]\n",
    "            if (conf > num_scen1):\n",
    "                num_scen1 = conf\n",
    "                ans1 = (i, j)\n",
    "    \n",
    "    # Converting types.\n",
    "    ans1 = [ans1]\n",
    "    num_scen1 = int(num_scen1)\n",
    "    return ans1, num_scen1 "
   ]
  },
  {
   "cell_type": "code",
   "execution_count": 33,
   "metadata": {
    "ExecuteTime": {
     "end_time": "2018-08-29T21:43:02.382975Z",
     "start_time": "2018-08-29T21:43:02.339950Z"
    },
    "nbgrader": {
     "grade": true,
     "grade_id": "cell-bf7603962387df88",
     "locked": true,
     "points": 0,
     "schema_version": 1,
     "solution": false
    }
   },
   "outputs": [
    {
     "name": "stdout",
     "output_type": "stream",
     "text": [
      "Most confusions between Industrials and Materials, 5 times.\n"
     ]
    }
   ],
   "source": [
    "ans1, num_scen1 = question_1()\n",
    "assert type(ans1) == list, \"Incorrect type\"\n",
    "assert type(ans1[0]) == tuple, \"Incorrect type\"\n",
    "assert type(ans1[0][0]) == int, \"Incorrect type\"\n",
    "assert type(num_scen1) == int, \"Incorrect type\"\n",
    "print(\"Most confusions between {0} and {1}, {2} times.\".format(\n",
    "    number2sectorName[ans1[0][0]],\n",
    "    number2sectorName[ans1[0][1]],\n",
    "    num_scen1))"
   ]
  },
  {
   "cell_type": "code",
   "execution_count": 34,
   "metadata": {
    "ExecuteTime": {
     "end_time": "2018-08-29T21:43:02.407244Z",
     "start_time": "2018-08-29T21:43:02.395760Z"
    },
    "nbgrader": {
     "grade": true,
     "grade_id": "ans1_to_compare",
     "locked": true,
     "points": 5,
     "schema_version": 1,
     "solution": false
    }
   },
   "outputs": [],
   "source": [
    "# Hidden tests here\n",
    "#\n",
    "# AUTOGRADER TEST - DO NOT REMOVE\n",
    "#\n"
   ]
  },
  {
   "cell_type": "code",
   "execution_count": 35,
   "metadata": {
    "ExecuteTime": {
     "end_time": "2018-08-29T21:43:02.436412Z",
     "start_time": "2018-08-29T21:43:02.424586Z"
    },
    "nbgrader": {
     "grade": true,
     "grade_id": "num_scen1",
     "locked": true,
     "points": 5,
     "schema_version": 1,
     "solution": false
    }
   },
   "outputs": [],
   "source": [
    "# Hidden tests here\n",
    "#\n",
    "# AUTOGRADER TEST - DO NOT REMOVE\n",
    "#\n"
   ]
  },
  {
   "cell_type": "markdown",
   "metadata": {
    "nbgrader": {
     "grade": false,
     "grade_id": "cell-85c8458857446214",
     "locked": true,
     "schema_version": 1,
     "solution": false
    }
   },
   "source": [
    "### Question 2\n",
    "We call a sector `s` \"diffuse\" if it is common for an example whose correct label is `s` to have another sector get the highest score while `s` gets the second to largest score.\n",
    "\n",
    "Which sectors `s` are the most diffuse? For how many examples does diffusion happen?\n",
    "\n",
    "```\n",
    "    0) Consumer Discretionary  \n",
    "    1) Consumer Staples  \n",
    "    2) Energy  \n",
    "    3) Financials\n",
    "    4) Health Care   \n",
    "    5) Industrials   \n",
    "    6) Information Technology   \n",
    "    7) Materials   \n",
    "    8) Real Estate   \n",
    "    9) Telecommunication Services   \n",
    "    10) Utilities  \n",
    "```\n",
    "\n",
    "**Format of answer**\n",
    "\n",
    "Your answer should have the following format:\n",
    "```python\n",
    "def question_2():\n",
    "    ans2 = <list of numbers>\n",
    "    num_scen2= <int>\n",
    "    return ans2,num_scen2\n",
    "```\n"
   ]
  },
  {
   "cell_type": "code",
   "execution_count": 36,
   "metadata": {
    "ExecuteTime": {
     "end_time": "2018-08-29T21:43:02.578167Z",
     "start_time": "2018-08-29T21:43:02.443079Z"
    },
    "nbgrader": {
     "grade": false,
     "grade_id": "cell-f235b17dc1f51626",
     "locked": false,
     "schema_version": 1,
     "solution": true
    }
   },
   "outputs": [],
   "source": [
    "def aux_Q2_and_Q3(matrix):\n",
    "    # We need to count the number of times which\n",
    "    # each class was confused. This is just the sum of each row\n",
    "    # after transposing the confusion_matrix. If you see the matrix\n",
    "    # building method, you will see that the correct label Y was\n",
    "    # the column parameter.\n",
    "    total_confusion = np.apply_along_axis(sum, 1, matrix) \n",
    "    print(total_confusion)\n",
    "    num_scenN = 0\n",
    "    for val in total_confusion:\n",
    "        if (val > num_scenN):\n",
    "            num_scenN = val\n",
    "    \n",
    "    ansN = []\n",
    "    for i in range(0, param['num_class']):\n",
    "        if (total_confusion[i] == num_scenN):\n",
    "            ansN.append(i)\n",
    "                      \n",
    "    # Converting types.\n",
    "    num_scenN = int(num_scenN)\n",
    "    \n",
    "    return ansN, num_scenN\n",
    "\n",
    "def question_2():\n",
    "    #\n",
    "    # YOUR CODE HERE\n",
    "    #\n",
    "    \n",
    "    # We need to count the number of times which\n",
    "    # each class was confused. This is just the sum of each row\n",
    "    # after transposing the confusion_matrix. If you see the matrix\n",
    "    # building method, you will see that the correct label Y was\n",
    "    # the column parameter.\n",
    "    return aux_Q2_and_Q3(confusion_matrix.transpose())"
   ]
  },
  {
   "cell_type": "code",
   "execution_count": 37,
   "metadata": {
    "ExecuteTime": {
     "end_time": "2018-08-29T21:43:02.655424Z",
     "start_time": "2018-08-29T21:43:02.598010Z"
    },
    "nbgrader": {
     "grade": true,
     "grade_id": "cell-3a56a331a146b70f",
     "locked": true,
     "points": 0,
     "schema_version": 1,
     "solution": false
    }
   },
   "outputs": [
    {
     "name": "stdout",
     "output_type": "stream",
     "text": [
      "[5 1 0 0 1 1 5 4 0 0 0]\n",
      "More diffusion (5 times) on classes:\n",
      "0 Consumer Discretionary\n",
      "6 Information Technology\n"
     ]
    }
   ],
   "source": [
    "ans2, num_scen2 = question_2()\n",
    "assert type(ans2) == list, \"Incorrect type\"\n",
    "assert type(ans2[0]) == int, \"Incorrect type\"\n",
    "assert type(num_scen2) == int, \"Incorrect type\"\n",
    "print(\"More diffusion ({0} times) on classes:\".format(num_scen2))\n",
    "for i in ans2:\n",
    "    print(i, number2sectorName[i])"
   ]
  },
  {
   "cell_type": "code",
   "execution_count": 38,
   "metadata": {
    "ExecuteTime": {
     "end_time": "2018-08-29T21:43:02.681278Z",
     "start_time": "2018-08-29T21:43:02.665260Z"
    },
    "nbgrader": {
     "grade": true,
     "grade_id": "ans2",
     "locked": true,
     "points": 5,
     "schema_version": 1,
     "solution": false
    }
   },
   "outputs": [],
   "source": [
    "# Hidden tests here\n",
    "#\n",
    "# AUTOGRADER TEST - DO NOT REMOVE\n",
    "#\n"
   ]
  },
  {
   "cell_type": "code",
   "execution_count": 39,
   "metadata": {
    "ExecuteTime": {
     "end_time": "2018-08-29T21:43:02.741984Z",
     "start_time": "2018-08-29T21:43:02.697012Z"
    },
    "nbgrader": {
     "grade": true,
     "grade_id": "num_scen2",
     "locked": true,
     "points": 5,
     "schema_version": 1,
     "solution": false
    }
   },
   "outputs": [],
   "source": [
    "# Hidden tests here\n",
    "#\n",
    "# AUTOGRADER TEST - DO NOT REMOVE\n",
    "#\n"
   ]
  },
  {
   "cell_type": "markdown",
   "metadata": {
    "nbgrader": {
     "grade": false,
     "grade_id": "cell-b14e32015cf9b095",
     "locked": true,
     "schema_version": 1,
     "solution": false
    }
   },
   "source": [
    "### Question 3\n",
    "\n",
    "Which sector(s) most often identified incorrectly? In other words, the sector recieves the highest score even though the sector with the second highest score is the correct sector. How many times does this happen for each of these sectors?\n",
    "```\n",
    "    0) Consumer Discretionary  \n",
    "    1) Consumer Staples  \n",
    "    2) Energy  \n",
    "    3) Financials\n",
    "    4) Health Care   \n",
    "    5) Industrials   \n",
    "    6) Information Technology   \n",
    "    7) Materials   \n",
    "    8) Real Estate   \n",
    "    9) Telecommunication Services   \n",
    "    10) Utilities  \n",
    "```\n",
    "\n",
    "**Format of answer**\n",
    "\n",
    "Your answer should have the following format:\n",
    "```python\n",
    "def question_3():\n",
    "    ans3 = <list of numbers>\n",
    "    num_scen3= <int>\n",
    "    return ans3,num_scen3\n",
    "```"
   ]
  },
  {
   "cell_type": "code",
   "execution_count": 40,
   "metadata": {
    "ExecuteTime": {
     "end_time": "2018-08-29T21:43:02.780509Z",
     "start_time": "2018-08-29T21:43:02.771461Z"
    },
    "nbgrader": {
     "grade": false,
     "grade_id": "cell-34137c196c5",
     "locked": false,
     "schema_version": 1,
     "solution": true
    }
   },
   "outputs": [],
   "source": [
    "def question_3():\n",
    "    #\n",
    "    # YOUR CODE HERE\n",
    "    #\n",
    "    # It is almost the same thing of question 2, but without\n",
    "    # transposing the matrix. Lets use the auxiliar method\n",
    "    # created on Q2.\n",
    "    \n",
    "    return aux_Q2_and_Q3(confusion_matrix)"
   ]
  },
  {
   "cell_type": "code",
   "execution_count": 41,
   "metadata": {
    "ExecuteTime": {
     "end_time": "2018-08-29T21:43:02.863288Z",
     "start_time": "2018-08-29T21:43:02.804756Z"
    },
    "nbgrader": {
     "grade": true,
     "grade_id": "cell-3aa146b70f",
     "locked": true,
     "points": 0,
     "schema_version": 1,
     "solution": false
    }
   },
   "outputs": [
    {
     "name": "stdout",
     "output_type": "stream",
     "text": [
      "[2 0 0 1 2 7 2 1 2 0 0]\n",
      "Classes most often identified incorrectly (7 times):\n",
      "5 Industrials\n"
     ]
    }
   ],
   "source": [
    "ans3, num_scen3 = question_3()\n",
    "assert type(ans3) == list, \"Incorrect type\"\n",
    "assert type(ans3[0]) == int, \"Incorrect type\"\n",
    "assert type(num_scen3) == int, \"Incorrect type\"\n",
    "print(\"Classes most often identified incorrectly ({0} times):\".format(num_scen3))\n",
    "for i in ans3:\n",
    "    print(i, number2sectorName[i])"
   ]
  },
  {
   "cell_type": "code",
   "execution_count": 42,
   "metadata": {
    "ExecuteTime": {
     "end_time": "2018-08-29T21:43:02.893363Z",
     "start_time": "2018-08-29T21:43:02.875060Z"
    },
    "nbgrader": {
     "grade": true,
     "grade_id": "ans3",
     "locked": true,
     "points": 5,
     "schema_version": 1,
     "solution": false
    }
   },
   "outputs": [],
   "source": [
    "# Hidden tests here\n",
    "#\n",
    "# AUTOGRADER TEST - DO NOT REMOVE\n",
    "#\n"
   ]
  },
  {
   "cell_type": "code",
   "execution_count": 43,
   "metadata": {
    "ExecuteTime": {
     "end_time": "2018-08-29T21:43:02.927478Z",
     "start_time": "2018-08-29T21:43:02.908932Z"
    },
    "nbgrader": {
     "grade": true,
     "grade_id": "num_scen3",
     "locked": true,
     "points": 5,
     "schema_version": 1,
     "solution": false
    }
   },
   "outputs": [],
   "source": [
    "# Hidden tests here\n",
    "#\n",
    "# AUTOGRADER TEST - DO NOT REMOVE\n",
    "#\n"
   ]
  },
  {
   "cell_type": "markdown",
   "metadata": {
    "nbgrader": {
     "grade": false,
     "grade_id": "cell-f83c4f45ece367e2",
     "locked": true,
     "schema_version": 1,
     "solution": false
    }
   },
   "source": [
    "### Note for question 4 and 5\n",
    "**Note**: The next two questions require you to generate a different confusion matrix. Instead of relying on the matrix above, you should write your own code to find the answers to the questions.\n"
   ]
  },
  {
   "cell_type": "markdown",
   "metadata": {
    "nbgrader": {
     "grade": false,
     "grade_id": "cell-c173a5759f316028",
     "locked": true,
     "schema_version": 1,
     "solution": false
    }
   },
   "source": [
    "### Question 4\n",
    "\n",
    "Which category/categories is/are never identified? In other words, which category/categories are never predicted as the top prediction?\n",
    "```\n",
    "    0) Consumer Discretionary  \n",
    "    1) Consumer Staples  \n",
    "    2) Energy  \n",
    "    3) Financials\n",
    "    4) Health Care   \n",
    "    5) Industrials   \n",
    "    6) Information Technology   \n",
    "    7) Materials   \n",
    "    8) Real Estate   \n",
    "    9) Telecommunication Services   \n",
    "    10) Utilities  \n",
    "```\n",
    "\n",
    "**Format of answer**\n",
    "\n",
    "Your answer should have the following format:\n",
    "```python\n",
    "def question_4():\n",
    "    ans4 = <list of numbers>\n",
    "    return ans4\n",
    "```"
   ]
  },
  {
   "cell_type": "code",
   "execution_count": 44,
   "metadata": {
    "ExecuteTime": {
     "end_time": "2018-08-29T21:43:03.025050Z",
     "start_time": "2018-08-29T21:43:02.949855Z"
    },
    "nbgrader": {
     "grade": false,
     "grade_id": "cell-34137c1c5",
     "locked": false,
     "schema_version": 1,
     "solution": true
    }
   },
   "outputs": [],
   "source": [
    "def question_4():\n",
    "    #\n",
    "    # YOUR CODE HERE\n",
    "    #\n",
    "    # Classes which aren't identified as the top prediction\n",
    "    # shouldn't appear on the predictions_valid array.\n",
    "    # We can solve this with like a counting sort.\n",
    "    count = [0] * param['num_class']\n",
    "    for i in predictions_valid:\n",
    "        count[i] = count[i] + 1\n",
    "        \n",
    "    ans4 = []    \n",
    "    for i in range(0, param['num_class']):\n",
    "        if(count[i] == 0):\n",
    "            ans4.append(i)\n",
    "    \n",
    "    print(count)\n",
    "    return ans4"
   ]
  },
  {
   "cell_type": "code",
   "execution_count": 45,
   "metadata": {
    "ExecuteTime": {
     "end_time": "2018-08-29T21:43:03.097792Z",
     "start_time": "2018-08-29T21:43:03.046926Z"
    },
    "nbgrader": {
     "grade": true,
     "grade_id": "cell-3aa146b7lkbn0f",
     "locked": true,
     "points": 0,
     "schema_version": 1,
     "solution": false
    }
   },
   "outputs": [
    {
     "name": "stdout",
     "output_type": "stream",
     "text": [
      "[14, 12, 9, 16, 15, 15, 18, 5, 5, 0, 9]\n",
      "Classes never predicted as the top prediction:\n",
      "9 Telecommunication Services\n"
     ]
    }
   ],
   "source": [
    "ans4 = question_4()\n",
    "assert type(ans4) == list, \"Incorrect type\"\n",
    "assert type(ans4[0]) == int, \"Incorrect type\"\n",
    "print(\"Classes never predicted as the top prediction:\")\n",
    "for i in ans4:\n",
    "    print(i, number2sectorName[i])"
   ]
  },
  {
   "cell_type": "code",
   "execution_count": 46,
   "metadata": {
    "ExecuteTime": {
     "end_time": "2018-08-29T21:43:03.128104Z",
     "start_time": "2018-08-29T21:43:03.105254Z"
    },
    "nbgrader": {
     "grade": true,
     "grade_id": "ans4",
     "locked": true,
     "points": 5,
     "schema_version": 1,
     "solution": false
    }
   },
   "outputs": [],
   "source": [
    "# Hidden tests here\n",
    "#\n",
    "# AUTOGRADER TEST - DO NOT REMOVE\n",
    "#\n"
   ]
  },
  {
   "cell_type": "markdown",
   "metadata": {
    "nbgrader": {
     "grade": false,
     "grade_id": "cell-f9ee96fe2999445d",
     "locked": true,
     "schema_version": 1,
     "solution": false
    }
   },
   "source": [
    "### Question 5\n",
    "\n",
    "Which sector(s) is/are most often missed while classifying? In other words, find the sector for which there is the largest number of examples such that the correct label does not appear as the top prediction.\n",
    "\n",
    "\n",
    "```\n",
    "    0) Consumer Discretionary  \n",
    "    1) Consumer Staples  \n",
    "    2) Energy  \n",
    "    3) Financials\n",
    "    4) Health Care   \n",
    "    5) Industrials   \n",
    "    6) Information Technology   \n",
    "    7) Materials   \n",
    "    8) Real Estate   \n",
    "    9) Telecommunication Services   \n",
    "    10) Utilities  \n",
    "```\n",
    "\n",
    "**Format of answer**\n",
    "\n",
    "Your answer should have the following format:\n",
    "```python\n",
    "def question_5():\n",
    "    ans5 = <list of numbers>\n",
    "    num_scen5= <int>\n",
    "    return ans5,num_scen5\n",
    "```"
   ]
  },
  {
   "cell_type": "code",
   "execution_count": 47,
   "metadata": {
    "ExecuteTime": {
     "end_time": "2018-08-29T21:43:03.257501Z",
     "start_time": "2018-08-29T21:43:03.154311Z"
    },
    "nbgrader": {
     "grade": false,
     "grade_id": "cell-34vd137c1c5",
     "locked": false,
     "schema_version": 1,
     "solution": true
    }
   },
   "outputs": [],
   "source": [
    "def question_5():\n",
    "    #\n",
    "    # YOUR CODE HERE\n",
    "    #\n",
    "    # We would just need to find the smallest ratio for each class\n",
    "    # if the question was about the class which we have more probability to miss:\n",
    "    # ratioClass = number of correct predictions on class / number of labels on class.\n",
    "    # However, it wants the absolute number, so we just need to calculate the delta.\n",
    "\n",
    "    totalCorrPerClass = [0] * param['num_class']\n",
    "    totalLabelsPerClass = [0] * param['num_class']\n",
    "    for pred, y in zip(predictions_valid, y_valid):\n",
    "        totalLabelsPerClass[y] = totalLabelsPerClass[y] + 1\n",
    "        if (pred == y):\n",
    "            totalCorrPerClass[y] = totalCorrPerClass[y] + 1\n",
    "            \n",
    "    print(totalCorrPerClass)\n",
    "    print(totalLabelsPerClass)\n",
    "    print(sum(totalLabelsPerClass))\n",
    "    \n",
    "    # Calculating ratio for each class.\n",
    "    auxArray = []\n",
    "    num_scen5 = 0\n",
    "    delta = 0\n",
    "    for i in range(0, param['num_class']):\n",
    "        if (totalLabelsPerClass[i] == 0):\n",
    "            auxArray.append(0)\n",
    "            continue\n",
    "        \n",
    "        auxArray.append(totalLabelsPerClass[i] - totalCorrPerClass[i])\n",
    "        if (totalLabelsPerClass[i] != 0 and delta < auxArray[i]):\n",
    "            delta = auxArray[i]\n",
    "            num_scen5 = totalCorrPerClass[i]\n",
    "    \n",
    "    # Finding classes with smallest ratio.\n",
    "    ans5 = []\n",
    "    for i in range(0, param['num_class']):\n",
    "        if (auxArray[i] == delta):\n",
    "            ans5.append(i)\n",
    "    \n",
    "    return ans5, num_scen5 "
   ]
  },
  {
   "cell_type": "code",
   "execution_count": 48,
   "metadata": {
    "ExecuteTime": {
     "end_time": "2018-08-29T21:43:03.321358Z",
     "start_time": "2018-08-29T21:43:03.270224Z"
    },
    "nbgrader": {
     "grade": true,
     "grade_id": "cell-3aa146bsdv7lkbn0f",
     "locked": true,
     "points": 0,
     "schema_version": 1,
     "solution": false
    }
   },
   "outputs": [
    {
     "name": "stdout",
     "output_type": "stream",
     "text": [
      "[9, 7, 9, 14, 11, 8, 14, 2, 2, 0, 9]\n",
      "[17, 10, 9, 14, 12, 15, 22, 6, 2, 1, 10]\n",
      "118\n",
      "The sector(s) which are most often missed while classifying:\n",
      "0 Consumer Discretionary\n",
      "6 Information Technology\n",
      "Number of errors found: 9.\n"
     ]
    }
   ],
   "source": [
    "ans5, num_scen5 = question_5()\n",
    "assert type(ans5) == list, \"Incorrect type\"\n",
    "assert type(num_scen5) == int, \"Incorrect type\"\n",
    "\n",
    "print(\"The sector(s) which are most often missed while classifying:\")\n",
    "for i in ans5:\n",
    "    print(i, number2sectorName[i])\n",
    "    \n",
    "print(\"Number of errors found: {0}.\".format(num_scen5))"
   ]
  },
  {
   "cell_type": "code",
   "execution_count": 49,
   "metadata": {
    "ExecuteTime": {
     "end_time": "2018-08-29T21:43:03.347922Z",
     "start_time": "2018-08-29T21:43:03.336051Z"
    },
    "nbgrader": {
     "grade": true,
     "grade_id": "ans5",
     "locked": true,
     "points": 5,
     "schema_version": 1,
     "solution": false
    }
   },
   "outputs": [],
   "source": [
    "# Hidden tests here\n",
    "#\n",
    "# AUTOGRADER TEST - DO NOT REMOVE\n",
    "#\n"
   ]
  },
  {
   "cell_type": "code",
   "execution_count": 50,
   "metadata": {
    "ExecuteTime": {
     "end_time": "2018-08-29T21:43:03.377959Z",
     "start_time": "2018-08-29T21:43:03.366943Z"
    },
    "nbgrader": {
     "grade": true,
     "grade_id": "num_scen5",
     "locked": true,
     "points": 5,
     "schema_version": 1,
     "solution": false
    }
   },
   "outputs": [],
   "source": [
    "# Hidden tests here\n",
    "#\n",
    "# AUTOGRADER TEST - DO NOT REMOVE\n",
    "#\n"
   ]
  },
  {
   "cell_type": "markdown",
   "metadata": {
    "nbgrader": {
     "grade": false,
     "grade_id": "cell-8be61fc0d1cb930e",
     "locked": true,
     "schema_version": 1,
     "solution": false
    }
   },
   "source": [
    "## Test set\n",
    "\n",
    "List the pair of top two sectors for each test ticker.\n",
    "Based on your validation results, estimate:\n",
    "1. ** Accuracy1:** What is the frequency in which the correct sector is the first element in the pair.\n",
    "2. ** Accuracy2:** What is the frequency in which the correct sector is in the pair."
   ]
  },
  {
   "cell_type": "markdown",
   "metadata": {
    "nbgrader": {
     "grade": false,
     "grade_id": "cell-67dd196da88a39af",
     "locked": true,
     "schema_version": 1,
     "solution": false
    }
   },
   "source": [
    "### Generating test scores\n",
    "\n",
    "The function <font color=\"blue\">get_margin_scores_test</font> is used to predict the sector for each of the given test samples. Split the input data into train and validation in different ways and average the prediction scores over a number of iterations. You can experiment with the number, but you will need to ensure you remain under the time limit. (This should not take you more than a minute)\n",
    "\n",
    "We estimate the predictions on the validation and the test set, compute the accuracy on the validation set and report the test predictions with the validation accuracy. In this scenario, we report the average top1 and top2 accuracy.\n",
    "\n",
    "**<font color=\"magenta\" size=2>Input</font>**\n",
    "<br>\n",
    "1. **Input data** (X)\n",
    "2. **Test data** (X_test)\n",
    "3. **Input labels** (y)\n",
    "4. **XGBoost Parameter List** (param)\n",
    "\n",
    "\n",
    "**<font color=\"blue\" size=2>Output</font>**\n",
    "<br>\n",
    "Return the following:\n",
    "1. **y_pred_test**: The raw output scores for the test set\n",
    "2. **top1_acc**: Top 1 accuracy on the validation set\n",
    "3. **top2_acc**: Top 2 accuracy on the validation set\n",
    "\n",
    "\n",
    "**Note**:\n",
    "1. You can reuse/call the <font color=\"blue\">get_margin_scores</font> function or rewrite it in this function.\n",
    "2. Instructions for the <font color=\"blue\">get_margin_scores</font> apply for this too."
   ]
  },
  {
   "cell_type": "code",
   "execution_count": 51,
   "metadata": {
    "ExecuteTime": {
     "end_time": "2018-08-29T21:43:03.596622Z",
     "start_time": "2018-08-29T21:43:03.394431Z"
    },
    "nbgrader": {
     "grade": false,
     "grade_id": "cell-396107076b2ccef8",
     "locked": false,
     "schema_version": 1,
     "solution": true
    }
   },
   "outputs": [],
   "source": [
    "def get_acc_valid(X_train, X_valid, y_train, y_valid, param):\n",
    "    #\n",
    "    # YOUR CODE HERE\n",
    "    # \n",
    "    # Train the model with train data and get validation predictions.\n",
    "    y_pred_valid = get_margin_scores(X_train, X_valid, y_train, param)    \n",
    "    top1_acc = 0\n",
    "    top2_acc = 0\n",
    "    top1Index = param['num_class'] - 1\n",
    "    top2Index = top1Index - 1\n",
    "    \n",
    "    # Calculating validation set accuracy.\n",
    "    for row, correctLabel in zip(y_pred_valid, y_valid):\n",
    "        # We get an index array sorted by the element indexed by each one.\n",
    "        orderedPred = row.argsort()  \n",
    "        if (correctLabel == orderedPred[top1Index]):\n",
    "            top1_acc = top1_acc + 1  \n",
    "        elif (correctLabel == orderedPred[top2Index]):\n",
    "            top2_acc = top2_acc + 1\n",
    "            \n",
    "    # Since Top2_acc is the sum of correct first and second predictions,\n",
    "    # we should sum then at the end.\n",
    "    top2_acc = top2_acc + top1_acc\n",
    "      \n",
    "    # Finally we calculate them.\n",
    "    totalLabels = len(y_valid)\n",
    "    top1_acc = top1_acc / totalLabels\n",
    "    top2_acc = top2_acc / totalLabels\n",
    "            \n",
    "    return top1_acc, top2_acc\n",
    "\n",
    "def get_margin_scores_test(X, X_test, y, param):\n",
    "    num_validations = 40\n",
    "\n",
    "    # Lets get an average value of the validation scores.\n",
    "    top1_acc = 0\n",
    "    top2_acc = 0\n",
    "    for i in range(0, num_validations):\n",
    "        # random_state = None means to use default Random Number generator.\n",
    "        # We could also use sklearn's KFold method to do a cross-validation\n",
    "        # instead of create a random split per iteration.\n",
    "        X_train, X_valid, y_train, y_valid = train_test_split(X, y, test_size=0.30, random_state=None)\n",
    "        top1, top2 = get_acc_valid(X_train, X_valid, y_train, y_valid, param)\n",
    "        top1_acc = top1_acc + top1\n",
    "        top2_acc = top2_acc + top2\n",
    "        \n",
    "    top1_acc = top1_acc / num_validations\n",
    "    top2_acc = top2_acc / num_validations\n",
    "    \n",
    "    # After getting a good idea of the accuracy based\n",
    "    # on our parameters we can predict the test data.\n",
    "    y_pred_test = get_margin_scores(X, X_test, y, param)    \n",
    "    return y_pred_test, top1_acc, top2_acc"
   ]
  },
  {
   "cell_type": "code",
   "execution_count": 52,
   "metadata": {
    "ExecuteTime": {
     "end_time": "2018-08-29T21:44:03.299029Z",
     "start_time": "2018-08-29T21:43:03.608091Z"
    },
    "nbgrader": {
     "grade": false,
     "grade_id": "cell-5c19dfa7332f28e5",
     "locked": true,
     "schema_version": 1,
     "solution": false
    }
   },
   "outputs": [
    {
     "name": "stdout",
     "output_type": "stream",
     "text": [
      "Top 1 Accuracy: 75.40254237288136%.\n",
      "Top 2 Accuracy: 87.39406779661017%.\n"
     ]
    }
   ],
   "source": [
    "y_pred_test, top1_acc, top2_acc = get_margin_scores_test(X, X_test, y, param)\n",
    "print(\"Top 1 Accuracy: {0}%.\".format(top1_acc * 100))\n",
    "print(\"Top 2 Accuracy: {0}%.\".format(top2_acc * 100))"
   ]
  },
  {
   "cell_type": "code",
   "execution_count": 53,
   "metadata": {
    "ExecuteTime": {
     "end_time": "2018-08-29T21:44:03.333488Z",
     "start_time": "2018-08-29T21:44:03.302479Z"
    },
    "nbgrader": {
     "grade": true,
     "grade_id": "cell-4c7bb5430759629b",
     "locked": true,
     "points": 0,
     "schema_version": 1,
     "solution": false
    }
   },
   "outputs": [],
   "source": [
    "assert type(y_pred_test) == np.ndarray, \"\"\n",
    "assert y_pred_test.shape == (89, 11)"
   ]
  },
  {
   "cell_type": "code",
   "execution_count": 54,
   "metadata": {
    "ExecuteTime": {
     "end_time": "2018-08-29T21:44:03.377480Z",
     "start_time": "2018-08-29T21:44:03.365565Z"
    },
    "nbgrader": {
     "grade": true,
     "grade_id": "min_max_y2_test",
     "locked": true,
     "points": 2,
     "schema_version": 1,
     "solution": false
    }
   },
   "outputs": [],
   "source": [
    "# Hidden tests here\n",
    "#\n",
    "# AUTOGRADER TEST - DO NOT REMOVE\n",
    "#\n"
   ]
  },
  {
   "cell_type": "code",
   "execution_count": 55,
   "metadata": {
    "ExecuteTime": {
     "end_time": "2018-08-29T21:44:03.450017Z",
     "start_time": "2018-08-29T21:44:03.404529Z"
    },
    "nbgrader": {
     "grade": true,
     "grade_id": "min_max_y15_test",
     "locked": true,
     "points": 2,
     "schema_version": 1,
     "solution": false
    }
   },
   "outputs": [],
   "source": [
    "# Hidden tests here\n",
    "#\n",
    "# AUTOGRADER TEST - DO NOT REMOVE\n",
    "#\n"
   ]
  },
  {
   "cell_type": "code",
   "execution_count": 56,
   "metadata": {
    "ExecuteTime": {
     "end_time": "2018-08-29T21:44:03.488389Z",
     "start_time": "2018-08-29T21:44:03.478824Z"
    },
    "nbgrader": {
     "grade": true,
     "grade_id": "min_max_y_test",
     "locked": true,
     "points": 3,
     "schema_version": 1,
     "solution": false
    }
   },
   "outputs": [],
   "source": [
    "# Hidden tests here\n",
    "#\n",
    "# AUTOGRADER TEST - DO NOT REMOVE\n",
    "#\n"
   ]
  },
  {
   "cell_type": "markdown",
   "metadata": {
    "nbgrader": {
     "grade": false,
     "grade_id": "cell-a356322bc009212b",
     "locked": true,
     "schema_version": 1,
     "solution": false
    }
   },
   "source": [
    "### Computing the sector predictions\n",
    "\n",
    "**Note**: This section is not evaluated. This is merely to see your predictions on the test set and report the top1 and top2 accuracy"
   ]
  },
  {
   "cell_type": "code",
   "execution_count": 57,
   "metadata": {
    "ExecuteTime": {
     "end_time": "2018-08-29T21:44:03.615454Z",
     "start_time": "2018-08-29T21:44:03.508498Z"
    },
    "nbgrader": {
     "grade": false,
     "grade_id": "cell-1f48f3c5accd241f",
     "locked": true,
     "schema_version": 1,
     "solution": false
    },
    "scrolled": true
   },
   "outputs": [
    {
     "name": "stdout",
     "output_type": "stream",
     "text": [
      "   Test ID                 Top prediction          Second Top prediction\n",
      "         0                      Utilities     Telecommunication Services\n",
      "        10         Information Technology                         Energy\n",
      "        11                      Materials                    Real Estate\n",
      "        12                      Materials                    Industrials\n",
      "        13         Consumer Discretionary                    Real Estate\n",
      "        14                     Financials         Consumer Discretionary\n",
      "        15         Consumer Discretionary         Information Technology\n",
      "        16         Information Technology                    Industrials\n",
      "        17                         Energy         Consumer Discretionary\n",
      "        18                         Energy         Consumer Discretionary\n",
      "        19                         Energy                    Health Care\n",
      "         1                     Financials               Consumer Staples\n",
      "        20               Consumer Staples         Information Technology\n",
      "        21                    Industrials                      Materials\n",
      "        22         Consumer Discretionary         Information Technology\n",
      "        23                     Financials     Telecommunication Services\n",
      "        24                    Industrials                      Materials\n",
      "        25         Consumer Discretionary         Information Technology\n",
      "        26                     Financials         Information Technology\n",
      "        27                    Industrials                      Materials\n",
      "        28         Consumer Discretionary         Information Technology\n",
      "        29         Information Technology                      Utilities\n",
      "         2                    Health Care         Consumer Discretionary\n",
      "        30                      Materials                    Industrials\n",
      "        31                      Materials                    Real Estate\n",
      "        32         Consumer Discretionary                     Financials\n",
      "        33         Information Technology                     Financials\n",
      "        34                      Utilities               Consumer Staples\n",
      "        35                     Financials                    Industrials\n",
      "        36                     Financials         Consumer Discretionary\n",
      "        37                         Energy         Information Technology\n",
      "        38         Consumer Discretionary               Consumer Staples\n",
      "        39                         Energy                      Materials\n",
      "         3         Information Technology                         Energy\n",
      "        40               Consumer Staples         Consumer Discretionary\n",
      "        41                     Financials         Information Technology\n",
      "        42                    Health Care                    Industrials\n",
      "        43                    Industrials                      Materials\n",
      "        44         Information Technology     Telecommunication Services\n",
      "        45                     Financials                    Health Care\n",
      "        46         Consumer Discretionary                     Financials\n",
      "        47                    Health Care         Consumer Discretionary\n",
      "        48               Consumer Staples                    Health Care\n",
      "        49                    Industrials                      Materials\n",
      "         4                     Financials                    Health Care\n",
      "        50         Information Technology     Telecommunication Services\n",
      "        51         Consumer Discretionary         Information Technology\n",
      "        52         Consumer Discretionary                    Real Estate\n",
      "        53               Consumer Staples                    Health Care\n",
      "        54         Information Technology         Consumer Discretionary\n",
      "        55                         Energy         Consumer Discretionary\n",
      "        56         Information Technology                         Energy\n",
      "        57                    Real Estate         Consumer Discretionary\n",
      "        58               Consumer Staples                     Financials\n",
      "        59                         Energy         Consumer Discretionary\n",
      "         5                    Health Care         Consumer Discretionary\n",
      "        60         Consumer Discretionary               Consumer Staples\n",
      "        61                         Energy               Consumer Staples\n",
      "        62                    Industrials                    Health Care\n",
      "        63         Consumer Discretionary                    Industrials\n",
      "        64                         Energy         Consumer Discretionary\n",
      "        65                     Financials                    Health Care\n",
      "        66                      Utilities     Telecommunication Services\n",
      "        67         Consumer Discretionary         Information Technology\n",
      "        68                    Health Care         Consumer Discretionary\n",
      "        69               Consumer Staples         Consumer Discretionary\n",
      "         6                         Energy         Consumer Discretionary\n",
      "        70                         Energy               Consumer Staples\n",
      "        71               Consumer Staples         Consumer Discretionary\n",
      "        72                      Utilities     Telecommunication Services\n",
      "        73                      Materials                    Health Care\n",
      "        74         Information Technology                         Energy\n",
      "        75         Information Technology                         Energy\n",
      "        76                    Industrials                    Health Care\n",
      "        77               Consumer Staples         Consumer Discretionary\n",
      "        78                    Industrials         Consumer Discretionary\n",
      "        79         Consumer Discretionary                    Industrials\n",
      "         7         Information Technology                     Financials\n",
      "        80         Consumer Discretionary                    Industrials\n",
      "        81                      Materials                    Industrials\n",
      "        82                      Materials                    Industrials\n",
      "        83                    Industrials                    Health Care\n",
      "        84                    Health Care               Consumer Staples\n",
      "        85                      Materials                    Industrials\n",
      "        86         Consumer Discretionary                         Energy\n",
      "        87                      Materials                    Industrials\n",
      "        88                         Energy               Consumer Staples\n",
      "         8                      Utilities     Telecommunication Services\n",
      "         9         Consumer Discretionary                    Industrials\n",
      "\n",
      "\n",
      "\n",
      "Top 1 accuracy: 75.40254237288136 %\n",
      "\n",
      "Top 2 accuracy: 87.39406779661017 %\n"
     ]
    }
   ],
   "source": [
    "predictions1, predictions5 = get_predictions(y_pred_test) #This line will fail if get_predictions is not defined\n",
    "i=0\n",
    "print(\"%10s\" % \"Test ID\", \"%30s\" % \"Top prediction\", \"%30s\" % \"Second Top prediction\")\n",
    "for entry in predictions5[:, :2]:\n",
    "    print(\"%10s\" % test_nos[i], \"%30s\" % number2sectorName[entry[0]], \"%30s\" % number2sectorName[entry[1]])\n",
    "    i += 1\n",
    "top1_acc_perc = top1_acc*100\n",
    "top2_acc_perc = top2_acc*100\n",
    "print(\"\\n\\n\\nTop 1 accuracy: %s\" % top1_acc_perc, \"%\")\n",
    "print(\"\\nTop 2 accuracy: %s\" % top2_acc_perc, \"%\")"
   ]
  },
  {
   "cell_type": "markdown",
   "metadata": {},
   "source": [
    "Total 90 points."
   ]
  }
 ],
 "metadata": {
  "hide_input": false,
  "kernelspec": {
   "display_name": "Python 3",
   "language": "python",
   "name": "python3"
  },
  "language_info": {
   "codemirror_mode": {
    "name": "ipython",
    "version": 3
   },
   "file_extension": ".py",
   "mimetype": "text/x-python",
   "name": "python",
   "nbconvert_exporter": "python",
   "pygments_lexer": "ipython3",
   "version": "3.6.5"
  },
  "toc": {
   "base_numbering": 1,
   "nav_menu": [],
   "number_sections": true,
   "sideBar": true,
   "skip_h1_title": false,
   "title_cell": "Table of Contents",
   "title_sidebar": "Contents",
   "toc_cell": false,
   "toc_position": [],
   "toc_section_display": true,
   "toc_window_display": true
  },
  "varInspector": {
   "cols": {
    "lenName": 16,
    "lenType": 16,
    "lenVar": 40
   },
   "kernels_config": {
    "python": {
     "delete_cmd_postfix": "",
     "delete_cmd_prefix": "del ",
     "library": "var_list.py",
     "varRefreshCmd": "print(var_dic_list())"
    },
    "r": {
     "delete_cmd_postfix": ") ",
     "delete_cmd_prefix": "rm(",
     "library": "var_list.r",
     "varRefreshCmd": "cat(var_dic_list()) "
    }
   },
   "types_to_exclude": [
    "module",
    "function",
    "builtin_function_or_method",
    "instance",
    "_Feature"
   ],
   "window_display": false
  }
 },
 "nbformat": 4,
 "nbformat_minor": 2
}
